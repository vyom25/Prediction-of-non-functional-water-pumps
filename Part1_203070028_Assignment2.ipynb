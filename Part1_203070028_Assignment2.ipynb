{
  "nbformat": 4,
  "nbformat_minor": 0,
  "metadata": {
    "colab": {
      "name": "Part1_203070028_Assignment2.ipynb",
      "provenance": [],
      "collapsed_sections": []
    },
    "kernelspec": {
      "display_name": "Python 3",
      "name": "python3"
    }
  },
  "cells": [
    {
      "cell_type": "markdown",
      "metadata": {
        "id": "2jjKYFbTBRui"
      },
      "source": [
        "#EE769 Assignment 2(Part1)\n",
        "\n",
        "##Vyomkesh Chaudhary\n",
        "##203070028"
      ]
    },
    {
      "cell_type": "markdown",
      "metadata": {
        "id": "0EEJe9kdxdNJ"
      },
      "source": [
        "# In Part1 colab file i have done (1) and (2)\n",
        "# In Part2 Colab file i have done (3) and (4)\n",
        "# IN Part3 Colab file i have done (5),(6) and (7)"
      ]
    },
    {
      "cell_type": "code",
      "metadata": {
        "id": "AhTquh16-EgP"
      },
      "source": [
        "import numpy as np                                      ##importing libraries\n",
        "import pandas as pd\n",
        "import seaborn as sns\n",
        "import matplotlib.pyplot as plt"
      ],
      "execution_count": null,
      "outputs": []
    },
    {
      "cell_type": "markdown",
      "metadata": {
        "id": "VpfSGCOVn8kP"
      },
      "source": [
        "##Reading Datasets"
      ]
    },
    {
      "cell_type": "code",
      "metadata": {
        "colab": {
          "resources": {
            "http://localhost:8080/nbextensions/google.colab/files.js": {
              "data": "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",
              "ok": true,
              "headers": [
                [
                  "content-type",
                  "application/javascript"
                ]
              ],
              "status": 200,
              "status_text": ""
            }
          },
          "base_uri": "https://localhost:8080/",
          "height": 515
        },
        "id": "LMYqp73eBcxE",
        "outputId": "1d54c6f9-39f1-442b-a9f4-702eb3a0a91f"
      },
      "source": [
        "from google.colab import files\n",
        "\n",
        "data_upload = files.upload()\n",
        "\n",
        "for file_name in data_upload.keys():\n",
        "  print(f\"{file_name} has been uploaded, with length {len(data_upload[file_name])}\")"
      ],
      "execution_count": null,
      "outputs": [
        {
          "output_type": "display_data",
          "data": {
            "text/html": [
              "\n",
              "     <input type=\"file\" id=\"files-f226140a-7815-4606-96e7-0ce3de72c9bf\" name=\"files[]\" multiple disabled\n",
              "        style=\"border:none\" />\n",
              "     <output id=\"result-f226140a-7815-4606-96e7-0ce3de72c9bf\">\n",
              "      Upload widget is only available when the cell has been executed in the\n",
              "      current browser session. Please rerun this cell to enable.\n",
              "      </output>\n",
              "      <script src=\"/nbextensions/google.colab/files.js\"></script> "
            ],
            "text/plain": [
              "<IPython.core.display.HTML object>"
            ]
          },
          "metadata": {
            "tags": []
          }
        },
        {
          "output_type": "stream",
          "text": [
            "Saving test.csv to test.csv\n",
            "Saving Train.csv to Train.csv\n",
            "test.csv has been uploaded, with length 5095968\n",
            "Train.csv has been uploaded, with length 15641512\n"
          ],
          "name": "stdout"
        },
        {
          "output_type": "display_data",
          "data": {
            "text/html": [
              "\n",
              "     <input type=\"file\" id=\"files-db34090e-79a2-4dc1-b78e-845b1b2bbf42\" name=\"files[]\" multiple disabled\n",
              "        style=\"border:none\" />\n",
              "     <output id=\"result-db34090e-79a2-4dc1-b78e-845b1b2bbf42\">\n",
              "      Upload widget is only available when the cell has been executed in the\n",
              "      current browser session. Please rerun this cell to enable.\n",
              "      </output>\n",
              "      <script src=\"/nbextensions/google.colab/files.js\"></script> "
            ],
            "text/plain": [
              "<IPython.core.display.HTML object>"
            ]
          },
          "metadata": {
            "tags": []
          }
        },
        {
          "output_type": "error",
          "ename": "KeyboardInterrupt",
          "evalue": "ignored",
          "traceback": [
            "\u001b[0;31m---------------------------------------------------------------------------\u001b[0m",
            "\u001b[0;31mKeyboardInterrupt\u001b[0m                         Traceback (most recent call last)",
            "\u001b[0;32m<ipython-input-5-85f419527a99>\u001b[0m in \u001b[0;36m<module>\u001b[0;34m()\u001b[0m\n\u001b[1;32m      1\u001b[0m \u001b[0;32mfrom\u001b[0m \u001b[0mgoogle\u001b[0m\u001b[0;34m.\u001b[0m\u001b[0mcolab\u001b[0m \u001b[0;32mimport\u001b[0m \u001b[0mfiles\u001b[0m\u001b[0;34m\u001b[0m\u001b[0;34m\u001b[0m\u001b[0m\n\u001b[1;32m      2\u001b[0m \u001b[0;34m\u001b[0m\u001b[0m\n\u001b[0;32m----> 3\u001b[0;31m \u001b[0mdata_upload\u001b[0m \u001b[0;34m=\u001b[0m \u001b[0mfiles\u001b[0m\u001b[0;34m.\u001b[0m\u001b[0mupload\u001b[0m\u001b[0;34m(\u001b[0m\u001b[0;34m)\u001b[0m\u001b[0;34m\u001b[0m\u001b[0;34m\u001b[0m\u001b[0m\n\u001b[0m\u001b[1;32m      4\u001b[0m \u001b[0;34m\u001b[0m\u001b[0m\n\u001b[1;32m      5\u001b[0m \u001b[0;32mfor\u001b[0m \u001b[0mfile_name\u001b[0m \u001b[0;32min\u001b[0m \u001b[0mdata_upload\u001b[0m\u001b[0;34m.\u001b[0m\u001b[0mkeys\u001b[0m\u001b[0;34m(\u001b[0m\u001b[0;34m)\u001b[0m\u001b[0;34m:\u001b[0m\u001b[0;34m\u001b[0m\u001b[0;34m\u001b[0m\u001b[0m\n",
            "\u001b[0;32m/usr/local/lib/python3.7/dist-packages/google/colab/files.py\u001b[0m in \u001b[0;36mupload\u001b[0;34m()\u001b[0m\n\u001b[1;32m     62\u001b[0m   result = _output.eval_js(\n\u001b[1;32m     63\u001b[0m       'google.colab._files._uploadFiles(\"{input_id}\", \"{output_id}\")'.format(\n\u001b[0;32m---> 64\u001b[0;31m           input_id=input_id, output_id=output_id))\n\u001b[0m\u001b[1;32m     65\u001b[0m   \u001b[0mfiles\u001b[0m \u001b[0;34m=\u001b[0m \u001b[0m_collections\u001b[0m\u001b[0;34m.\u001b[0m\u001b[0mdefaultdict\u001b[0m\u001b[0;34m(\u001b[0m\u001b[0m_six\u001b[0m\u001b[0;34m.\u001b[0m\u001b[0mbinary_type\u001b[0m\u001b[0;34m)\u001b[0m\u001b[0;34m\u001b[0m\u001b[0;34m\u001b[0m\u001b[0m\n\u001b[1;32m     66\u001b[0m   \u001b[0;31m# Mapping from original filename to filename as saved locally.\u001b[0m\u001b[0;34m\u001b[0m\u001b[0;34m\u001b[0m\u001b[0;34m\u001b[0m\u001b[0m\n",
            "\u001b[0;32m/usr/local/lib/python3.7/dist-packages/google/colab/output/_js.py\u001b[0m in \u001b[0;36meval_js\u001b[0;34m(script, ignore_result, timeout_sec)\u001b[0m\n\u001b[1;32m     38\u001b[0m   \u001b[0;32mif\u001b[0m \u001b[0mignore_result\u001b[0m\u001b[0;34m:\u001b[0m\u001b[0;34m\u001b[0m\u001b[0;34m\u001b[0m\u001b[0m\n\u001b[1;32m     39\u001b[0m     \u001b[0;32mreturn\u001b[0m\u001b[0;34m\u001b[0m\u001b[0;34m\u001b[0m\u001b[0m\n\u001b[0;32m---> 40\u001b[0;31m   \u001b[0;32mreturn\u001b[0m \u001b[0m_message\u001b[0m\u001b[0;34m.\u001b[0m\u001b[0mread_reply_from_input\u001b[0m\u001b[0;34m(\u001b[0m\u001b[0mrequest_id\u001b[0m\u001b[0;34m,\u001b[0m \u001b[0mtimeout_sec\u001b[0m\u001b[0;34m)\u001b[0m\u001b[0;34m\u001b[0m\u001b[0;34m\u001b[0m\u001b[0m\n\u001b[0m\u001b[1;32m     41\u001b[0m \u001b[0;34m\u001b[0m\u001b[0m\n\u001b[1;32m     42\u001b[0m \u001b[0;34m\u001b[0m\u001b[0m\n",
            "\u001b[0;32m/usr/local/lib/python3.7/dist-packages/google/colab/_message.py\u001b[0m in \u001b[0;36mread_reply_from_input\u001b[0;34m(message_id, timeout_sec)\u001b[0m\n\u001b[1;32m     99\u001b[0m     \u001b[0mreply\u001b[0m \u001b[0;34m=\u001b[0m \u001b[0m_read_next_input_message\u001b[0m\u001b[0;34m(\u001b[0m\u001b[0;34m)\u001b[0m\u001b[0;34m\u001b[0m\u001b[0;34m\u001b[0m\u001b[0m\n\u001b[1;32m    100\u001b[0m     \u001b[0;32mif\u001b[0m \u001b[0mreply\u001b[0m \u001b[0;34m==\u001b[0m \u001b[0m_NOT_READY\u001b[0m \u001b[0;32mor\u001b[0m \u001b[0;32mnot\u001b[0m \u001b[0misinstance\u001b[0m\u001b[0;34m(\u001b[0m\u001b[0mreply\u001b[0m\u001b[0;34m,\u001b[0m \u001b[0mdict\u001b[0m\u001b[0;34m)\u001b[0m\u001b[0;34m:\u001b[0m\u001b[0;34m\u001b[0m\u001b[0;34m\u001b[0m\u001b[0m\n\u001b[0;32m--> 101\u001b[0;31m       \u001b[0mtime\u001b[0m\u001b[0;34m.\u001b[0m\u001b[0msleep\u001b[0m\u001b[0;34m(\u001b[0m\u001b[0;36m0.025\u001b[0m\u001b[0;34m)\u001b[0m\u001b[0;34m\u001b[0m\u001b[0;34m\u001b[0m\u001b[0m\n\u001b[0m\u001b[1;32m    102\u001b[0m       \u001b[0;32mcontinue\u001b[0m\u001b[0;34m\u001b[0m\u001b[0;34m\u001b[0m\u001b[0m\n\u001b[1;32m    103\u001b[0m     if (reply.get('type') == 'colab_reply' and\n",
            "\u001b[0;31mKeyboardInterrupt\u001b[0m: "
          ]
        }
      ]
    },
    {
      "cell_type": "code",
      "metadata": {
        "id": "1CBMsuyRBlRY"
      },
      "source": [
        "df_train = pd.read_csv('Train.csv')                       ## Reading csv files into data frames\n",
        "df_test = pd.read_csv('test.csv')"
      ],
      "execution_count": null,
      "outputs": []
    },
    {
      "cell_type": "markdown",
      "metadata": {
        "id": "PNcslPkIq52P"
      },
      "source": [
        "##Part 1:Data exploration and visualization"
      ]
    },
    {
      "cell_type": "code",
      "metadata": {
        "colab": {
          "base_uri": "https://localhost:8080/",
          "height": 774
        },
        "id": "UylqzjwIptfL",
        "outputId": "bb372f48-f19f-4814-9449-f9441bdb5e55"
      },
      "source": [
        "df_train"
      ],
      "execution_count": null,
      "outputs": [
        {
          "output_type": "execute_result",
          "data": {
            "text/html": [
              "<div>\n",
              "<style scoped>\n",
              "    .dataframe tbody tr th:only-of-type {\n",
              "        vertical-align: middle;\n",
              "    }\n",
              "\n",
              "    .dataframe tbody tr th {\n",
              "        vertical-align: top;\n",
              "    }\n",
              "\n",
              "    .dataframe thead th {\n",
              "        text-align: right;\n",
              "    }\n",
              "</style>\n",
              "<table border=\"1\" class=\"dataframe\">\n",
              "  <thead>\n",
              "    <tr style=\"text-align: right;\">\n",
              "      <th></th>\n",
              "      <th>id</th>\n",
              "      <th>amount_tsh</th>\n",
              "      <th>date_recorded</th>\n",
              "      <th>funder</th>\n",
              "      <th>gps_height</th>\n",
              "      <th>installer</th>\n",
              "      <th>longitude</th>\n",
              "      <th>latitude</th>\n",
              "      <th>wpt_name</th>\n",
              "      <th>num_private</th>\n",
              "      <th>basin</th>\n",
              "      <th>subvillage</th>\n",
              "      <th>region</th>\n",
              "      <th>region_code</th>\n",
              "      <th>district_code</th>\n",
              "      <th>lga</th>\n",
              "      <th>ward</th>\n",
              "      <th>population</th>\n",
              "      <th>public_meeting</th>\n",
              "      <th>recorded_by</th>\n",
              "      <th>scheme_management</th>\n",
              "      <th>scheme_name</th>\n",
              "      <th>permit</th>\n",
              "      <th>construction_year</th>\n",
              "      <th>extraction_type</th>\n",
              "      <th>extraction_type_group</th>\n",
              "      <th>extraction_type_class</th>\n",
              "      <th>management</th>\n",
              "      <th>management_group</th>\n",
              "      <th>payment</th>\n",
              "      <th>payment_type</th>\n",
              "      <th>water_quality</th>\n",
              "      <th>quality_group</th>\n",
              "      <th>quantity</th>\n",
              "      <th>quantity_group</th>\n",
              "      <th>source</th>\n",
              "      <th>source_type</th>\n",
              "      <th>source_class</th>\n",
              "      <th>waterpoint_type</th>\n",
              "      <th>waterpoint_type_group</th>\n",
              "      <th>status_group</th>\n",
              "    </tr>\n",
              "  </thead>\n",
              "  <tbody>\n",
              "    <tr>\n",
              "      <th>0</th>\n",
              "      <td>7411</td>\n",
              "      <td>7.0</td>\n",
              "      <td>2013-03-20</td>\n",
              "      <td>Germany Republi</td>\n",
              "      <td>1203</td>\n",
              "      <td>CES</td>\n",
              "      <td>37.228664</td>\n",
              "      <td>-3.256505</td>\n",
              "      <td>Kwa Abdalla</td>\n",
              "      <td>0</td>\n",
              "      <td>Pangani</td>\n",
              "      <td>Mafurini</td>\n",
              "      <td>Kilimanjaro</td>\n",
              "      <td>3</td>\n",
              "      <td>5</td>\n",
              "      <td>Hai</td>\n",
              "      <td>Machame Kaskazini</td>\n",
              "      <td>90</td>\n",
              "      <td>True</td>\n",
              "      <td>GeoData Consultants Ltd</td>\n",
              "      <td>Water Board</td>\n",
              "      <td>Machame water supply</td>\n",
              "      <td>True</td>\n",
              "      <td>2008</td>\n",
              "      <td>gravity</td>\n",
              "      <td>gravity</td>\n",
              "      <td>gravity</td>\n",
              "      <td>water board</td>\n",
              "      <td>user-group</td>\n",
              "      <td>pay per bucket</td>\n",
              "      <td>per bucket</td>\n",
              "      <td>soft</td>\n",
              "      <td>good</td>\n",
              "      <td>enough</td>\n",
              "      <td>enough</td>\n",
              "      <td>spring</td>\n",
              "      <td>spring</td>\n",
              "      <td>groundwater</td>\n",
              "      <td>communal standpipe</td>\n",
              "      <td>communal standpipe</td>\n",
              "      <td>functional</td>\n",
              "    </tr>\n",
              "    <tr>\n",
              "      <th>1</th>\n",
              "      <td>18014</td>\n",
              "      <td>0.0</td>\n",
              "      <td>2011-02-21</td>\n",
              "      <td>Cdtf</td>\n",
              "      <td>1409</td>\n",
              "      <td>CDTF</td>\n",
              "      <td>34.615481</td>\n",
              "      <td>-9.972601</td>\n",
              "      <td>none</td>\n",
              "      <td>0</td>\n",
              "      <td>Lake Nyasa</td>\n",
              "      <td>Ituni</td>\n",
              "      <td>Iringa</td>\n",
              "      <td>11</td>\n",
              "      <td>5</td>\n",
              "      <td>Ludewa</td>\n",
              "      <td>Luana</td>\n",
              "      <td>70</td>\n",
              "      <td>False</td>\n",
              "      <td>GeoData Consultants Ltd</td>\n",
              "      <td>Private operator</td>\n",
              "      <td>Mgowel</td>\n",
              "      <td>False</td>\n",
              "      <td>1984</td>\n",
              "      <td>gravity</td>\n",
              "      <td>gravity</td>\n",
              "      <td>gravity</td>\n",
              "      <td>private operator</td>\n",
              "      <td>commercial</td>\n",
              "      <td>never pay</td>\n",
              "      <td>never pay</td>\n",
              "      <td>soft</td>\n",
              "      <td>good</td>\n",
              "      <td>enough</td>\n",
              "      <td>enough</td>\n",
              "      <td>spring</td>\n",
              "      <td>spring</td>\n",
              "      <td>groundwater</td>\n",
              "      <td>communal standpipe</td>\n",
              "      <td>communal standpipe</td>\n",
              "      <td>functional</td>\n",
              "    </tr>\n",
              "    <tr>\n",
              "      <th>2</th>\n",
              "      <td>26103</td>\n",
              "      <td>0.0</td>\n",
              "      <td>2013-01-04</td>\n",
              "      <td>Government Of Tanzania</td>\n",
              "      <td>1572</td>\n",
              "      <td>DWE</td>\n",
              "      <td>36.658778</td>\n",
              "      <td>-3.321529</td>\n",
              "      <td>Kwa Loishiye</td>\n",
              "      <td>0</td>\n",
              "      <td>Pangani</td>\n",
              "      <td>Melebuki</td>\n",
              "      <td>Arusha</td>\n",
              "      <td>2</td>\n",
              "      <td>2</td>\n",
              "      <td>Arusha Rural</td>\n",
              "      <td>Kimnyaki</td>\n",
              "      <td>150</td>\n",
              "      <td>True</td>\n",
              "      <td>GeoData Consultants Ltd</td>\n",
              "      <td>VWC</td>\n",
              "      <td>Saitero olosaita pipe line</td>\n",
              "      <td>True</td>\n",
              "      <td>2002</td>\n",
              "      <td>gravity</td>\n",
              "      <td>gravity</td>\n",
              "      <td>gravity</td>\n",
              "      <td>vwc</td>\n",
              "      <td>user-group</td>\n",
              "      <td>never pay</td>\n",
              "      <td>never pay</td>\n",
              "      <td>soft</td>\n",
              "      <td>good</td>\n",
              "      <td>insufficient</td>\n",
              "      <td>insufficient</td>\n",
              "      <td>spring</td>\n",
              "      <td>spring</td>\n",
              "      <td>groundwater</td>\n",
              "      <td>communal standpipe</td>\n",
              "      <td>communal standpipe</td>\n",
              "      <td>non functional</td>\n",
              "    </tr>\n",
              "    <tr>\n",
              "      <th>3</th>\n",
              "      <td>31140</td>\n",
              "      <td>0.0</td>\n",
              "      <td>2011-04-03</td>\n",
              "      <td>District Council</td>\n",
              "      <td>0</td>\n",
              "      <td>District Council</td>\n",
              "      <td>33.628025</td>\n",
              "      <td>-8.860795</td>\n",
              "      <td>Mwanzechele</td>\n",
              "      <td>0</td>\n",
              "      <td>Rufiji</td>\n",
              "      <td>Darajani</td>\n",
              "      <td>Mbeya</td>\n",
              "      <td>12</td>\n",
              "      <td>2</td>\n",
              "      <td>Mbeya Rural</td>\n",
              "      <td>Inyala</td>\n",
              "      <td>0</td>\n",
              "      <td>True</td>\n",
              "      <td>GeoData Consultants Ltd</td>\n",
              "      <td>VWC</td>\n",
              "      <td>NaN</td>\n",
              "      <td>True</td>\n",
              "      <td>0</td>\n",
              "      <td>gravity</td>\n",
              "      <td>gravity</td>\n",
              "      <td>gravity</td>\n",
              "      <td>wug</td>\n",
              "      <td>user-group</td>\n",
              "      <td>pay annually</td>\n",
              "      <td>annually</td>\n",
              "      <td>soft</td>\n",
              "      <td>good</td>\n",
              "      <td>insufficient</td>\n",
              "      <td>insufficient</td>\n",
              "      <td>river</td>\n",
              "      <td>river/lake</td>\n",
              "      <td>surface</td>\n",
              "      <td>communal standpipe</td>\n",
              "      <td>communal standpipe</td>\n",
              "      <td>functional</td>\n",
              "    </tr>\n",
              "    <tr>\n",
              "      <th>4</th>\n",
              "      <td>12286</td>\n",
              "      <td>300.0</td>\n",
              "      <td>2013-03-08</td>\n",
              "      <td>District Council</td>\n",
              "      <td>1283</td>\n",
              "      <td>District Council</td>\n",
              "      <td>37.655509</td>\n",
              "      <td>-3.669777</td>\n",
              "      <td>Kwa Kidaya</td>\n",
              "      <td>0</td>\n",
              "      <td>Pangani</td>\n",
              "      <td>Mwira A</td>\n",
              "      <td>Kilimanjaro</td>\n",
              "      <td>3</td>\n",
              "      <td>2</td>\n",
              "      <td>Mwanga</td>\n",
              "      <td>Shinghatini</td>\n",
              "      <td>34</td>\n",
              "      <td>True</td>\n",
              "      <td>GeoData Consultants Ltd</td>\n",
              "      <td>VWC</td>\n",
              "      <td>Churu water supply</td>\n",
              "      <td>False</td>\n",
              "      <td>2007</td>\n",
              "      <td>gravity</td>\n",
              "      <td>gravity</td>\n",
              "      <td>gravity</td>\n",
              "      <td>vwc</td>\n",
              "      <td>user-group</td>\n",
              "      <td>pay monthly</td>\n",
              "      <td>monthly</td>\n",
              "      <td>soft</td>\n",
              "      <td>good</td>\n",
              "      <td>insufficient</td>\n",
              "      <td>insufficient</td>\n",
              "      <td>spring</td>\n",
              "      <td>spring</td>\n",
              "      <td>groundwater</td>\n",
              "      <td>communal standpipe</td>\n",
              "      <td>communal standpipe</td>\n",
              "      <td>functional</td>\n",
              "    </tr>\n",
              "    <tr>\n",
              "      <th>...</th>\n",
              "      <td>...</td>\n",
              "      <td>...</td>\n",
              "      <td>...</td>\n",
              "      <td>...</td>\n",
              "      <td>...</td>\n",
              "      <td>...</td>\n",
              "      <td>...</td>\n",
              "      <td>...</td>\n",
              "      <td>...</td>\n",
              "      <td>...</td>\n",
              "      <td>...</td>\n",
              "      <td>...</td>\n",
              "      <td>...</td>\n",
              "      <td>...</td>\n",
              "      <td>...</td>\n",
              "      <td>...</td>\n",
              "      <td>...</td>\n",
              "      <td>...</td>\n",
              "      <td>...</td>\n",
              "      <td>...</td>\n",
              "      <td>...</td>\n",
              "      <td>...</td>\n",
              "      <td>...</td>\n",
              "      <td>...</td>\n",
              "      <td>...</td>\n",
              "      <td>...</td>\n",
              "      <td>...</td>\n",
              "      <td>...</td>\n",
              "      <td>...</td>\n",
              "      <td>...</td>\n",
              "      <td>...</td>\n",
              "      <td>...</td>\n",
              "      <td>...</td>\n",
              "      <td>...</td>\n",
              "      <td>...</td>\n",
              "      <td>...</td>\n",
              "      <td>...</td>\n",
              "      <td>...</td>\n",
              "      <td>...</td>\n",
              "      <td>...</td>\n",
              "      <td>...</td>\n",
              "    </tr>\n",
              "    <tr>\n",
              "      <th>44545</th>\n",
              "      <td>43878</td>\n",
              "      <td>0.0</td>\n",
              "      <td>2013-01-23</td>\n",
              "      <td>World Vision</td>\n",
              "      <td>0</td>\n",
              "      <td>TAWASA</td>\n",
              "      <td>32.383715</td>\n",
              "      <td>-3.457624</td>\n",
              "      <td>Imalabuluhi</td>\n",
              "      <td>0</td>\n",
              "      <td>Lake Tanganyika</td>\n",
              "      <td>Bukenge</td>\n",
              "      <td>Shinyanga</td>\n",
              "      <td>17</td>\n",
              "      <td>3</td>\n",
              "      <td>Kahama</td>\n",
              "      <td>Segese</td>\n",
              "      <td>0</td>\n",
              "      <td>True</td>\n",
              "      <td>GeoData Consultants Ltd</td>\n",
              "      <td>NaN</td>\n",
              "      <td>NaN</td>\n",
              "      <td>True</td>\n",
              "      <td>0</td>\n",
              "      <td>nira/tanira</td>\n",
              "      <td>nira/tanira</td>\n",
              "      <td>handpump</td>\n",
              "      <td>wug</td>\n",
              "      <td>user-group</td>\n",
              "      <td>unknown</td>\n",
              "      <td>unknown</td>\n",
              "      <td>milky</td>\n",
              "      <td>milky</td>\n",
              "      <td>enough</td>\n",
              "      <td>enough</td>\n",
              "      <td>shallow well</td>\n",
              "      <td>shallow well</td>\n",
              "      <td>groundwater</td>\n",
              "      <td>hand pump</td>\n",
              "      <td>hand pump</td>\n",
              "      <td>functional</td>\n",
              "    </tr>\n",
              "    <tr>\n",
              "      <th>44546</th>\n",
              "      <td>50718</td>\n",
              "      <td>0.0</td>\n",
              "      <td>2011-07-25</td>\n",
              "      <td>Ded</td>\n",
              "      <td>0</td>\n",
              "      <td>DED</td>\n",
              "      <td>31.615509</td>\n",
              "      <td>-2.738682</td>\n",
              "      <td>Ilyamchele Center</td>\n",
              "      <td>0</td>\n",
              "      <td>Lake Victoria</td>\n",
              "      <td>Ilyamchele Center</td>\n",
              "      <td>Kagera</td>\n",
              "      <td>18</td>\n",
              "      <td>8</td>\n",
              "      <td>Chato</td>\n",
              "      <td>Katende</td>\n",
              "      <td>0</td>\n",
              "      <td>True</td>\n",
              "      <td>GeoData Consultants Ltd</td>\n",
              "      <td>WUA</td>\n",
              "      <td>NaN</td>\n",
              "      <td>True</td>\n",
              "      <td>0</td>\n",
              "      <td>afridev</td>\n",
              "      <td>afridev</td>\n",
              "      <td>handpump</td>\n",
              "      <td>wua</td>\n",
              "      <td>user-group</td>\n",
              "      <td>pay monthly</td>\n",
              "      <td>monthly</td>\n",
              "      <td>soft</td>\n",
              "      <td>good</td>\n",
              "      <td>enough</td>\n",
              "      <td>enough</td>\n",
              "      <td>hand dtw</td>\n",
              "      <td>borehole</td>\n",
              "      <td>groundwater</td>\n",
              "      <td>hand pump</td>\n",
              "      <td>hand pump</td>\n",
              "      <td>non functional</td>\n",
              "    </tr>\n",
              "    <tr>\n",
              "      <th>44547</th>\n",
              "      <td>67177</td>\n",
              "      <td>0.0</td>\n",
              "      <td>2013-02-23</td>\n",
              "      <td>Government Of Tanzania</td>\n",
              "      <td>969</td>\n",
              "      <td>Government</td>\n",
              "      <td>35.134412</td>\n",
              "      <td>-10.676062</td>\n",
              "      <td>Kwa Mzee Maondo</td>\n",
              "      <td>0</td>\n",
              "      <td>Ruvuma / Southern Coast</td>\n",
              "      <td>Masango</td>\n",
              "      <td>Ruvuma</td>\n",
              "      <td>10</td>\n",
              "      <td>3</td>\n",
              "      <td>Mbinga</td>\n",
              "      <td>Kigonsera</td>\n",
              "      <td>60</td>\n",
              "      <td>NaN</td>\n",
              "      <td>GeoData Consultants Ltd</td>\n",
              "      <td>VWC</td>\n",
              "      <td>Government</td>\n",
              "      <td>NaN</td>\n",
              "      <td>1977</td>\n",
              "      <td>gravity</td>\n",
              "      <td>gravity</td>\n",
              "      <td>gravity</td>\n",
              "      <td>vwc</td>\n",
              "      <td>user-group</td>\n",
              "      <td>unknown</td>\n",
              "      <td>unknown</td>\n",
              "      <td>soft</td>\n",
              "      <td>good</td>\n",
              "      <td>seasonal</td>\n",
              "      <td>seasonal</td>\n",
              "      <td>spring</td>\n",
              "      <td>spring</td>\n",
              "      <td>groundwater</td>\n",
              "      <td>communal standpipe</td>\n",
              "      <td>communal standpipe</td>\n",
              "      <td>functional</td>\n",
              "    </tr>\n",
              "    <tr>\n",
              "      <th>44548</th>\n",
              "      <td>2744</td>\n",
              "      <td>200.0</td>\n",
              "      <td>2013-03-26</td>\n",
              "      <td>Adra</td>\n",
              "      <td>1269</td>\n",
              "      <td>ADRA/Government</td>\n",
              "      <td>37.886287</td>\n",
              "      <td>-4.390882</td>\n",
              "      <td>Miembeni</td>\n",
              "      <td>0</td>\n",
              "      <td>Pangani</td>\n",
              "      <td>Mng'Ende</td>\n",
              "      <td>Kilimanjaro</td>\n",
              "      <td>3</td>\n",
              "      <td>3</td>\n",
              "      <td>Same</td>\n",
              "      <td>Suji</td>\n",
              "      <td>80</td>\n",
              "      <td>True</td>\n",
              "      <td>GeoData Consultants Ltd</td>\n",
              "      <td>Water authority</td>\n",
              "      <td>Kiumba water supply</td>\n",
              "      <td>True</td>\n",
              "      <td>2011</td>\n",
              "      <td>gravity</td>\n",
              "      <td>gravity</td>\n",
              "      <td>gravity</td>\n",
              "      <td>vwc</td>\n",
              "      <td>user-group</td>\n",
              "      <td>pay monthly</td>\n",
              "      <td>monthly</td>\n",
              "      <td>soft</td>\n",
              "      <td>good</td>\n",
              "      <td>insufficient</td>\n",
              "      <td>insufficient</td>\n",
              "      <td>spring</td>\n",
              "      <td>spring</td>\n",
              "      <td>groundwater</td>\n",
              "      <td>communal standpipe</td>\n",
              "      <td>communal standpipe</td>\n",
              "      <td>functional</td>\n",
              "    </tr>\n",
              "    <tr>\n",
              "      <th>44549</th>\n",
              "      <td>10262</td>\n",
              "      <td>0.0</td>\n",
              "      <td>2013-01-26</td>\n",
              "      <td>World Vision</td>\n",
              "      <td>0</td>\n",
              "      <td>Consulting Engineer</td>\n",
              "      <td>32.976560</td>\n",
              "      <td>-4.262149</td>\n",
              "      <td>Itunda A Mkwajuni</td>\n",
              "      <td>0</td>\n",
              "      <td>Lake Tanganyika</td>\n",
              "      <td>Itunda A</td>\n",
              "      <td>Tabora</td>\n",
              "      <td>14</td>\n",
              "      <td>1</td>\n",
              "      <td>Nzega</td>\n",
              "      <td>Karitu</td>\n",
              "      <td>0</td>\n",
              "      <td>True</td>\n",
              "      <td>GeoData Consultants Ltd</td>\n",
              "      <td>VWC</td>\n",
              "      <td>NaN</td>\n",
              "      <td>False</td>\n",
              "      <td>0</td>\n",
              "      <td>nira/tanira</td>\n",
              "      <td>nira/tanira</td>\n",
              "      <td>handpump</td>\n",
              "      <td>vwc</td>\n",
              "      <td>user-group</td>\n",
              "      <td>pay when scheme fails</td>\n",
              "      <td>on failure</td>\n",
              "      <td>soft</td>\n",
              "      <td>good</td>\n",
              "      <td>enough</td>\n",
              "      <td>enough</td>\n",
              "      <td>shallow well</td>\n",
              "      <td>shallow well</td>\n",
              "      <td>groundwater</td>\n",
              "      <td>hand pump</td>\n",
              "      <td>hand pump</td>\n",
              "      <td>functional</td>\n",
              "    </tr>\n",
              "  </tbody>\n",
              "</table>\n",
              "<p>44550 rows × 41 columns</p>\n",
              "</div>"
            ],
            "text/plain": [
              "          id  amount_tsh  ... waterpoint_type_group    status_group\n",
              "0       7411         7.0  ...    communal standpipe      functional\n",
              "1      18014         0.0  ...    communal standpipe      functional\n",
              "2      26103         0.0  ...    communal standpipe  non functional\n",
              "3      31140         0.0  ...    communal standpipe      functional\n",
              "4      12286       300.0  ...    communal standpipe      functional\n",
              "...      ...         ...  ...                   ...             ...\n",
              "44545  43878         0.0  ...             hand pump      functional\n",
              "44546  50718         0.0  ...             hand pump  non functional\n",
              "44547  67177         0.0  ...    communal standpipe      functional\n",
              "44548   2744       200.0  ...    communal standpipe      functional\n",
              "44549  10262         0.0  ...             hand pump      functional\n",
              "\n",
              "[44550 rows x 41 columns]"
            ]
          },
          "metadata": {
            "tags": []
          },
          "execution_count": 7
        }
      ]
    },
    {
      "cell_type": "markdown",
      "metadata": {
        "id": "BTCxWKh0rFR-"
      },
      "source": [
        "#Observations:\n",
        "\n",
        "1.There are 41 columns which includes 40 features and 1 output.\n",
        "\n",
        "2.There are 44550 train samples and 14850 test samples. "
      ]
    },
    {
      "cell_type": "code",
      "metadata": {
        "colab": {
          "base_uri": "https://localhost:8080/"
        },
        "id": "bmLOGwh-rDCx",
        "outputId": "5a90378e-ee43-43ca-cbc8-0302d1aaa476"
      },
      "source": [
        "df_train.info()"
      ],
      "execution_count": null,
      "outputs": [
        {
          "output_type": "stream",
          "text": [
            "<class 'pandas.core.frame.DataFrame'>\n",
            "RangeIndex: 44550 entries, 0 to 44549\n",
            "Data columns (total 41 columns):\n",
            " #   Column                 Non-Null Count  Dtype  \n",
            "---  ------                 --------------  -----  \n",
            " 0   id                     44550 non-null  int64  \n",
            " 1   amount_tsh             44550 non-null  float64\n",
            " 2   date_recorded          44550 non-null  object \n",
            " 3   funder                 41757 non-null  object \n",
            " 4   gps_height             44550 non-null  int64  \n",
            " 5   installer              41743 non-null  object \n",
            " 6   longitude              44550 non-null  float64\n",
            " 7   latitude               44550 non-null  float64\n",
            " 8   wpt_name               44550 non-null  object \n",
            " 9   num_private            44550 non-null  int64  \n",
            " 10  basin                  44550 non-null  object \n",
            " 11  subvillage             44263 non-null  object \n",
            " 12  region                 44550 non-null  object \n",
            " 13  region_code            44550 non-null  int64  \n",
            " 14  district_code          44550 non-null  int64  \n",
            " 15  lga                    44550 non-null  object \n",
            " 16  ward                   44550 non-null  object \n",
            " 17  population             44550 non-null  int64  \n",
            " 18  public_meeting         42059 non-null  object \n",
            " 19  recorded_by            44550 non-null  object \n",
            " 20  scheme_management      41718 non-null  object \n",
            " 21  scheme_name            23440 non-null  object \n",
            " 22  permit                 42214 non-null  object \n",
            " 23  construction_year      44550 non-null  int64  \n",
            " 24  extraction_type        44550 non-null  object \n",
            " 25  extraction_type_group  44550 non-null  object \n",
            " 26  extraction_type_class  44550 non-null  object \n",
            " 27  management             44550 non-null  object \n",
            " 28  management_group       44550 non-null  object \n",
            " 29  payment                44550 non-null  object \n",
            " 30  payment_type           44550 non-null  object \n",
            " 31  water_quality          44550 non-null  object \n",
            " 32  quality_group          44550 non-null  object \n",
            " 33  quantity               44550 non-null  object \n",
            " 34  quantity_group         44550 non-null  object \n",
            " 35  source                 44550 non-null  object \n",
            " 36  source_type            44550 non-null  object \n",
            " 37  source_class           44550 non-null  object \n",
            " 38  waterpoint_type        44550 non-null  object \n",
            " 39  waterpoint_type_group  44550 non-null  object \n",
            " 40  status_group           44550 non-null  object \n",
            "dtypes: float64(3), int64(7), object(31)\n",
            "memory usage: 13.9+ MB\n"
          ],
          "name": "stdout"
        }
      ]
    },
    {
      "cell_type": "markdown",
      "metadata": {
        "id": "MtbrcbTRvlpR"
      },
      "source": [
        "#Observations:\n",
        "\n",
        "\n",
        "\n",
        "1.   40 Columns are features\n",
        "2.   10 of which are numerical and rest are categorical.\n",
        "3.   'status_group' column shows the target for each pump\n",
        "      and labels are 'functional' , 'non functional' , 'functional     needs repair'\n",
        "4.    Several Null values"
      ]
    },
    {
      "cell_type": "code",
      "metadata": {
        "id": "6YRw-a-swIAx",
        "colab": {
          "base_uri": "https://localhost:8080/",
          "height": 304
        },
        "outputId": "62b7c0d6-abdc-4bc9-f2ed-8093ca8e0450"
      },
      "source": [
        "df_train.describe()"
      ],
      "execution_count": null,
      "outputs": [
        {
          "output_type": "execute_result",
          "data": {
            "text/html": [
              "<div>\n",
              "<style scoped>\n",
              "    .dataframe tbody tr th:only-of-type {\n",
              "        vertical-align: middle;\n",
              "    }\n",
              "\n",
              "    .dataframe tbody tr th {\n",
              "        vertical-align: top;\n",
              "    }\n",
              "\n",
              "    .dataframe thead th {\n",
              "        text-align: right;\n",
              "    }\n",
              "</style>\n",
              "<table border=\"1\" class=\"dataframe\">\n",
              "  <thead>\n",
              "    <tr style=\"text-align: right;\">\n",
              "      <th></th>\n",
              "      <th>id</th>\n",
              "      <th>amount_tsh</th>\n",
              "      <th>gps_height</th>\n",
              "      <th>longitude</th>\n",
              "      <th>latitude</th>\n",
              "      <th>num_private</th>\n",
              "      <th>region_code</th>\n",
              "      <th>district_code</th>\n",
              "      <th>population</th>\n",
              "      <th>construction_year</th>\n",
              "    </tr>\n",
              "  </thead>\n",
              "  <tbody>\n",
              "    <tr>\n",
              "      <th>count</th>\n",
              "      <td>44550.000000</td>\n",
              "      <td>44550.000000</td>\n",
              "      <td>44550.000000</td>\n",
              "      <td>44550.000000</td>\n",
              "      <td>4.455000e+04</td>\n",
              "      <td>44550.000000</td>\n",
              "      <td>44550.000000</td>\n",
              "      <td>44550.000000</td>\n",
              "      <td>44550.000000</td>\n",
              "      <td>44550.000000</td>\n",
              "    </tr>\n",
              "    <tr>\n",
              "      <th>mean</th>\n",
              "      <td>37192.623681</td>\n",
              "      <td>307.623224</td>\n",
              "      <td>665.490774</td>\n",
              "      <td>34.084084</td>\n",
              "      <td>-5.721980e+00</td>\n",
              "      <td>0.521549</td>\n",
              "      <td>15.338563</td>\n",
              "      <td>5.678967</td>\n",
              "      <td>179.112750</td>\n",
              "      <td>1295.782155</td>\n",
              "    </tr>\n",
              "    <tr>\n",
              "      <th>std</th>\n",
              "      <td>21399.827198</td>\n",
              "      <td>2402.742799</td>\n",
              "      <td>693.653179</td>\n",
              "      <td>6.555924</td>\n",
              "      <td>2.948828e+00</td>\n",
              "      <td>13.835868</td>\n",
              "      <td>17.672144</td>\n",
              "      <td>9.724205</td>\n",
              "      <td>478.995645</td>\n",
              "      <td>953.183961</td>\n",
              "    </tr>\n",
              "    <tr>\n",
              "      <th>min</th>\n",
              "      <td>1.000000</td>\n",
              "      <td>0.000000</td>\n",
              "      <td>-90.000000</td>\n",
              "      <td>0.000000</td>\n",
              "      <td>-1.164838e+01</td>\n",
              "      <td>0.000000</td>\n",
              "      <td>1.000000</td>\n",
              "      <td>0.000000</td>\n",
              "      <td>0.000000</td>\n",
              "      <td>0.000000</td>\n",
              "    </tr>\n",
              "    <tr>\n",
              "      <th>25%</th>\n",
              "      <td>18723.250000</td>\n",
              "      <td>0.000000</td>\n",
              "      <td>0.000000</td>\n",
              "      <td>33.105585</td>\n",
              "      <td>-8.574241e+00</td>\n",
              "      <td>0.000000</td>\n",
              "      <td>5.000000</td>\n",
              "      <td>2.000000</td>\n",
              "      <td>0.000000</td>\n",
              "      <td>0.000000</td>\n",
              "    </tr>\n",
              "    <tr>\n",
              "      <th>50%</th>\n",
              "      <td>37183.500000</td>\n",
              "      <td>0.000000</td>\n",
              "      <td>363.000000</td>\n",
              "      <td>34.905600</td>\n",
              "      <td>-5.045611e+00</td>\n",
              "      <td>0.000000</td>\n",
              "      <td>12.000000</td>\n",
              "      <td>3.000000</td>\n",
              "      <td>25.000000</td>\n",
              "      <td>1985.000000</td>\n",
              "    </tr>\n",
              "    <tr>\n",
              "      <th>75%</th>\n",
              "      <td>55647.500000</td>\n",
              "      <td>20.000000</td>\n",
              "      <td>1318.000000</td>\n",
              "      <td>37.176859</td>\n",
              "      <td>-3.327795e+00</td>\n",
              "      <td>0.000000</td>\n",
              "      <td>17.000000</td>\n",
              "      <td>5.000000</td>\n",
              "      <td>210.000000</td>\n",
              "      <td>2004.000000</td>\n",
              "    </tr>\n",
              "    <tr>\n",
              "      <th>max</th>\n",
              "      <td>74247.000000</td>\n",
              "      <td>170000.000000</td>\n",
              "      <td>2770.000000</td>\n",
              "      <td>40.345193</td>\n",
              "      <td>-2.000000e-08</td>\n",
              "      <td>1776.000000</td>\n",
              "      <td>99.000000</td>\n",
              "      <td>80.000000</td>\n",
              "      <td>30500.000000</td>\n",
              "      <td>2013.000000</td>\n",
              "    </tr>\n",
              "  </tbody>\n",
              "</table>\n",
              "</div>"
            ],
            "text/plain": [
              "                 id     amount_tsh  ...    population  construction_year\n",
              "count  44550.000000   44550.000000  ...  44550.000000       44550.000000\n",
              "mean   37192.623681     307.623224  ...    179.112750        1295.782155\n",
              "std    21399.827198    2402.742799  ...    478.995645         953.183961\n",
              "min        1.000000       0.000000  ...      0.000000           0.000000\n",
              "25%    18723.250000       0.000000  ...      0.000000           0.000000\n",
              "50%    37183.500000       0.000000  ...     25.000000        1985.000000\n",
              "75%    55647.500000      20.000000  ...    210.000000        2004.000000\n",
              "max    74247.000000  170000.000000  ...  30500.000000        2013.000000\n",
              "\n",
              "[8 rows x 10 columns]"
            ]
          },
          "metadata": {
            "tags": []
          },
          "execution_count": 9
        }
      ]
    },
    {
      "cell_type": "code",
      "metadata": {
        "colab": {
          "base_uri": "https://localhost:8080/",
          "height": 297
        },
        "id": "36TXYMi338FA",
        "outputId": "aaad73ea-cd21-4751-e142-64d6570eab08"
      },
      "source": [
        "sns.countplot(x=df_train[\"construction_year\"],hue=df_train[\"status_group\"])     ##plotting contruction_year vs count plot"
      ],
      "execution_count": null,
      "outputs": [
        {
          "output_type": "execute_result",
          "data": {
            "text/plain": [
              "<matplotlib.axes._subplots.AxesSubplot at 0x7f9b3205ad90>"
            ]
          },
          "metadata": {
            "tags": []
          },
          "execution_count": 10
        },
        {
          "output_type": "display_data",
          "data": {
            "image/png": "[encoded data removed]",
            "text/plain": [
              "<Figure size 432x288 with 1 Axes>"
            ]
          },
          "metadata": {
            "tags": [],
            "needs_background": "light"
          }
        }
      ]
    },
    {
      "cell_type": "markdown",
      "metadata": {
        "id": "S72k6fjIHIcb"
      },
      "source": [
        "#Observation:\n",
        "\n",
        "construction_year can be very useful feature in prediction model."
      ]
    },
    {
      "cell_type": "code",
      "metadata": {
        "colab": {
          "base_uri": "https://localhost:8080/",
          "height": 297
        },
        "id": "UY7Dn1874Ssx",
        "outputId": "9e1ebf67-6640-4fb4-8dba-61872ca538d0"
      },
      "source": [
        "sns.scatterplot(y=df_train[\"amount_tsh\"],x=df_train[\"status_group\"])    ##plotting amount_tsh vs status_group"
      ],
      "execution_count": null,
      "outputs": [
        {
          "output_type": "execute_result",
          "data": {
            "text/plain": [
              "<matplotlib.axes._subplots.AxesSubplot at 0x7f9b31da0990>"
            ]
          },
          "metadata": {
            "tags": []
          },
          "execution_count": 11
        },
        {
          "output_type": "display_data",
          "data": {
            "image/png": "[encoded data removed]",
            "text/plain": [
              "<Figure size 432x288 with 1 Axes>"
            ]
          },
          "metadata": {
            "tags": [],
            "needs_background": "light"
          }
        }
      ]
    },
    {
      "cell_type": "markdown",
      "metadata": {
        "id": "GH_htv-9JQLC"
      },
      "source": [
        "#Observation:\n",
        "\n",
        "approx amount_tsh >200000 then most likely the pump is functional"
      ]
    },
    {
      "cell_type": "code",
      "metadata": {
        "colab": {
          "base_uri": "https://localhost:8080/",
          "height": 1000
        },
        "id": "3xqnJtt4A5Q4",
        "outputId": "000ff0f4-4090-496c-8c3d-0ea3fd6283d4"
      },
      "source": [
        "for col in df_train.columns.values: #for all columns\n",
        "  #if the values are integer or discrete\n",
        "  if(df_train[col].dtypes == 'int64') | (df_train[col].dtypes == 'float64'):\n",
        "    plt.hist(df_train[col],10 if len(pd.unique(df_train[col]))>20 else len(pd.unique(df_train[col])))\n",
        "    plt.xlabel(col)\n",
        "    plt.show()"
      ],
      "execution_count": null,
      "outputs": [
        {
          "output_type": "display_data",
          "data": {
            "image/png": "[encoded data removed]",
            "text/plain": [
              "<Figure size 432x288 with 1 Axes>"
            ]
          },
          "metadata": {
            "tags": [],
            "needs_background": "light"
          }
        },
        {
          "output_type": "display_data",
          "data": {
            "image/png": "[encoded data removed]",
            "text/plain": [
              "<Figure size 432x288 with 1 Axes>"
            ]
          },
          "metadata": {
            "tags": [],
            "needs_background": "light"
          }
        },
        {
          "output_type": "display_data",
          "data": {
            "image/png": "[encoded data removed]",
            "text/plain": [
              "<Figure size 432x288 with 1 Axes>"
            ]
          },
          "metadata": {
            "tags": [],
            "needs_background": "light"
          }
        },
        {
          "output_type": "display_data",
          "data": {
            "image/png": "[encoded data removed]",
            "text/plain": [
              "<Figure size 432x288 with 1 Axes>"
            ]
          },
          "metadata": {
            "tags": [],
            "needs_background": "light"
          }
        },
        {
          "output_type": "display_data",
          "data": {
            "image/png": "[encoded data removed]",
            "text/plain": [
              "<Figure size 432x288 with 1 Axes>"
            ]
          },
          "metadata": {
            "tags": [],
            "needs_background": "light"
          }
        },
        {
          "output_type": "display_data",
          "data": {
            "image/png": "[encoded data removed]",
            "text/plain": [
              "<Figure size 432x288 with 1 Axes>"
            ]
          },
          "metadata": {
            "tags": [],
            "needs_background": "light"
          }
        },
        {
          "output_type": "display_data",
          "data": {
            "image/png": "[encoded data removed]",
            "text/plain": [
              "<Figure size 432x288 with 1 Axes>"
            ]
          },
          "metadata": {
            "tags": [],
            "needs_background": "light"
          }
        },
        {
          "output_type": "display_data",
          "data": {
            "image/png": "[encoded data removed]",
            "text/plain": [
              "<Figure size 432x288 with 1 Axes>"
            ]
          },
          "metadata": {
            "tags": [],
            "needs_background": "light"
          }
        },
        {
          "output_type": "display_data",
          "data": {
            "image/png": "[encoded data removed]",
            "text/plain": [
              "<Figure size 432x288 with 1 Axes>"
            ]
          },
          "metadata": {
            "tags": [],
            "needs_background": "light"
          }
        },
        {
          "output_type": "display_data",
          "data": {
            "image/png": "[encoded data removed]",
            "text/plain": [
              "<Figure size 432x288 with 1 Axes>"
            ]
          },
          "metadata": {
            "tags": [],
            "needs_background": "light"
          }
        }
      ]
    },
    {
      "cell_type": "markdown",
      "metadata": {
        "id": "dBeQhYVKEzC3"
      },
      "source": [
        "#Observation:\n",
        "\n",
        "1. data of features like construction_year , population , amount_tsh ,num_private looks like categorical.\n",
        "2. all variable except id spread well.Drop id."
      ]
    },
    {
      "cell_type": "code",
      "metadata": {
        "id": "iVJOik_MA_6E"
      },
      "source": [
        "df_train=df_train.drop(['id'],axis=1)\n",
        "df_test=df_test.drop(['id'],axis=1)\n",
        "df_test=df_test.drop(df_test.columns[0],axis=1)"
      ],
      "execution_count": null,
      "outputs": []
    },
    {
      "cell_type": "code",
      "metadata": {
        "id": "2aYfkS1Y7LcL"
      },
      "source": [
        "numerical_vars = [col for col in df_train.columns if                      ##Columns with int and  float value\n",
        "                df_train[col].dtype in ['int64', 'float64']]"
      ],
      "execution_count": null,
      "outputs": []
    },
    {
      "cell_type": "code",
      "metadata": {
        "colab": {
          "base_uri": "https://localhost:8080/"
        },
        "id": "RBwyLLJmi9SE",
        "outputId": "52968889-4924-4f73-9efa-e7da6d9d8a6f"
      },
      "source": [
        "for col in numerical_vars: # for each column\n",
        "  unique_entries = pd.unique(df_train[col]) # unique elements in a column\n",
        "  print(f\"The column '{col}'  has {len(unique_entries)} unique entries, and {df_train[col].isnull().sum()} NaN values\")"
      ],
      "execution_count": null,
      "outputs": [
        {
          "output_type": "stream",
          "text": [
            "The column 'amount_tsh'  has 85 unique entries, and 0 NaN values\n",
            "The column 'gps_height'  has 2396 unique entries, and 0 NaN values\n",
            "The column 'longitude'  has 43155 unique entries, and 0 NaN values\n",
            "The column 'latitude'  has 43155 unique entries, and 0 NaN values\n",
            "The column 'num_private'  has 59 unique entries, and 0 NaN values\n",
            "The column 'region_code'  has 27 unique entries, and 0 NaN values\n",
            "The column 'district_code'  has 20 unique entries, and 0 NaN values\n",
            "The column 'population'  has 956 unique entries, and 0 NaN values\n",
            "The column 'construction_year'  has 55 unique entries, and 0 NaN values\n"
          ],
          "name": "stdout"
        }
      ]
    },
    {
      "cell_type": "markdown",
      "metadata": {
        "id": "-wdMLDdLjIeL"
      },
      "source": [
        "#Observation:\n",
        "\n",
        "column num_private has less unique value and we dont have information about it and most of information is zero  so dropping it."
      ]
    },
    {
      "cell_type": "code",
      "metadata": {
        "colab": {
          "base_uri": "https://localhost:8080/",
          "height": 486
        },
        "id": "c-W7CZMAIkqS",
        "outputId": "0c0ce764-8e6c-4d79-f384-5267fa847b15"
      },
      "source": [
        "correlation = df_train.corr(method='spearman')\n",
        "\n",
        "f, ax = plt.subplots(figsize=(8,6))\n",
        "plt.title('Correlation of numerical attributes', size=12)\n",
        "sns.heatmap(correlation,annot=True)"
      ],
      "execution_count": null,
      "outputs": [
        {
          "output_type": "execute_result",
          "data": {
            "text/plain": [
              "<matplotlib.axes._subplots.AxesSubplot at 0x7f9b30ddf150>"
            ]
          },
          "metadata": {
            "tags": []
          },
          "execution_count": 16
        },
        {
          "output_type": "display_data",
          "data": {
            "image/png": "[encoded data removed]",
            "text/plain": [
              "<Figure size 576x432 with 2 Axes>"
            ]
          },
          "metadata": {
            "tags": [],
            "needs_background": "light"
          }
        }
      ]
    },
    {
      "cell_type": "markdown",
      "metadata": {
        "id": "P35AgUOeCj0-"
      },
      "source": [
        "#Observations:\n",
        "1. correlation between gps_height and construction_year is also high but they dont have any obvious connection.\n",
        "2. correlation is not too high between columns.\n"
      ]
    },
    {
      "cell_type": "code",
      "metadata": {
        "colab": {
          "base_uri": "https://localhost:8080/",
          "height": 1000
        },
        "id": "qkI4kITBK14p",
        "outputId": "b13e46c1-a2d3-4c71-fa2b-de04a6792b01"
      },
      "source": [
        "#Plot side by side boxplot for each variable to find which ones are likely to help predict classes\n",
        "\n",
        "for col in numerical_vars:\n",
        "    df_train.boxplot(by='status_group',column=col, grid=False)"
      ],
      "execution_count": null,
      "outputs": [
        {
          "output_type": "stream",
          "text": [
            "/usr/local/lib/python3.7/dist-packages/numpy/core/_asarray.py:83: VisibleDeprecationWarning: Creating an ndarray from ragged nested sequences (which is a list-or-tuple of lists-or-tuples-or ndarrays with different lengths or shapes) is deprecated. If you meant to do this, you must specify 'dtype=object' when creating the ndarray\n",
            "  return array(a, dtype, copy=False, order=order)\n",
            "/usr/local/lib/python3.7/dist-packages/numpy/core/_asarray.py:83: VisibleDeprecationWarning: Creating an ndarray from ragged nested sequences (which is a list-or-tuple of lists-or-tuples-or ndarrays with different lengths or shapes) is deprecated. If you meant to do this, you must specify 'dtype=object' when creating the ndarray\n",
            "  return array(a, dtype, copy=False, order=order)\n",
            "/usr/local/lib/python3.7/dist-packages/numpy/core/_asarray.py:83: VisibleDeprecationWarning: Creating an ndarray from ragged nested sequences (which is a list-or-tuple of lists-or-tuples-or ndarrays with different lengths or shapes) is deprecated. If you meant to do this, you must specify 'dtype=object' when creating the ndarray\n",
            "  return array(a, dtype, copy=False, order=order)\n",
            "/usr/local/lib/python3.7/dist-packages/numpy/core/_asarray.py:83: VisibleDeprecationWarning: Creating an ndarray from ragged nested sequences (which is a list-or-tuple of lists-or-tuples-or ndarrays with different lengths or shapes) is deprecated. If you meant to do this, you must specify 'dtype=object' when creating the ndarray\n",
            "  return array(a, dtype, copy=False, order=order)\n",
            "/usr/local/lib/python3.7/dist-packages/numpy/core/_asarray.py:83: VisibleDeprecationWarning: Creating an ndarray from ragged nested sequences (which is a list-or-tuple of lists-or-tuples-or ndarrays with different lengths or shapes) is deprecated. If you meant to do this, you must specify 'dtype=object' when creating the ndarray\n",
            "  return array(a, dtype, copy=False, order=order)\n",
            "/usr/local/lib/python3.7/dist-packages/numpy/core/_asarray.py:83: VisibleDeprecationWarning: Creating an ndarray from ragged nested sequences (which is a list-or-tuple of lists-or-tuples-or ndarrays with different lengths or shapes) is deprecated. If you meant to do this, you must specify 'dtype=object' when creating the ndarray\n",
            "  return array(a, dtype, copy=False, order=order)\n",
            "/usr/local/lib/python3.7/dist-packages/numpy/core/_asarray.py:83: VisibleDeprecationWarning: Creating an ndarray from ragged nested sequences (which is a list-or-tuple of lists-or-tuples-or ndarrays with different lengths or shapes) is deprecated. If you meant to do this, you must specify 'dtype=object' when creating the ndarray\n",
            "  return array(a, dtype, copy=False, order=order)\n",
            "/usr/local/lib/python3.7/dist-packages/numpy/core/_asarray.py:83: VisibleDeprecationWarning: Creating an ndarray from ragged nested sequences (which is a list-or-tuple of lists-or-tuples-or ndarrays with different lengths or shapes) is deprecated. If you meant to do this, you must specify 'dtype=object' when creating the ndarray\n",
            "  return array(a, dtype, copy=False, order=order)\n",
            "/usr/local/lib/python3.7/dist-packages/numpy/core/_asarray.py:83: VisibleDeprecationWarning: Creating an ndarray from ragged nested sequences (which is a list-or-tuple of lists-or-tuples-or ndarrays with different lengths or shapes) is deprecated. If you meant to do this, you must specify 'dtype=object' when creating the ndarray\n",
            "  return array(a, dtype, copy=False, order=order)\n"
          ],
          "name": "stderr"
        },
        {
          "output_type": "display_data",
          "data": {
            "image/png": "[encoded data removed]",
            "text/plain": [
              "<Figure size 432x288 with 1 Axes>"
            ]
          },
          "metadata": {
            "tags": [],
            "needs_background": "light"
          }
        },
        {
          "output_type": "display_data",
          "data": {
            "image/png": "[encoded data removed]",
            "text/plain": [
              "<Figure size 432x288 with 1 Axes>"
            ]
          },
          "metadata": {
            "tags": [],
            "needs_background": "light"
          }
        },
        {
          "output_type": "display_data",
          "data": {
            "image/png": "[encoded data removed]",
            "text/plain": [
              "<Figure size 432x288 with 1 Axes>"
            ]
          },
          "metadata": {
            "tags": [],
            "needs_background": "light"
          }
        },
        {
          "output_type": "display_data",
          "data": {
            "image/png": "[encoded data removed]",
            "text/plain": [
              "<Figure size 432x288 with 1 Axes>"
            ]
          },
          "metadata": {
            "tags": [],
            "needs_background": "light"
          }
        },
        {
          "output_type": "display_data",
          "data": {
            "image/png": "[encoded data removed]",
            "text/plain": [
              "<Figure size 432x288 with 1 Axes>"
            ]
          },
          "metadata": {
            "tags": [],
            "needs_background": "light"
          }
        },
        {
          "output_type": "display_data",
          "data": {
            "image/png": "[encoded data removed]",
            "text/plain": [
              "<Figure size 432x288 with 1 Axes>"
            ]
          },
          "metadata": {
            "tags": [],
            "needs_background": "light"
          }
        },
        {
          "output_type": "display_data",
          "data": {
            "image/png": "[encoded data removed]",
            "text/plain": [
              "<Figure size 432x288 with 1 Axes>"
            ]
          },
          "metadata": {
            "tags": [],
            "needs_background": "light"
          }
        },
        {
          "output_type": "display_data",
          "data": {
            "image/png": "[encoded data removed]",
            "text/plain": [
              "<Figure size 432x288 with 1 Axes>"
            ]
          },
          "metadata": {
            "tags": [],
            "needs_background": "light"
          }
        },
        {
          "output_type": "display_data",
          "data": {
            "image/png": "[encoded data removed]",
            "text/plain": [
              "<Figure size 432x288 with 1 Axes>"
            ]
          },
          "metadata": {
            "tags": [],
            "needs_background": "light"
          }
        }
      ]
    },
    {
      "cell_type": "markdown",
      "metadata": {
        "id": "XjaFr5IQKNLo"
      },
      "source": [
        "#observations:\n",
        "1. Outliers in Population for\n",
        "population>13000\n",
        "2. Outliers in amount_tsh for amount_tsh > 100000"
      ]
    },
    {
      "cell_type": "code",
      "metadata": {
        "colab": {
          "base_uri": "https://localhost:8080/"
        },
        "id": "7kD5_2CwSXp3",
        "outputId": "04e3213b-97a4-4a7c-fb7d-1ea189edc72d"
      },
      "source": [
        "df_train[numerical_vars].isna().sum()"
      ],
      "execution_count": null,
      "outputs": [
        {
          "output_type": "execute_result",
          "data": {
            "text/plain": [
              "amount_tsh           0\n",
              "gps_height           0\n",
              "longitude            0\n",
              "latitude             0\n",
              "num_private          0\n",
              "region_code          0\n",
              "district_code        0\n",
              "population           0\n",
              "construction_year    0\n",
              "dtype: int64"
            ]
          },
          "metadata": {
            "tags": []
          },
          "execution_count": 18
        }
      ]
    },
    {
      "cell_type": "markdown",
      "metadata": {
        "id": "kEBAJPOsSp3G"
      },
      "source": [
        "#Observation:\n",
        "\n",
        "None of the numerical columns have missing values.\n"
      ]
    },
    {
      "cell_type": "code",
      "metadata": {
        "colab": {
          "base_uri": "https://localhost:8080/"
        },
        "id": "nDWVtBreSajb",
        "outputId": "5e2399e2-9f38-40b4-94e5-48c0be03ec96"
      },
      "source": [
        "len(df_train.population[df_train.population == 0])    ##zero values in population"
      ],
      "execution_count": null,
      "outputs": [
        {
          "output_type": "execute_result",
          "data": {
            "text/plain": [
              "16150"
            ]
          },
          "metadata": {
            "tags": []
          },
          "execution_count": 19
        }
      ]
    },
    {
      "cell_type": "markdown",
      "metadata": {
        "id": "Kj6K2xNOTZEF"
      },
      "source": [
        "#Observation:\n",
        " 16150 entries in population are missing."
      ]
    },
    {
      "cell_type": "code",
      "metadata": {
        "colab": {
          "base_uri": "https://localhost:8080/"
        },
        "id": "H-EnPTDbTYp9",
        "outputId": "a87a228c-2fa0-4e35-cb57-b360493d0020"
      },
      "source": [
        "categorical_vars = [col for col in df_train.columns if                      ##Columns with strings\n",
        "                df_train[col].dtype in ['object']]\n",
        "\n",
        "print(categorical_vars)"
      ],
      "execution_count": null,
      "outputs": [
        {
          "output_type": "stream",
          "text": [
            "['date_recorded', 'funder', 'installer', 'wpt_name', 'basin', 'subvillage', 'region', 'lga', 'ward', 'public_meeting', 'recorded_by', 'scheme_management', 'scheme_name', 'permit', 'extraction_type', 'extraction_type_group', 'extraction_type_class', 'management', 'management_group', 'payment', 'payment_type', 'water_quality', 'quality_group', 'quantity', 'quantity_group', 'source', 'source_type', 'source_class', 'waterpoint_type', 'waterpoint_type_group', 'status_group']\n"
          ],
          "name": "stdout"
        }
      ]
    },
    {
      "cell_type": "code",
      "metadata": {
        "colab": {
          "base_uri": "https://localhost:8080/"
        },
        "id": "3W6acDeGVJSw",
        "outputId": "475664cf-d4f3-40cc-b561-743f8690b11b"
      },
      "source": [
        "df_train[categorical_vars].isna().sum()          ##nan values in categorical_vars"
      ],
      "execution_count": null,
      "outputs": [
        {
          "output_type": "execute_result",
          "data": {
            "text/plain": [
              "date_recorded                0\n",
              "funder                    2793\n",
              "installer                 2807\n",
              "wpt_name                     0\n",
              "basin                        0\n",
              "subvillage                 287\n",
              "region                       0\n",
              "lga                          0\n",
              "ward                         0\n",
              "public_meeting            2491\n",
              "recorded_by                  0\n",
              "scheme_management         2832\n",
              "scheme_name              21110\n",
              "permit                    2336\n",
              "extraction_type              0\n",
              "extraction_type_group        0\n",
              "extraction_type_class        0\n",
              "management                   0\n",
              "management_group             0\n",
              "payment                      0\n",
              "payment_type                 0\n",
              "water_quality                0\n",
              "quality_group                0\n",
              "quantity                     0\n",
              "quantity_group               0\n",
              "source                       0\n",
              "source_type                  0\n",
              "source_class                 0\n",
              "waterpoint_type              0\n",
              "waterpoint_type_group        0\n",
              "status_group                 0\n",
              "dtype: int64"
            ]
          },
          "metadata": {
            "tags": []
          },
          "execution_count": 21
        }
      ]
    },
    {
      "cell_type": "markdown",
      "metadata": {
        "id": "ftl3N0RNVo2B"
      },
      "source": [
        "#Observations:\n",
        "\n",
        "featues with nan values: funder , installer , subvillage , public_meeting,scheme_management,scheme_name  ,permit .\n",
        "           "
      ]
    },
    {
      "cell_type": "code",
      "metadata": {
        "colab": {
          "base_uri": "https://localhost:8080/",
          "height": 351
        },
        "id": "r869Jjf5Vhjh",
        "outputId": "fad8626a-fbf0-453a-9725-034871f22651"
      },
      "source": [
        "sns.countplot(x=df_train['scheme_management'])                   ##Visualising scheme_management\n",
        "plt.xticks(rotation=90)\n",
        "plt.ylabel('Frequency')\n",
        "plt.show()"
      ],
      "execution_count": null,
      "outputs": [
        {
          "output_type": "display_data",
          "data": {
            "image/png": "[encoded data removed]",
            "text/plain": [
              "<Figure size 432x288 with 1 Axes>"
            ]
          },
          "metadata": {
            "tags": [],
            "needs_background": "light"
          }
        }
      ]
    },
    {
      "cell_type": "markdown",
      "metadata": {
        "id": "_mpHe1Oca8Px"
      },
      "source": [
        "#Observation:\n",
        "\n",
        "scheme_management has only 11 categories and null values can be replaced with unknown. "
      ]
    },
    {
      "cell_type": "code",
      "metadata": {
        "colab": {
          "base_uri": "https://localhost:8080/",
          "height": 295
        },
        "id": "J-_gn3iSZdj-",
        "outputId": "f86560dd-4b4b-42ed-985c-a310df082be4"
      },
      "source": [
        "sns.countplot(x=df_train['permit'])                   ##Visualising permit\n",
        "plt.xticks(rotation=90)\n",
        "plt.ylabel('Frequency')\n",
        "plt.show()"
      ],
      "execution_count": null,
      "outputs": [
        {
          "output_type": "display_data",
          "data": {
            "image/png": "[encoded data removed]",
            "text/plain": [
              "<Figure size 432x288 with 1 Axes>"
            ]
          },
          "metadata": {
            "tags": [],
            "needs_background": "light"
          }
        }
      ]
    },
    {
      "cell_type": "code",
      "metadata": {
        "colab": {
          "base_uri": "https://localhost:8080/",
          "height": 299
        },
        "id": "_vmeJAStb8dG",
        "outputId": "0b92a636-4a18-4abf-ed3d-94c879f34ad4"
      },
      "source": [
        "sns.countplot(x=df_train['public_meeting'])                   ##Visualising public_meeting\n",
        "plt.xticks(rotation=90)\n",
        "plt.ylabel('Frequency')\n",
        "plt.show()"
      ],
      "execution_count": null,
      "outputs": [
        {
          "output_type": "display_data",
          "data": {
            "image/png": "[encoded data removed]",
            "text/plain": [
              "<Figure size 432x288 with 1 Axes>"
            ]
          },
          "metadata": {
            "tags": [],
            "needs_background": "light"
          }
        }
      ]
    },
    {
      "cell_type": "markdown",
      "metadata": {
        "id": "3YZUn0OOcR-w"
      },
      "source": [
        "#Observation:\n",
        "permit and public_meeting are only true false , nan values can be replaced by unknown .\n"
      ]
    },
    {
      "cell_type": "code",
      "metadata": {
        "colab": {
          "base_uri": "https://localhost:8080/"
        },
        "id": "SBIXijnifB-X",
        "outputId": "2b5abb2a-f984-41b2-d811-e07fc015194d"
      },
      "source": [
        "for col in categorical_vars: # for each column\n",
        "  unique_entries = pd.unique(df_train[col]) # unique elements in a column\n",
        "  print(f\"The column '{col}'  has {len(unique_entries)} unique entries, and {df_train[col].isnull().sum()} NaN values\")"
      ],
      "execution_count": null,
      "outputs": [
        {
          "output_type": "stream",
          "text": [
            "The column 'date_recorded'  has 346 unique entries, and 0 NaN values\n",
            "The column 'funder'  has 1652 unique entries, and 2793 NaN values\n",
            "The column 'installer'  has 1855 unique entries, and 2807 NaN values\n",
            "The column 'wpt_name'  has 28991 unique entries, and 0 NaN values\n",
            "The column 'basin'  has 9 unique entries, and 0 NaN values\n",
            "The column 'subvillage'  has 16618 unique entries, and 287 NaN values\n",
            "The column 'region'  has 21 unique entries, and 0 NaN values\n",
            "The column 'lga'  has 125 unique entries, and 0 NaN values\n",
            "The column 'ward'  has 2080 unique entries, and 0 NaN values\n",
            "The column 'public_meeting'  has 3 unique entries, and 2491 NaN values\n",
            "The column 'recorded_by'  has 1 unique entries, and 0 NaN values\n",
            "The column 'scheme_management'  has 13 unique entries, and 2832 NaN values\n",
            "The column 'scheme_name'  has 2507 unique entries, and 21110 NaN values\n",
            "The column 'permit'  has 3 unique entries, and 2336 NaN values\n",
            "The column 'extraction_type'  has 18 unique entries, and 0 NaN values\n",
            "The column 'extraction_type_group'  has 13 unique entries, and 0 NaN values\n",
            "The column 'extraction_type_class'  has 7 unique entries, and 0 NaN values\n",
            "The column 'management'  has 12 unique entries, and 0 NaN values\n",
            "The column 'management_group'  has 5 unique entries, and 0 NaN values\n",
            "The column 'payment'  has 7 unique entries, and 0 NaN values\n",
            "The column 'payment_type'  has 7 unique entries, and 0 NaN values\n",
            "The column 'water_quality'  has 8 unique entries, and 0 NaN values\n",
            "The column 'quality_group'  has 6 unique entries, and 0 NaN values\n",
            "The column 'quantity'  has 5 unique entries, and 0 NaN values\n",
            "The column 'quantity_group'  has 5 unique entries, and 0 NaN values\n",
            "The column 'source'  has 10 unique entries, and 0 NaN values\n",
            "The column 'source_type'  has 7 unique entries, and 0 NaN values\n",
            "The column 'source_class'  has 3 unique entries, and 0 NaN values\n",
            "The column 'waterpoint_type'  has 7 unique entries, and 0 NaN values\n",
            "The column 'waterpoint_type_group'  has 6 unique entries, and 0 NaN values\n",
            "The column 'status_group'  has 3 unique entries, and 0 NaN values\n"
          ],
          "name": "stdout"
        }
      ]
    },
    {
      "cell_type": "markdown",
      "metadata": {
        "id": "ka3vUArmgDYd"
      },
      "source": [
        "#Observation:\n",
        "\n",
        "1. subvillage has too many unique entries and nan values is replaced by mode of values of the same region code.\n",
        "2. public_meeting and permit has TRUE/FALSE values so nan values are replaced by unknown values.\n"
      ]
    },
    {
      "cell_type": "markdown",
      "metadata": {
        "id": "ql_8xRObhC21"
      },
      "source": [
        "##Part 2:Variable transformation, feature engineering, feature selection or elimination"
      ]
    },
    {
      "cell_type": "markdown",
      "metadata": {
        "id": "Yaj7KnhplIRL"
      },
      "source": [
        "similar features:\n",
        "\n",
        "1. waterpoint_type and waterpoint_type_group\n",
        "2. source and source_type\n",
        "3. quantity and quantity group\n",
        "4. water_quality and quality_group\n",
        "5. payment and payment_type\n",
        "6. management and management_group\n",
        "7. extraction_type , extraction_type_group and extraction_type_class\n",
        "8. scheme_name and scheme_management\n",
        "9. subvillage, region, region_code, district_code, lga, ward\n",
        "\n",
        "contains similar information"
      ]
    },
    {
      "cell_type": "code",
      "metadata": {
        "colab": {
          "base_uri": "https://localhost:8080/",
          "height": 350
        },
        "id": "Ces14W72k0vt",
        "outputId": "78b5c7bf-51a2-4df3-a425-901cc83fe9df"
      },
      "source": [
        "label_dict = {\"functional\":2,\"functional needs repair\":1,\"non functional\":0}                ##changing the labels as numbers\n",
        "df_train[\"label\"] = df_train[\"status_group\"].map(label_dict)\n",
        "sns.distplot(df_train[\"label\"],kde=False)"
      ],
      "execution_count": null,
      "outputs": [
        {
          "output_type": "stream",
          "text": [
            "/usr/local/lib/python3.7/dist-packages/seaborn/distributions.py:2557: FutureWarning: `distplot` is a deprecated function and will be removed in a future version. Please adapt your code to use either `displot` (a figure-level function with similar flexibility) or `histplot` (an axes-level function for histograms).\n",
            "  warnings.warn(msg, FutureWarning)\n"
          ],
          "name": "stderr"
        },
        {
          "output_type": "execute_result",
          "data": {
            "text/plain": [
              "<matplotlib.axes._subplots.AxesSubplot at 0x7f9b26497d10>"
            ]
          },
          "metadata": {
            "tags": []
          },
          "execution_count": 26
        },
        {
          "output_type": "display_data",
          "data": {
            "image/png": "[encoded data removed]",
            "text/plain": [
              "<Figure size 432x288 with 1 Axes>"
            ]
          },
          "metadata": {
            "tags": [],
            "needs_background": "light"
          }
        }
      ]
    },
    {
      "cell_type": "code",
      "metadata": {
        "colab": {
          "base_uri": "https://localhost:8080/",
          "height": 774
        },
        "id": "K6jYHQ6bmjtD",
        "outputId": "d8b74004-63e3-4863-8215-aea573b5ab73"
      },
      "source": [
        "df_train"
      ],
      "execution_count": null,
      "outputs": [
        {
          "output_type": "execute_result",
          "data": {
            "text/html": [
              "<div>\n",
              "<style scoped>\n",
              "    .dataframe tbody tr th:only-of-type {\n",
              "        vertical-align: middle;\n",
              "    }\n",
              "\n",
              "    .dataframe tbody tr th {\n",
              "        vertical-align: top;\n",
              "    }\n",
              "\n",
              "    .dataframe thead th {\n",
              "        text-align: right;\n",
              "    }\n",
              "</style>\n",
              "<table border=\"1\" class=\"dataframe\">\n",
              "  <thead>\n",
              "    <tr style=\"text-align: right;\">\n",
              "      <th></th>\n",
              "      <th>amount_tsh</th>\n",
              "      <th>date_recorded</th>\n",
              "      <th>funder</th>\n",
              "      <th>gps_height</th>\n",
              "      <th>installer</th>\n",
              "      <th>longitude</th>\n",
              "      <th>latitude</th>\n",
              "      <th>wpt_name</th>\n",
              "      <th>num_private</th>\n",
              "      <th>basin</th>\n",
              "      <th>subvillage</th>\n",
              "      <th>region</th>\n",
              "      <th>region_code</th>\n",
              "      <th>district_code</th>\n",
              "      <th>lga</th>\n",
              "      <th>ward</th>\n",
              "      <th>population</th>\n",
              "      <th>public_meeting</th>\n",
              "      <th>recorded_by</th>\n",
              "      <th>scheme_management</th>\n",
              "      <th>scheme_name</th>\n",
              "      <th>permit</th>\n",
              "      <th>construction_year</th>\n",
              "      <th>extraction_type</th>\n",
              "      <th>extraction_type_group</th>\n",
              "      <th>extraction_type_class</th>\n",
              "      <th>management</th>\n",
              "      <th>management_group</th>\n",
              "      <th>payment</th>\n",
              "      <th>payment_type</th>\n",
              "      <th>water_quality</th>\n",
              "      <th>quality_group</th>\n",
              "      <th>quantity</th>\n",
              "      <th>quantity_group</th>\n",
              "      <th>source</th>\n",
              "      <th>source_type</th>\n",
              "      <th>source_class</th>\n",
              "      <th>waterpoint_type</th>\n",
              "      <th>waterpoint_type_group</th>\n",
              "      <th>status_group</th>\n",
              "      <th>label</th>\n",
              "    </tr>\n",
              "  </thead>\n",
              "  <tbody>\n",
              "    <tr>\n",
              "      <th>0</th>\n",
              "      <td>7.0</td>\n",
              "      <td>2013-03-20</td>\n",
              "      <td>Germany Republi</td>\n",
              "      <td>1203</td>\n",
              "      <td>CES</td>\n",
              "      <td>37.228664</td>\n",
              "      <td>-3.256505</td>\n",
              "      <td>Kwa Abdalla</td>\n",
              "      <td>0</td>\n",
              "      <td>Pangani</td>\n",
              "      <td>Mafurini</td>\n",
              "      <td>Kilimanjaro</td>\n",
              "      <td>3</td>\n",
              "      <td>5</td>\n",
              "      <td>Hai</td>\n",
              "      <td>Machame Kaskazini</td>\n",
              "      <td>90</td>\n",
              "      <td>True</td>\n",
              "      <td>GeoData Consultants Ltd</td>\n",
              "      <td>Water Board</td>\n",
              "      <td>Machame water supply</td>\n",
              "      <td>True</td>\n",
              "      <td>2008</td>\n",
              "      <td>gravity</td>\n",
              "      <td>gravity</td>\n",
              "      <td>gravity</td>\n",
              "      <td>water board</td>\n",
              "      <td>user-group</td>\n",
              "      <td>pay per bucket</td>\n",
              "      <td>per bucket</td>\n",
              "      <td>soft</td>\n",
              "      <td>good</td>\n",
              "      <td>enough</td>\n",
              "      <td>enough</td>\n",
              "      <td>spring</td>\n",
              "      <td>spring</td>\n",
              "      <td>groundwater</td>\n",
              "      <td>communal standpipe</td>\n",
              "      <td>communal standpipe</td>\n",
              "      <td>functional</td>\n",
              "      <td>2</td>\n",
              "    </tr>\n",
              "    <tr>\n",
              "      <th>1</th>\n",
              "      <td>0.0</td>\n",
              "      <td>2011-02-21</td>\n",
              "      <td>Cdtf</td>\n",
              "      <td>1409</td>\n",
              "      <td>CDTF</td>\n",
              "      <td>34.615481</td>\n",
              "      <td>-9.972601</td>\n",
              "      <td>none</td>\n",
              "      <td>0</td>\n",
              "      <td>Lake Nyasa</td>\n",
              "      <td>Ituni</td>\n",
              "      <td>Iringa</td>\n",
              "      <td>11</td>\n",
              "      <td>5</td>\n",
              "      <td>Ludewa</td>\n",
              "      <td>Luana</td>\n",
              "      <td>70</td>\n",
              "      <td>False</td>\n",
              "      <td>GeoData Consultants Ltd</td>\n",
              "      <td>Private operator</td>\n",
              "      <td>Mgowel</td>\n",
              "      <td>False</td>\n",
              "      <td>1984</td>\n",
              "      <td>gravity</td>\n",
              "      <td>gravity</td>\n",
              "      <td>gravity</td>\n",
              "      <td>private operator</td>\n",
              "      <td>commercial</td>\n",
              "      <td>never pay</td>\n",
              "      <td>never pay</td>\n",
              "      <td>soft</td>\n",
              "      <td>good</td>\n",
              "      <td>enough</td>\n",
              "      <td>enough</td>\n",
              "      <td>spring</td>\n",
              "      <td>spring</td>\n",
              "      <td>groundwater</td>\n",
              "      <td>communal standpipe</td>\n",
              "      <td>communal standpipe</td>\n",
              "      <td>functional</td>\n",
              "      <td>2</td>\n",
              "    </tr>\n",
              "    <tr>\n",
              "      <th>2</th>\n",
              "      <td>0.0</td>\n",
              "      <td>2013-01-04</td>\n",
              "      <td>Government Of Tanzania</td>\n",
              "      <td>1572</td>\n",
              "      <td>DWE</td>\n",
              "      <td>36.658778</td>\n",
              "      <td>-3.321529</td>\n",
              "      <td>Kwa Loishiye</td>\n",
              "      <td>0</td>\n",
              "      <td>Pangani</td>\n",
              "      <td>Melebuki</td>\n",
              "      <td>Arusha</td>\n",
              "      <td>2</td>\n",
              "      <td>2</td>\n",
              "      <td>Arusha Rural</td>\n",
              "      <td>Kimnyaki</td>\n",
              "      <td>150</td>\n",
              "      <td>True</td>\n",
              "      <td>GeoData Consultants Ltd</td>\n",
              "      <td>VWC</td>\n",
              "      <td>Saitero olosaita pipe line</td>\n",
              "      <td>True</td>\n",
              "      <td>2002</td>\n",
              "      <td>gravity</td>\n",
              "      <td>gravity</td>\n",
              "      <td>gravity</td>\n",
              "      <td>vwc</td>\n",
              "      <td>user-group</td>\n",
              "      <td>never pay</td>\n",
              "      <td>never pay</td>\n",
              "      <td>soft</td>\n",
              "      <td>good</td>\n",
              "      <td>insufficient</td>\n",
              "      <td>insufficient</td>\n",
              "      <td>spring</td>\n",
              "      <td>spring</td>\n",
              "      <td>groundwater</td>\n",
              "      <td>communal standpipe</td>\n",
              "      <td>communal standpipe</td>\n",
              "      <td>non functional</td>\n",
              "      <td>0</td>\n",
              "    </tr>\n",
              "    <tr>\n",
              "      <th>3</th>\n",
              "      <td>0.0</td>\n",
              "      <td>2011-04-03</td>\n",
              "      <td>District Council</td>\n",
              "      <td>0</td>\n",
              "      <td>District Council</td>\n",
              "      <td>33.628025</td>\n",
              "      <td>-8.860795</td>\n",
              "      <td>Mwanzechele</td>\n",
              "      <td>0</td>\n",
              "      <td>Rufiji</td>\n",
              "      <td>Darajani</td>\n",
              "      <td>Mbeya</td>\n",
              "      <td>12</td>\n",
              "      <td>2</td>\n",
              "      <td>Mbeya Rural</td>\n",
              "      <td>Inyala</td>\n",
              "      <td>0</td>\n",
              "      <td>True</td>\n",
              "      <td>GeoData Consultants Ltd</td>\n",
              "      <td>VWC</td>\n",
              "      <td>NaN</td>\n",
              "      <td>True</td>\n",
              "      <td>0</td>\n",
              "      <td>gravity</td>\n",
              "      <td>gravity</td>\n",
              "      <td>gravity</td>\n",
              "      <td>wug</td>\n",
              "      <td>user-group</td>\n",
              "      <td>pay annually</td>\n",
              "      <td>annually</td>\n",
              "      <td>soft</td>\n",
              "      <td>good</td>\n",
              "      <td>insufficient</td>\n",
              "      <td>insufficient</td>\n",
              "      <td>river</td>\n",
              "      <td>river/lake</td>\n",
              "      <td>surface</td>\n",
              "      <td>communal standpipe</td>\n",
              "      <td>communal standpipe</td>\n",
              "      <td>functional</td>\n",
              "      <td>2</td>\n",
              "    </tr>\n",
              "    <tr>\n",
              "      <th>4</th>\n",
              "      <td>300.0</td>\n",
              "      <td>2013-03-08</td>\n",
              "      <td>District Council</td>\n",
              "      <td>1283</td>\n",
              "      <td>District Council</td>\n",
              "      <td>37.655509</td>\n",
              "      <td>-3.669777</td>\n",
              "      <td>Kwa Kidaya</td>\n",
              "      <td>0</td>\n",
              "      <td>Pangani</td>\n",
              "      <td>Mwira A</td>\n",
              "      <td>Kilimanjaro</td>\n",
              "      <td>3</td>\n",
              "      <td>2</td>\n",
              "      <td>Mwanga</td>\n",
              "      <td>Shinghatini</td>\n",
              "      <td>34</td>\n",
              "      <td>True</td>\n",
              "      <td>GeoData Consultants Ltd</td>\n",
              "      <td>VWC</td>\n",
              "      <td>Churu water supply</td>\n",
              "      <td>False</td>\n",
              "      <td>2007</td>\n",
              "      <td>gravity</td>\n",
              "      <td>gravity</td>\n",
              "      <td>gravity</td>\n",
              "      <td>vwc</td>\n",
              "      <td>user-group</td>\n",
              "      <td>pay monthly</td>\n",
              "      <td>monthly</td>\n",
              "      <td>soft</td>\n",
              "      <td>good</td>\n",
              "      <td>insufficient</td>\n",
              "      <td>insufficient</td>\n",
              "      <td>spring</td>\n",
              "      <td>spring</td>\n",
              "      <td>groundwater</td>\n",
              "      <td>communal standpipe</td>\n",
              "      <td>communal standpipe</td>\n",
              "      <td>functional</td>\n",
              "      <td>2</td>\n",
              "    </tr>\n",
              "    <tr>\n",
              "      <th>...</th>\n",
              "      <td>...</td>\n",
              "      <td>...</td>\n",
              "      <td>...</td>\n",
              "      <td>...</td>\n",
              "      <td>...</td>\n",
              "      <td>...</td>\n",
              "      <td>...</td>\n",
              "      <td>...</td>\n",
              "      <td>...</td>\n",
              "      <td>...</td>\n",
              "      <td>...</td>\n",
              "      <td>...</td>\n",
              "      <td>...</td>\n",
              "      <td>...</td>\n",
              "      <td>...</td>\n",
              "      <td>...</td>\n",
              "      <td>...</td>\n",
              "      <td>...</td>\n",
              "      <td>...</td>\n",
              "      <td>...</td>\n",
              "      <td>...</td>\n",
              "      <td>...</td>\n",
              "      <td>...</td>\n",
              "      <td>...</td>\n",
              "      <td>...</td>\n",
              "      <td>...</td>\n",
              "      <td>...</td>\n",
              "      <td>...</td>\n",
              "      <td>...</td>\n",
              "      <td>...</td>\n",
              "      <td>...</td>\n",
              "      <td>...</td>\n",
              "      <td>...</td>\n",
              "      <td>...</td>\n",
              "      <td>...</td>\n",
              "      <td>...</td>\n",
              "      <td>...</td>\n",
              "      <td>...</td>\n",
              "      <td>...</td>\n",
              "      <td>...</td>\n",
              "      <td>...</td>\n",
              "    </tr>\n",
              "    <tr>\n",
              "      <th>44545</th>\n",
              "      <td>0.0</td>\n",
              "      <td>2013-01-23</td>\n",
              "      <td>World Vision</td>\n",
              "      <td>0</td>\n",
              "      <td>TAWASA</td>\n",
              "      <td>32.383715</td>\n",
              "      <td>-3.457624</td>\n",
              "      <td>Imalabuluhi</td>\n",
              "      <td>0</td>\n",
              "      <td>Lake Tanganyika</td>\n",
              "      <td>Bukenge</td>\n",
              "      <td>Shinyanga</td>\n",
              "      <td>17</td>\n",
              "      <td>3</td>\n",
              "      <td>Kahama</td>\n",
              "      <td>Segese</td>\n",
              "      <td>0</td>\n",
              "      <td>True</td>\n",
              "      <td>GeoData Consultants Ltd</td>\n",
              "      <td>NaN</td>\n",
              "      <td>NaN</td>\n",
              "      <td>True</td>\n",
              "      <td>0</td>\n",
              "      <td>nira/tanira</td>\n",
              "      <td>nira/tanira</td>\n",
              "      <td>handpump</td>\n",
              "      <td>wug</td>\n",
              "      <td>user-group</td>\n",
              "      <td>unknown</td>\n",
              "      <td>unknown</td>\n",
              "      <td>milky</td>\n",
              "      <td>milky</td>\n",
              "      <td>enough</td>\n",
              "      <td>enough</td>\n",
              "      <td>shallow well</td>\n",
              "      <td>shallow well</td>\n",
              "      <td>groundwater</td>\n",
              "      <td>hand pump</td>\n",
              "      <td>hand pump</td>\n",
              "      <td>functional</td>\n",
              "      <td>2</td>\n",
              "    </tr>\n",
              "    <tr>\n",
              "      <th>44546</th>\n",
              "      <td>0.0</td>\n",
              "      <td>2011-07-25</td>\n",
              "      <td>Ded</td>\n",
              "      <td>0</td>\n",
              "      <td>DED</td>\n",
              "      <td>31.615509</td>\n",
              "      <td>-2.738682</td>\n",
              "      <td>Ilyamchele Center</td>\n",
              "      <td>0</td>\n",
              "      <td>Lake Victoria</td>\n",
              "      <td>Ilyamchele Center</td>\n",
              "      <td>Kagera</td>\n",
              "      <td>18</td>\n",
              "      <td>8</td>\n",
              "      <td>Chato</td>\n",
              "      <td>Katende</td>\n",
              "      <td>0</td>\n",
              "      <td>True</td>\n",
              "      <td>GeoData Consultants Ltd</td>\n",
              "      <td>WUA</td>\n",
              "      <td>NaN</td>\n",
              "      <td>True</td>\n",
              "      <td>0</td>\n",
              "      <td>afridev</td>\n",
              "      <td>afridev</td>\n",
              "      <td>handpump</td>\n",
              "      <td>wua</td>\n",
              "      <td>user-group</td>\n",
              "      <td>pay monthly</td>\n",
              "      <td>monthly</td>\n",
              "      <td>soft</td>\n",
              "      <td>good</td>\n",
              "      <td>enough</td>\n",
              "      <td>enough</td>\n",
              "      <td>hand dtw</td>\n",
              "      <td>borehole</td>\n",
              "      <td>groundwater</td>\n",
              "      <td>hand pump</td>\n",
              "      <td>hand pump</td>\n",
              "      <td>non functional</td>\n",
              "      <td>0</td>\n",
              "    </tr>\n",
              "    <tr>\n",
              "      <th>44547</th>\n",
              "      <td>0.0</td>\n",
              "      <td>2013-02-23</td>\n",
              "      <td>Government Of Tanzania</td>\n",
              "      <td>969</td>\n",
              "      <td>Government</td>\n",
              "      <td>35.134412</td>\n",
              "      <td>-10.676062</td>\n",
              "      <td>Kwa Mzee Maondo</td>\n",
              "      <td>0</td>\n",
              "      <td>Ruvuma / Southern Coast</td>\n",
              "      <td>Masango</td>\n",
              "      <td>Ruvuma</td>\n",
              "      <td>10</td>\n",
              "      <td>3</td>\n",
              "      <td>Mbinga</td>\n",
              "      <td>Kigonsera</td>\n",
              "      <td>60</td>\n",
              "      <td>NaN</td>\n",
              "      <td>GeoData Consultants Ltd</td>\n",
              "      <td>VWC</td>\n",
              "      <td>Government</td>\n",
              "      <td>NaN</td>\n",
              "      <td>1977</td>\n",
              "      <td>gravity</td>\n",
              "      <td>gravity</td>\n",
              "      <td>gravity</td>\n",
              "      <td>vwc</td>\n",
              "      <td>user-group</td>\n",
              "      <td>unknown</td>\n",
              "      <td>unknown</td>\n",
              "      <td>soft</td>\n",
              "      <td>good</td>\n",
              "      <td>seasonal</td>\n",
              "      <td>seasonal</td>\n",
              "      <td>spring</td>\n",
              "      <td>spring</td>\n",
              "      <td>groundwater</td>\n",
              "      <td>communal standpipe</td>\n",
              "      <td>communal standpipe</td>\n",
              "      <td>functional</td>\n",
              "      <td>2</td>\n",
              "    </tr>\n",
              "    <tr>\n",
              "      <th>44548</th>\n",
              "      <td>200.0</td>\n",
              "      <td>2013-03-26</td>\n",
              "      <td>Adra</td>\n",
              "      <td>1269</td>\n",
              "      <td>ADRA/Government</td>\n",
              "      <td>37.886287</td>\n",
              "      <td>-4.390882</td>\n",
              "      <td>Miembeni</td>\n",
              "      <td>0</td>\n",
              "      <td>Pangani</td>\n",
              "      <td>Mng'Ende</td>\n",
              "      <td>Kilimanjaro</td>\n",
              "      <td>3</td>\n",
              "      <td>3</td>\n",
              "      <td>Same</td>\n",
              "      <td>Suji</td>\n",
              "      <td>80</td>\n",
              "      <td>True</td>\n",
              "      <td>GeoData Consultants Ltd</td>\n",
              "      <td>Water authority</td>\n",
              "      <td>Kiumba water supply</td>\n",
              "      <td>True</td>\n",
              "      <td>2011</td>\n",
              "      <td>gravity</td>\n",
              "      <td>gravity</td>\n",
              "      <td>gravity</td>\n",
              "      <td>vwc</td>\n",
              "      <td>user-group</td>\n",
              "      <td>pay monthly</td>\n",
              "      <td>monthly</td>\n",
              "      <td>soft</td>\n",
              "      <td>good</td>\n",
              "      <td>insufficient</td>\n",
              "      <td>insufficient</td>\n",
              "      <td>spring</td>\n",
              "      <td>spring</td>\n",
              "      <td>groundwater</td>\n",
              "      <td>communal standpipe</td>\n",
              "      <td>communal standpipe</td>\n",
              "      <td>functional</td>\n",
              "      <td>2</td>\n",
              "    </tr>\n",
              "    <tr>\n",
              "      <th>44549</th>\n",
              "      <td>0.0</td>\n",
              "      <td>2013-01-26</td>\n",
              "      <td>World Vision</td>\n",
              "      <td>0</td>\n",
              "      <td>Consulting Engineer</td>\n",
              "      <td>32.976560</td>\n",
              "      <td>-4.262149</td>\n",
              "      <td>Itunda A Mkwajuni</td>\n",
              "      <td>0</td>\n",
              "      <td>Lake Tanganyika</td>\n",
              "      <td>Itunda A</td>\n",
              "      <td>Tabora</td>\n",
              "      <td>14</td>\n",
              "      <td>1</td>\n",
              "      <td>Nzega</td>\n",
              "      <td>Karitu</td>\n",
              "      <td>0</td>\n",
              "      <td>True</td>\n",
              "      <td>GeoData Consultants Ltd</td>\n",
              "      <td>VWC</td>\n",
              "      <td>NaN</td>\n",
              "      <td>False</td>\n",
              "      <td>0</td>\n",
              "      <td>nira/tanira</td>\n",
              "      <td>nira/tanira</td>\n",
              "      <td>handpump</td>\n",
              "      <td>vwc</td>\n",
              "      <td>user-group</td>\n",
              "      <td>pay when scheme fails</td>\n",
              "      <td>on failure</td>\n",
              "      <td>soft</td>\n",
              "      <td>good</td>\n",
              "      <td>enough</td>\n",
              "      <td>enough</td>\n",
              "      <td>shallow well</td>\n",
              "      <td>shallow well</td>\n",
              "      <td>groundwater</td>\n",
              "      <td>hand pump</td>\n",
              "      <td>hand pump</td>\n",
              "      <td>functional</td>\n",
              "      <td>2</td>\n",
              "    </tr>\n",
              "  </tbody>\n",
              "</table>\n",
              "<p>44550 rows × 41 columns</p>\n",
              "</div>"
            ],
            "text/plain": [
              "       amount_tsh date_recorded  ...    status_group  label\n",
              "0             7.0    2013-03-20  ...      functional      2\n",
              "1             0.0    2011-02-21  ...      functional      2\n",
              "2             0.0    2013-01-04  ...  non functional      0\n",
              "3             0.0    2011-04-03  ...      functional      2\n",
              "4           300.0    2013-03-08  ...      functional      2\n",
              "...           ...           ...  ...             ...    ...\n",
              "44545         0.0    2013-01-23  ...      functional      2\n",
              "44546         0.0    2011-07-25  ...  non functional      0\n",
              "44547         0.0    2013-02-23  ...      functional      2\n",
              "44548       200.0    2013-03-26  ...      functional      2\n",
              "44549         0.0    2013-01-26  ...      functional      2\n",
              "\n",
              "[44550 rows x 41 columns]"
            ]
          },
          "metadata": {
            "tags": []
          },
          "execution_count": 27
        }
      ]
    },
    {
      "cell_type": "code",
      "metadata": {
        "id": "0y4KUnoEmoQ7"
      },
      "source": [
        "df_train = df_train.drop(['status_group'],axis='columns')"
      ],
      "execution_count": null,
      "outputs": []
    },
    {
      "cell_type": "code",
      "metadata": {
        "id": "2V9l__7FfyGQ"
      },
      "source": [
        "columns_to_drop = ['subvillage','region','lga','ward','scheme_name','extraction_type_group',\n",
        "                   'extraction_type_class','management_group','payment','water_quality',\n",
        "                   'quantity','source_type','waterpoint_type_group','recorded_by','num_private','wpt_name']\n",
        "\n"
      ],
      "execution_count": null,
      "outputs": []
    },
    {
      "cell_type": "code",
      "metadata": {
        "id": "0Oj56ndgv9q1"
      },
      "source": [
        "df_train = df_train.drop(columns_to_drop,axis='columns')         ##dropping columns from train dataset\n",
        "df_test = df_test.drop(columns_to_drop,axis='columns')           ## dropping columns from test dataset"
      ],
      "execution_count": null,
      "outputs": []
    },
    {
      "cell_type": "code",
      "metadata": {
        "id": "2TBpLZ4svkPF"
      },
      "source": [
        "df_train[\"scheme_management\"].fillna(\"unknown\", inplace = True)                          ## replacing nan values with 'unknown' string\n",
        "df_train[\"public_meeting\"].fillna(\"unknown\", inplace = True)\n",
        "df_train[\"permit\"].fillna(\"unknown\", inplace = True)\n",
        "df_train[\"funder\"].fillna(\"unknown\", inplace = True)\n",
        "df_train[\"installer\"].fillna(\"unknown\", inplace = True)\n",
        "\n",
        "df_test[\"scheme_management\"].fillna(\"unknown\", inplace = True)\n",
        "df_test[\"public_meeting\"].fillna(\"unknown\", inplace = True)\n",
        "df_test[\"permit\"].fillna(\"unknown\", inplace = True)\n",
        "df_test[\"funder\"].fillna(\"unknown\", inplace = True)\n",
        "df_test[\"installer\"].fillna(\"unknown\", inplace = True)"
      ],
      "execution_count": null,
      "outputs": []
    },
    {
      "cell_type": "code",
      "metadata": {
        "colab": {
          "base_uri": "https://localhost:8080/",
          "height": 840
        },
        "id": "f7nI5lt1xppG",
        "outputId": "123041cc-4a96-4a23-b57f-4df4d264eff7"
      },
      "source": [
        "display(df_train.isna().sum())\n",
        "display(df_test.isna().sum())\n"
      ],
      "execution_count": null,
      "outputs": [
        {
          "output_type": "display_data",
          "data": {
            "text/plain": [
              "amount_tsh           0\n",
              "date_recorded        0\n",
              "funder               0\n",
              "gps_height           0\n",
              "installer            0\n",
              "longitude            0\n",
              "latitude             0\n",
              "basin                0\n",
              "region_code          0\n",
              "district_code        0\n",
              "population           0\n",
              "public_meeting       0\n",
              "scheme_management    0\n",
              "permit               0\n",
              "construction_year    0\n",
              "extraction_type      0\n",
              "management           0\n",
              "payment_type         0\n",
              "quality_group        0\n",
              "quantity_group       0\n",
              "source               0\n",
              "source_class         0\n",
              "waterpoint_type      0\n",
              "label                0\n",
              "dtype: int64"
            ]
          },
          "metadata": {
            "tags": []
          }
        },
        {
          "output_type": "display_data",
          "data": {
            "text/plain": [
              "amount_tsh           0\n",
              "date_recorded        0\n",
              "funder               0\n",
              "gps_height           0\n",
              "installer            0\n",
              "longitude            0\n",
              "latitude             0\n",
              "basin                0\n",
              "region_code          0\n",
              "district_code        0\n",
              "population           0\n",
              "public_meeting       0\n",
              "scheme_management    0\n",
              "permit               0\n",
              "construction_year    0\n",
              "extraction_type      0\n",
              "management           0\n",
              "payment_type         0\n",
              "quality_group        0\n",
              "quantity_group       0\n",
              "source               0\n",
              "source_class         0\n",
              "waterpoint_type      0\n",
              "dtype: int64"
            ]
          },
          "metadata": {
            "tags": []
          }
        }
      ]
    },
    {
      "cell_type": "markdown",
      "metadata": {
        "id": "hB5c64Y0ywC1"
      },
      "source": [
        "#Observatioins:\n",
        "\n",
        "all columns have 0 nan values in test data and train data."
      ]
    },
    {
      "cell_type": "code",
      "metadata": {
        "id": "g4yhKkRwyV7R",
        "colab": {
          "base_uri": "https://localhost:8080/",
          "height": 299
        },
        "outputId": "6f5f14aa-46fb-4668-d120-ab672f76dd1c"
      },
      "source": [
        "df_train.head()"
      ],
      "execution_count": null,
      "outputs": [
        {
          "output_type": "execute_result",
          "data": {
            "text/html": [
              "<div>\n",
              "<style scoped>\n",
              "    .dataframe tbody tr th:only-of-type {\n",
              "        vertical-align: middle;\n",
              "    }\n",
              "\n",
              "    .dataframe tbody tr th {\n",
              "        vertical-align: top;\n",
              "    }\n",
              "\n",
              "    .dataframe thead th {\n",
              "        text-align: right;\n",
              "    }\n",
              "</style>\n",
              "<table border=\"1\" class=\"dataframe\">\n",
              "  <thead>\n",
              "    <tr style=\"text-align: right;\">\n",
              "      <th></th>\n",
              "      <th>amount_tsh</th>\n",
              "      <th>date_recorded</th>\n",
              "      <th>funder</th>\n",
              "      <th>gps_height</th>\n",
              "      <th>installer</th>\n",
              "      <th>longitude</th>\n",
              "      <th>latitude</th>\n",
              "      <th>basin</th>\n",
              "      <th>region_code</th>\n",
              "      <th>district_code</th>\n",
              "      <th>population</th>\n",
              "      <th>public_meeting</th>\n",
              "      <th>scheme_management</th>\n",
              "      <th>permit</th>\n",
              "      <th>construction_year</th>\n",
              "      <th>extraction_type</th>\n",
              "      <th>management</th>\n",
              "      <th>payment_type</th>\n",
              "      <th>quality_group</th>\n",
              "      <th>quantity_group</th>\n",
              "      <th>source</th>\n",
              "      <th>source_class</th>\n",
              "      <th>waterpoint_type</th>\n",
              "      <th>label</th>\n",
              "    </tr>\n",
              "  </thead>\n",
              "  <tbody>\n",
              "    <tr>\n",
              "      <th>0</th>\n",
              "      <td>7.0</td>\n",
              "      <td>2013-03-20</td>\n",
              "      <td>Germany Republi</td>\n",
              "      <td>1203</td>\n",
              "      <td>CES</td>\n",
              "      <td>37.228664</td>\n",
              "      <td>-3.256505</td>\n",
              "      <td>Pangani</td>\n",
              "      <td>3</td>\n",
              "      <td>5</td>\n",
              "      <td>90</td>\n",
              "      <td>True</td>\n",
              "      <td>Water Board</td>\n",
              "      <td>True</td>\n",
              "      <td>2008</td>\n",
              "      <td>gravity</td>\n",
              "      <td>water board</td>\n",
              "      <td>per bucket</td>\n",
              "      <td>good</td>\n",
              "      <td>enough</td>\n",
              "      <td>spring</td>\n",
              "      <td>groundwater</td>\n",
              "      <td>communal standpipe</td>\n",
              "      <td>2</td>\n",
              "    </tr>\n",
              "    <tr>\n",
              "      <th>1</th>\n",
              "      <td>0.0</td>\n",
              "      <td>2011-02-21</td>\n",
              "      <td>Cdtf</td>\n",
              "      <td>1409</td>\n",
              "      <td>CDTF</td>\n",
              "      <td>34.615481</td>\n",
              "      <td>-9.972601</td>\n",
              "      <td>Lake Nyasa</td>\n",
              "      <td>11</td>\n",
              "      <td>5</td>\n",
              "      <td>70</td>\n",
              "      <td>False</td>\n",
              "      <td>Private operator</td>\n",
              "      <td>False</td>\n",
              "      <td>1984</td>\n",
              "      <td>gravity</td>\n",
              "      <td>private operator</td>\n",
              "      <td>never pay</td>\n",
              "      <td>good</td>\n",
              "      <td>enough</td>\n",
              "      <td>spring</td>\n",
              "      <td>groundwater</td>\n",
              "      <td>communal standpipe</td>\n",
              "      <td>2</td>\n",
              "    </tr>\n",
              "    <tr>\n",
              "      <th>2</th>\n",
              "      <td>0.0</td>\n",
              "      <td>2013-01-04</td>\n",
              "      <td>Government Of Tanzania</td>\n",
              "      <td>1572</td>\n",
              "      <td>DWE</td>\n",
              "      <td>36.658778</td>\n",
              "      <td>-3.321529</td>\n",
              "      <td>Pangani</td>\n",
              "      <td>2</td>\n",
              "      <td>2</td>\n",
              "      <td>150</td>\n",
              "      <td>True</td>\n",
              "      <td>VWC</td>\n",
              "      <td>True</td>\n",
              "      <td>2002</td>\n",
              "      <td>gravity</td>\n",
              "      <td>vwc</td>\n",
              "      <td>never pay</td>\n",
              "      <td>good</td>\n",
              "      <td>insufficient</td>\n",
              "      <td>spring</td>\n",
              "      <td>groundwater</td>\n",
              "      <td>communal standpipe</td>\n",
              "      <td>0</td>\n",
              "    </tr>\n",
              "    <tr>\n",
              "      <th>3</th>\n",
              "      <td>0.0</td>\n",
              "      <td>2011-04-03</td>\n",
              "      <td>District Council</td>\n",
              "      <td>0</td>\n",
              "      <td>District Council</td>\n",
              "      <td>33.628025</td>\n",
              "      <td>-8.860795</td>\n",
              "      <td>Rufiji</td>\n",
              "      <td>12</td>\n",
              "      <td>2</td>\n",
              "      <td>0</td>\n",
              "      <td>True</td>\n",
              "      <td>VWC</td>\n",
              "      <td>True</td>\n",
              "      <td>0</td>\n",
              "      <td>gravity</td>\n",
              "      <td>wug</td>\n",
              "      <td>annually</td>\n",
              "      <td>good</td>\n",
              "      <td>insufficient</td>\n",
              "      <td>river</td>\n",
              "      <td>surface</td>\n",
              "      <td>communal standpipe</td>\n",
              "      <td>2</td>\n",
              "    </tr>\n",
              "    <tr>\n",
              "      <th>4</th>\n",
              "      <td>300.0</td>\n",
              "      <td>2013-03-08</td>\n",
              "      <td>District Council</td>\n",
              "      <td>1283</td>\n",
              "      <td>District Council</td>\n",
              "      <td>37.655509</td>\n",
              "      <td>-3.669777</td>\n",
              "      <td>Pangani</td>\n",
              "      <td>3</td>\n",
              "      <td>2</td>\n",
              "      <td>34</td>\n",
              "      <td>True</td>\n",
              "      <td>VWC</td>\n",
              "      <td>False</td>\n",
              "      <td>2007</td>\n",
              "      <td>gravity</td>\n",
              "      <td>vwc</td>\n",
              "      <td>monthly</td>\n",
              "      <td>good</td>\n",
              "      <td>insufficient</td>\n",
              "      <td>spring</td>\n",
              "      <td>groundwater</td>\n",
              "      <td>communal standpipe</td>\n",
              "      <td>2</td>\n",
              "    </tr>\n",
              "  </tbody>\n",
              "</table>\n",
              "</div>"
            ],
            "text/plain": [
              "   amount_tsh date_recorded  ...     waterpoint_type  label\n",
              "0         7.0    2013-03-20  ...  communal standpipe      2\n",
              "1         0.0    2011-02-21  ...  communal standpipe      2\n",
              "2         0.0    2013-01-04  ...  communal standpipe      0\n",
              "3         0.0    2011-04-03  ...  communal standpipe      2\n",
              "4       300.0    2013-03-08  ...  communal standpipe      2\n",
              "\n",
              "[5 rows x 24 columns]"
            ]
          },
          "metadata": {
            "tags": []
          },
          "execution_count": 33
        }
      ]
    },
    {
      "cell_type": "code",
      "metadata": {
        "colab": {
          "base_uri": "https://localhost:8080/"
        },
        "id": "TskQWNTc5P99",
        "outputId": "cd65b978-532d-4c9f-9894-618dbe21d96f"
      },
      "source": [
        "categorical_vars1 = [col for col in df_train.columns if                      ##Columns with strings\n",
        "                df_train[col].dtype in ['object']]\n",
        "\n",
        "print(categorical_vars1)"
      ],
      "execution_count": null,
      "outputs": [
        {
          "output_type": "stream",
          "text": [
            "['date_recorded', 'funder', 'installer', 'basin', 'public_meeting', 'scheme_management', 'permit', 'extraction_type', 'management', 'payment_type', 'quality_group', 'quantity_group', 'source', 'source_class', 'waterpoint_type']\n"
          ],
          "name": "stdout"
        }
      ]
    },
    {
      "cell_type": "code",
      "metadata": {
        "colab": {
          "base_uri": "https://localhost:8080/"
        },
        "id": "i8Z6hlS26kh0",
        "outputId": "1807cd35-428b-4d0a-ef8a-262b58c7ac3a"
      },
      "source": [
        "for col in categorical_vars1: # for each column\n",
        "  unique_entries1 = pd.unique(df_train[col]) # unique elements in a column\n",
        "  print(f\"The column '{col}'  has {len(unique_entries1)} unique entries, and {df_train[col].isnull().sum()} NaN values\")"
      ],
      "execution_count": null,
      "outputs": [
        {
          "output_type": "stream",
          "text": [
            "The column 'date_recorded'  has 346 unique entries, and 0 NaN values\n",
            "The column 'funder'  has 1652 unique entries, and 0 NaN values\n",
            "The column 'installer'  has 1855 unique entries, and 0 NaN values\n",
            "The column 'basin'  has 9 unique entries, and 0 NaN values\n",
            "The column 'public_meeting'  has 3 unique entries, and 0 NaN values\n",
            "The column 'scheme_management'  has 13 unique entries, and 0 NaN values\n",
            "The column 'permit'  has 3 unique entries, and 0 NaN values\n",
            "The column 'extraction_type'  has 18 unique entries, and 0 NaN values\n",
            "The column 'management'  has 12 unique entries, and 0 NaN values\n",
            "The column 'payment_type'  has 7 unique entries, and 0 NaN values\n",
            "The column 'quality_group'  has 6 unique entries, and 0 NaN values\n",
            "The column 'quantity_group'  has 5 unique entries, and 0 NaN values\n",
            "The column 'source'  has 10 unique entries, and 0 NaN values\n",
            "The column 'source_class'  has 3 unique entries, and 0 NaN values\n",
            "The column 'waterpoint_type'  has 7 unique entries, and 0 NaN values\n"
          ],
          "name": "stdout"
        }
      ]
    },
    {
      "cell_type": "markdown",
      "metadata": {
        "id": "P666--Qh9lId"
      },
      "source": [
        "#Observations:\n",
        "\n",
        "1. columns with cardanality lower than 10 can be one hot encoded\n",
        "\n",
        "*   status_group(target)\n",
        "*   waterpoint_type\n",
        "*   source_class\n",
        "*   source\n",
        "*   quantity_group\n",
        "*   quality_group\n",
        "*   payment_type\n",
        "*   permit\n",
        "*   public_meeting\n",
        "*   basin\n",
        "\n",
        "2. columns with cardanality which can be reduced to 10 to perform one hot encoding\n",
        "\n",
        "\n",
        "\n",
        "*   management\n",
        "*   extraction_type\n",
        "*   scheme_management\n",
        "\n",
        "3. columns with cardanality too high\n",
        "\n",
        "*   funder\n",
        "*   installer\n",
        "*   date_recorded\n",
        "\n",
        "\n",
        "\n",
        "\n",
        "\n",
        "\n",
        "\n",
        "\n",
        "\n",
        "\n",
        "\n",
        "\n",
        "\n",
        "\n",
        "\n",
        "\n",
        "\n",
        "\n",
        "\n",
        "\n"
      ]
    },
    {
      "cell_type": "markdown",
      "metadata": {
        "id": "VeQqzydgKwI-"
      },
      "source": [
        "#reducing  cardanality of columns."
      ]
    },
    {
      "cell_type": "markdown",
      "metadata": {
        "id": "LBpJu-lhSOSx"
      },
      "source": [
        "##scheme_management"
      ]
    },
    {
      "cell_type": "code",
      "metadata": {
        "colab": {
          "base_uri": "https://localhost:8080/"
        },
        "id": "-CvmS9cV8SvG",
        "outputId": "99dcf149-896a-4bb5-a2c2-7a5d58678b61"
      },
      "source": [
        "df_train['scheme_management'].value_counts()        ##counts of unique strings"
      ],
      "execution_count": null,
      "outputs": [
        {
          "output_type": "execute_result",
          "data": {
            "text/plain": [
              "VWC                 27651\n",
              "WUG                  3906\n",
              "unknown              2832\n",
              "Water authority      2361\n",
              "WUA                  2166\n",
              "Water Board          2078\n",
              "Parastatal           1272\n",
              "Private operator      792\n",
              "Company               790\n",
              "Other                 575\n",
              "SWC                    69\n",
              "Trust                  57\n",
              "None                    1\n",
              "Name: scheme_management, dtype: int64"
            ]
          },
          "metadata": {
            "tags": []
          },
          "execution_count": 36
        }
      ]
    },
    {
      "cell_type": "code",
      "metadata": {
        "id": "a1QQ2x7BBWca"
      },
      "source": [
        "def reducing_cadanality(row):                         ##reducing cardanality by taking Trust,None,unknown as other\n",
        "    if row['scheme_management']=='VWC':\n",
        "        return 'vwc'\n",
        "    elif row['scheme_management']=='WUG':\n",
        "        return 'wug'\n",
        "    elif row['scheme_management']=='Water authority':\n",
        "        return 'wtr_auth'\n",
        "    elif row['scheme_management']=='WUA':\n",
        "        return 'wua'\n",
        "    elif row['scheme_management']=='Water Board':\n",
        "        return 'wtr_brd'\n",
        "    elif row['scheme_management']=='Parastatal':\n",
        "        return 'parastatal'\n",
        "    elif row['scheme_management']=='Private operator':\n",
        "        return 'pri_optr'\n",
        "    elif row['scheme_management']=='SWC':\n",
        "        return 'swc'\n",
        "    elif row['scheme_management']=='Company':\n",
        "        return 'company'\n",
        "    else:\n",
        "        return 'other'\n",
        "df_train['scheme_management'] = df_train.apply(lambda row: reducing_cadanality(row), axis=1)\n",
        "df_test['scheme_management'] = df_test.apply(lambda row: reducing_cadanality(row), axis=1)"
      ],
      "execution_count": null,
      "outputs": []
    },
    {
      "cell_type": "markdown",
      "metadata": {
        "id": "yLLNJEEBSS0Z"
      },
      "source": [
        "#extraction_type"
      ]
    },
    {
      "cell_type": "code",
      "metadata": {
        "colab": {
          "base_uri": "https://localhost:8080/"
        },
        "id": "Hc66PA2hFJRY",
        "outputId": "65939d76-3f28-408b-f534-d9f26c89ced4"
      },
      "source": [
        "df_train.extraction_type.value_counts()          ##counts of unique strings"
      ],
      "execution_count": null,
      "outputs": [
        {
          "output_type": "execute_result",
          "data": {
            "text/plain": [
              "gravity                      20127\n",
              "nira/tanira                   6130\n",
              "other                         4768\n",
              "submersible                   3560\n",
              "swn 80                        2771\n",
              "mono                          2164\n",
              "india mark ii                 1768\n",
              "afridev                       1339\n",
              "ksb                           1043\n",
              "other - rope pump              335\n",
              "other - swn 81                 177\n",
              "windmill                        89\n",
              "india mark iii                  77\n",
              "cemo                            70\n",
              "other - play pump               65\n",
              "walimi                          39\n",
              "climax                          26\n",
              "other - mkulima/shinyanga        2\n",
              "Name: extraction_type, dtype: int64"
            ]
          },
          "metadata": {
            "tags": []
          },
          "execution_count": 38
        }
      ]
    },
    {
      "cell_type": "markdown",
      "metadata": {
        "id": "1LGAScOfKCoA"
      },
      "source": [
        "reducing cardanility by taking other - mkulima/shinyanga  ,climax , walimi ,other - play pump ,india mark iii ,cemo ,other - rope pump  ,other - swn 81 as other"
      ]
    },
    {
      "cell_type": "code",
      "metadata": {
        "id": "f-GmNrvnFUcq"
      },
      "source": [
        "def reducing_cadanality1(row):                                                ##Considering first few variables and merging rest with other\n",
        "    if row['extraction_type']=='gravity':\n",
        "        return 'gravity'\n",
        "    elif row['extraction_type']=='nira/tanira':\n",
        "        return 'nira/tanira'\n",
        "    elif row['extraction_type']=='submersible':\n",
        "        return 'submersible'\n",
        "    elif row['extraction_type']=='swn 80':\n",
        "        return 'swn_80'\n",
        "    elif row['extraction_type']=='mono':\n",
        "        return 'mono'\n",
        "    elif row['extraction_type']=='india mark ii':\n",
        "        return 'india_mark_ii'\n",
        "    elif row['extraction_type']=='afridev':\n",
        "        return 'afridev'\n",
        "    elif row['extraction_type']=='ksb':\n",
        "        return 'ksb'\n",
        "    elif row['extraction_type']=='windmill':\n",
        "        return 'windmill'\n",
        "    else:\n",
        "        return 'other'\n",
        "df_train['extraction_type'] = df_train.apply(lambda row: reducing_cadanality1(row), axis=1)\n",
        "df_test['extraction_type'] = df_test.apply(lambda row: reducing_cadanality1(row), axis=1)"
      ],
      "execution_count": null,
      "outputs": []
    },
    {
      "cell_type": "markdown",
      "metadata": {
        "id": "UVrp2h7cSYEa"
      },
      "source": [
        "##management"
      ]
    },
    {
      "cell_type": "code",
      "metadata": {
        "colab": {
          "base_uri": "https://localhost:8080/"
        },
        "id": "NXlpcMPNGbJQ",
        "outputId": "c97faafd-920f-4eca-8929-5b5cac965f9b"
      },
      "source": [
        "df_train.management.value_counts()                   ##counts of unique strings"
      ],
      "execution_count": null,
      "outputs": [
        {
          "output_type": "execute_result",
          "data": {
            "text/plain": [
              "vwc                 30371\n",
              "wug                  4874\n",
              "water board          2221\n",
              "wua                  1907\n",
              "private operator     1485\n",
              "parastatal           1347\n",
              "water authority       677\n",
              "other                 622\n",
              "company               512\n",
              "unknown               402\n",
              "other - school         70\n",
              "trust                  62\n",
              "Name: management, dtype: int64"
            ]
          },
          "metadata": {
            "tags": []
          },
          "execution_count": 40
        }
      ]
    },
    {
      "cell_type": "code",
      "metadata": {
        "id": "iRp9Z9A_Ghel"
      },
      "source": [
        "def reducing_cadanality2(row):                                              #Merging low frequency variables with other\n",
        "    if row['management']=='vwc':\n",
        "        return 'vwc'\n",
        "    elif row['management']=='wug':\n",
        "        return 'wug'\n",
        "    elif row['management']=='water board':\n",
        "        return 'water board'\n",
        "    elif row['management']=='wua':\n",
        "        return 'wua'\n",
        "    elif row['management']=='private operator':\n",
        "        return 'private operator'\n",
        "    elif row['management']=='parastatal':\n",
        "        return 'parastatal'\n",
        "    elif row['management']=='water authority':\n",
        "        return 'water authority'\n",
        "    elif row['management']=='company':\n",
        "        return 'company'\n",
        "    elif row['management']=='trust':\n",
        "        return 'trust'\n",
        "    else:\n",
        "        return 'other'\n",
        "df_train['management'] = df_train.apply(lambda row: reducing_cadanality2(row), axis=1)\n",
        "df_test['management'] = df_test.apply(lambda row: reducing_cadanality2(row), axis=1)"
      ],
      "execution_count": null,
      "outputs": []
    },
    {
      "cell_type": "markdown",
      "metadata": {
        "id": "jqh9kTv4SJjB"
      },
      "source": [
        "##funder"
      ]
    },
    {
      "cell_type": "code",
      "metadata": {
        "colab": {
          "base_uri": "https://localhost:8080/"
        },
        "id": "63hcsYlcLCv1",
        "outputId": "b68023d5-5232-4b42-bd6e-5feb4a5a047f"
      },
      "source": [
        "df_train.funder.value_counts().head(20) "
      ],
      "execution_count": null,
      "outputs": [
        {
          "output_type": "execute_result",
          "data": {
            "text/plain": [
              "Government Of Tanzania    6780\n",
              "unknown                   2793\n",
              "Danida                    2362\n",
              "Hesawa                    1639\n",
              "Rwssp                     1032\n",
              "Kkkt                       964\n",
              "World Bank                 962\n",
              "World Vision               924\n",
              "Unicef                     808\n",
              "Tasaf                      665\n",
              "District Council           655\n",
              "Dhv                        617\n",
              "Dwsp                       616\n",
              "Private Individual         616\n",
              "0                          572\n",
              "Norad                      542\n",
              "Germany Republi            471\n",
              "Tcrs                       455\n",
              "Ministry Of Water          443\n",
              "Water                      441\n",
              "Name: funder, dtype: int64"
            ]
          },
          "metadata": {
            "tags": []
          },
          "execution_count": 42
        }
      ]
    },
    {
      "cell_type": "code",
      "metadata": {
        "id": "3qh6pveiLW10"
      },
      "source": [
        "def reducing_cadanality3(row):  \n",
        "    '''Keep top 8 values and set the rest to 'other'''\n",
        "\n",
        "    if row['funder']=='Government Of Tanzania':\n",
        "        return 'gov'\n",
        "    elif row['funder']=='Danida':\n",
        "        return 'danida'\n",
        "    elif row['funder']=='Hesawa':\n",
        "        return 'hesawa'\n",
        "    elif row['funder']=='Rwssp':\n",
        "        return 'rwssp'\n",
        "    elif row['funder']=='World Bank':\n",
        "        return 'world_bank'   \n",
        "    elif row['funder']=='Kkkt':\n",
        "        return 'kkkt'   \n",
        "    elif row['funder']=='World Vision':\n",
        "        return 'world_vision'  \n",
        "    elif row['funder']=='Unicef':\n",
        "        return 'unicef'\n",
        "    else:\n",
        "        return 'other'\n",
        "    \n",
        "df_train['funder'] = df_train.apply(lambda row: reducing_cadanality3(row), axis=1)\n",
        "df_test['funder'] = df_test.apply(lambda row: reducing_cadanality3(row), axis=1)"
      ],
      "execution_count": null,
      "outputs": []
    },
    {
      "cell_type": "markdown",
      "metadata": {
        "id": "M5wOwuqLSCu5"
      },
      "source": [
        "##installer"
      ]
    },
    {
      "cell_type": "code",
      "metadata": {
        "colab": {
          "base_uri": "https://localhost:8080/"
        },
        "id": "hl38cIkIOOij",
        "outputId": "1c202496-be1e-41d3-945d-f0b860a6787a"
      },
      "source": [
        "df_train.installer.value_counts().head(15) "
      ],
      "execution_count": null,
      "outputs": [
        {
          "output_type": "execute_result",
          "data": {
            "text/plain": [
              "DWE                   13005\n",
              "unknown                2807\n",
              "Government             1365\n",
              "RWE                     876\n",
              "Commu                   806\n",
              "DANIDA                  788\n",
              "KKKT                    681\n",
              "Hesawa                  622\n",
              "0                       572\n",
              "TCRS                    537\n",
              "Central government      504\n",
              "CES                     471\n",
              "District Council        425\n",
              "DANID                   420\n",
              "Community               411\n",
              "Name: installer, dtype: int64"
            ]
          },
          "metadata": {
            "tags": []
          },
          "execution_count": 44
        }
      ]
    },
    {
      "cell_type": "code",
      "metadata": {
        "id": "-oXoziA2P9XE"
      },
      "source": [
        "def reducing_cadanality4(row):  \n",
        "    '''Keep top 8 values and set the rest to 'other'''\n",
        "\n",
        "    if row['installer']=='DWE':\n",
        "        return 'dwe'\n",
        "    elif row['installer']=='Government':\n",
        "        return 'govt'\n",
        "    elif row['installer']=='RWE':\n",
        "        return 'rwe'\n",
        "    elif row['installer']=='Commu':\n",
        "        return 'commu'\n",
        "    elif row['installer']=='DANIDA':\n",
        "        return 'danida'   \n",
        "    elif row['installer']=='KKKT':\n",
        "        return 'kkkt'   \n",
        "    elif row['installer']=='Hesawa':\n",
        "        return 'hesawa'  \n",
        "    elif row['installer']=='TCRS':\n",
        "        return 'tcrs'\n",
        "    else:\n",
        "        return 'other'\n",
        "    \n",
        "df_train['installer'] = df_train.apply(lambda row: reducing_cadanality4(row), axis=1)\n",
        "df_test['installer'] = df_test.apply(lambda row: reducing_cadanality4(row), axis=1)"
      ],
      "execution_count": null,
      "outputs": []
    },
    {
      "cell_type": "markdown",
      "metadata": {
        "id": "B6q62GByVN-o"
      },
      "source": [
        "#Ordinal encoding of categorical data\n",
        "\n",
        "Several categorical features can be encoded in a specific order that follows from the range of its values.\n",
        "\n",
        "For example for the quality_group variable, the higher the label, the better the water quality, the more likely a pump is functional.\n"
      ]
    },
    {
      "cell_type": "markdown",
      "metadata": {
        "id": "COfQaO-gVnYA"
      },
      "source": [
        "#quality_group"
      ]
    },
    {
      "cell_type": "code",
      "metadata": {
        "colab": {
          "base_uri": "https://localhost:8080/"
        },
        "id": "jiInPRIMWncG",
        "outputId": "7a773e1b-6aca-4f30-c193-38bbe99da303"
      },
      "source": [
        "df_train.quality_group.value_counts()"
      ],
      "execution_count": null,
      "outputs": [
        {
          "output_type": "execute_result",
          "data": {
            "text/plain": [
              "good        38093\n",
              "salty        3932\n",
              "unknown      1397\n",
              "milky         606\n",
              "colored       364\n",
              "fluoride      158\n",
              "Name: quality_group, dtype: int64"
            ]
          },
          "metadata": {
            "tags": []
          },
          "execution_count": 46
        }
      ]
    },
    {
      "cell_type": "code",
      "metadata": {
        "id": "VMbFf9rNWsV7"
      },
      "source": [
        "order_quality = {\"good\":3,\"salty\":2,\"milky\":2,\"colored\":2,\"fluoride\":2,\"unknown\":1}                             #Giving weights to order quality , high weights to good \n",
        "df_train[\"quality_group_code\"] = [order_quality[item] for item in df_train.quality_group]                                                         # small  weights to unknown\n",
        "del df_train[\"quality_group\"]\n",
        "\n",
        "df_test[\"quality_group_code\"] = [order_quality[item] for item in df_test.quality_group]\n",
        "del df_test[\"quality_group\"]"
      ],
      "execution_count": null,
      "outputs": []
    },
    {
      "cell_type": "markdown",
      "metadata": {
        "id": "Lvy7Jxb0YNRm"
      },
      "source": [
        "##quantity_group"
      ]
    },
    {
      "cell_type": "code",
      "metadata": {
        "colab": {
          "base_uri": "https://localhost:8080/"
        },
        "id": "ehJlgSxlYLQ2",
        "outputId": "b4503436-715d-455f-b9f2-c8120e720d53"
      },
      "source": [
        "df_train.quantity_group.value_counts()"
      ],
      "execution_count": null,
      "outputs": [
        {
          "output_type": "execute_result",
          "data": {
            "text/plain": [
              "enough          24821\n",
              "insufficient    11367\n",
              "dry              4725\n",
              "seasonal         3049\n",
              "unknown           588\n",
              "Name: quantity_group, dtype: int64"
            ]
          },
          "metadata": {
            "tags": []
          },
          "execution_count": 48
        }
      ]
    },
    {
      "cell_type": "code",
      "metadata": {
        "id": "iQ_G96VrYWdS"
      },
      "source": [
        "order_quantity = {\"enough\":3,\"insufficient\":2,\"dry\":2,\"seasonal\":2,\"unknown\":1}                                         #Assigning weights\n",
        "df_train[\"quantity_group_code\"] = [order_quantity[item] for item in df_train.quantity_group] \n",
        "del df_train[\"quantity_group\"]\n",
        "\n",
        "df_test[\"quantity_group_code\"] = [order_quantity[item] for item in df_test.quantity_group] \n",
        "del df_test[\"quantity_group\"]"
      ],
      "execution_count": null,
      "outputs": []
    },
    {
      "cell_type": "markdown",
      "metadata": {
        "id": "YTprtavpM4yo"
      },
      "source": [
        "##payment_type"
      ]
    },
    {
      "cell_type": "code",
      "metadata": {
        "colab": {
          "base_uri": "https://localhost:8080/"
        },
        "id": "zZ_iaLfKM8hd",
        "outputId": "4131cdcc-1be2-47a3-82c7-d0725e23f2be"
      },
      "source": [
        "df_train.payment_type.value_counts()"
      ],
      "execution_count": null,
      "outputs": [
        {
          "output_type": "execute_result",
          "data": {
            "text/plain": [
              "never pay     19002\n",
              "per bucket     6808\n",
              "monthly        6182\n",
              "unknown        6104\n",
              "on failure     2941\n",
              "annually       2717\n",
              "other           796\n",
              "Name: payment_type, dtype: int64"
            ]
          },
          "metadata": {
            "tags": []
          },
          "execution_count": 50
        }
      ]
    },
    {
      "cell_type": "code",
      "metadata": {
        "id": "BkZrLHpGNAZV"
      },
      "source": [
        "order_payment = {\"monthly\":4,\"annually\":4,\"on failure\":3,\"per bucket\":3,\"never pay\":2,\"unknown\":1,\"other\":1}                #Assigning weights\n",
        "df_train[\"payment_code\"] = [order_payment[item] for item in df_train.payment_type] \n",
        "del df_train[\"payment_type\"]\n",
        "\n",
        "df_test[\"payment_code\"] = [order_payment[item] for item in df_test.payment_type] \n",
        "del df_test[\"payment_type\"]"
      ],
      "execution_count": null,
      "outputs": []
    },
    {
      "cell_type": "markdown",
      "metadata": {
        "id": "9ycp_OUnNl_M"
      },
      "source": [
        "##public_meeting"
      ]
    },
    {
      "cell_type": "code",
      "metadata": {
        "colab": {
          "base_uri": "https://localhost:8080/"
        },
        "id": "LGjmHrj2NfLu",
        "outputId": "41f61c4c-4214-427c-8a07-88398c763ce6"
      },
      "source": [
        "df_train.public_meeting.value_counts()"
      ],
      "execution_count": null,
      "outputs": [
        {
          "output_type": "execute_result",
          "data": {
            "text/plain": [
              "True       38212\n",
              "False       3847\n",
              "unknown     2491\n",
              "Name: public_meeting, dtype: int64"
            ]
          },
          "metadata": {
            "tags": []
          },
          "execution_count": 52
        }
      ]
    },
    {
      "cell_type": "code",
      "metadata": {
        "id": "BF01jOVmNxFc"
      },
      "source": [
        "order_pub_meet = {True:2,False:1,\"unknown\":0}\n",
        "df_train[\"public_meeting_code\"] = [order_pub_meet[item] for item in df_train.public_meeting] \n",
        "del df_train[\"public_meeting\"]\n",
        "\n",
        "df_test[\"public_meeting_code\"] = [order_pub_meet[item] for item in df_test.public_meeting] \n",
        "del df_test[\"public_meeting\"]"
      ],
      "execution_count": null,
      "outputs": []
    },
    {
      "cell_type": "markdown",
      "metadata": {
        "id": "mG_UbtXEOQMt"
      },
      "source": [
        "##permit\n"
      ]
    },
    {
      "cell_type": "code",
      "metadata": {
        "colab": {
          "base_uri": "https://localhost:8080/"
        },
        "id": "i8JXFaFJORY3",
        "outputId": "418aa680-8883-4c6a-e6df-eb6cfbea6e64"
      },
      "source": [
        "df_train.permit.value_counts()"
      ],
      "execution_count": null,
      "outputs": [
        {
          "output_type": "execute_result",
          "data": {
            "text/plain": [
              "True       29057\n",
              "False      13157\n",
              "unknown     2336\n",
              "Name: permit, dtype: int64"
            ]
          },
          "metadata": {
            "tags": []
          },
          "execution_count": 54
        }
      ]
    },
    {
      "cell_type": "code",
      "metadata": {
        "id": "6aPJv5dmOU0V"
      },
      "source": [
        "order_permit = {True:2,False:1,\"unknown\":0}\n",
        "df_train[\"permit_code\"] = [order_permit[item] for item in df_train.permit] \n",
        "del df_train[\"permit\"]\n",
        "\n",
        "df_test[\"permit_code\"] = [order_permit[item] for item in df_test.permit] \n",
        "del df_test[\"permit\"]"
      ],
      "execution_count": null,
      "outputs": []
    },
    {
      "cell_type": "markdown",
      "metadata": {
        "id": "29fpTPIsPT7L"
      },
      "source": [
        "##Feature Engineering"
      ]
    },
    {
      "cell_type": "markdown",
      "metadata": {
        "id": "EI2zP6DBQfg0"
      },
      "source": [
        "##amount_tsh"
      ]
    },
    {
      "cell_type": "markdown",
      "metadata": {
        "id": "gfIEOvqbVOLy"
      },
      "source": [
        "we have defined a threshold to separate functional and non-functional pumps.let's create new binary variable that reflects this information."
      ]
    },
    {
      "cell_type": "code",
      "metadata": {
        "id": "7UOJ2gAsRbb4"
      },
      "source": [
        "df_train.loc[df_train['amount_tsh'] < 100000, 'amount_tsh'] = 0\n",
        "df_train.loc[df_train['amount_tsh'] >= 100000, 'amount_tsh'] = 1\n",
        "\n",
        "df_test.loc[df_test['amount_tsh'] < 100000, 'amount_tsh'] = 0\n",
        "df_test.loc[df_test['amount_tsh'] >= 100000, 'amount_tsh'] = 1"
      ],
      "execution_count": null,
      "outputs": []
    },
    {
      "cell_type": "code",
      "metadata": {
        "colab": {
          "base_uri": "https://localhost:8080/"
        },
        "id": "-IkDysETRCtk",
        "outputId": "43586450-c70c-4117-fcc7-271d0036f754"
      },
      "source": [
        "df_test.amount_tsh.value_counts()"
      ],
      "execution_count": null,
      "outputs": [
        {
          "output_type": "execute_result",
          "data": {
            "text/plain": [
              "0.0    14846\n",
              "1.0        4\n",
              "Name: amount_tsh, dtype: int64"
            ]
          },
          "metadata": {
            "tags": []
          },
          "execution_count": 57
        }
      ]
    },
    {
      "cell_type": "markdown",
      "metadata": {
        "id": "SwKRs3M_VL94"
      },
      "source": [
        "## Construction_year\n",
        "\n",
        "we will turn construction_year into a categorical column with bins containing the following values 60s , 70s , 80s,90s,00s ,10s,unknown.\n",
        "\n"
      ]
    },
    {
      "cell_type": "code",
      "metadata": {
        "id": "koBb12dzdN0_"
      },
      "source": [
        "def construction_short(row):\n",
        "    if row['construction_year'] >= 1960 and row['construction_year'] < 1970:\n",
        "        return '60s'\n",
        "    elif row['construction_year'] >= 1970 and row['construction_year'] < 1980:\n",
        "        return '70s'\n",
        "    elif row['construction_year'] >= 1980 and row['construction_year'] < 1990:\n",
        "        return '80s'\n",
        "    elif row['construction_year'] >= 1990 and row['construction_year'] < 2000:\n",
        "        return '90s'\n",
        "    elif row['construction_year'] >= 2000 and row['construction_year'] < 2010:\n",
        "        return '00s'\n",
        "    elif row['construction_year'] >= 2010:\n",
        "        return '10s'\n",
        "    else:\n",
        "        return 'unknown'\n",
        "    \n",
        "df_train['construction_year'] = df_train.apply(lambda row: construction_short(row), axis=1)\n",
        "df_test['construction_year'] = df_test.apply(lambda row: construction_short(row), axis=1)\n",
        "\n"
      ],
      "execution_count": null,
      "outputs": []
    },
    {
      "cell_type": "markdown",
      "metadata": {
        "id": "Wl19ORJYjIpe"
      },
      "source": [
        "##date_recorded\n",
        "\n",
        "we will calculate the number of days past since the date_recorded till the most recent date of the dataset. The idea being that more recently recorded pumps might be more likely to be functional than non-functional."
      ]
    },
    {
      "cell_type": "code",
      "metadata": {
        "colab": {
          "base_uri": "https://localhost:8080/"
        },
        "id": "LMrOi2JejFbf",
        "outputId": "04a0aef5-e725-4057-d414-da1d416b1c98"
      },
      "source": [
        "df_train.date_recorded = pd.to_datetime(df_train.date_recorded)\n",
        "df_test.date_recorded = pd.to_datetime(df_test.date_recorded)\n",
        "\n",
        "df_train.date_recorded.describe()"
      ],
      "execution_count": null,
      "outputs": [
        {
          "output_type": "stream",
          "text": [
            "/usr/local/lib/python3.7/dist-packages/ipykernel_launcher.py:4: FutureWarning: Treating datetime data as categorical rather than numeric in `.describe` is deprecated and will be removed in a future version of pandas. Specify `datetime_is_numeric=True` to silence this warning and adopt the future behavior now.\n",
            "  after removing the cwd from sys.path.\n"
          ],
          "name": "stderr"
        },
        {
          "output_type": "execute_result",
          "data": {
            "text/plain": [
              "count                   44550\n",
              "unique                    346\n",
              "top       2011-03-15 00:00:00\n",
              "freq                      423\n",
              "first     2002-10-14 00:00:00\n",
              "last      2013-12-03 00:00:00\n",
              "Name: date_recorded, dtype: object"
            ]
          },
          "metadata": {
            "tags": []
          },
          "execution_count": 59
        }
      ]
    },
    {
      "cell_type": "code",
      "metadata": {
        "colab": {
          "base_uri": "https://localhost:8080/"
        },
        "id": "frn2uvSoj4HJ",
        "outputId": "05870049-f0a2-4ff4-d7ce-52d84079e5ad"
      },
      "source": [
        "# The most recent data is 2013-12-03. Subtract each date from this point to obtain a \n",
        "# 'days_since_recorded' column.\n",
        "\n",
        "df_train['days_since_recorded'] = pd.datetime(2013, 12, 3) - pd.to_datetime(df_train.date_recorded)\n",
        "df_train['days_since_recorded'] = df_train['days_since_recorded'].astype('timedelta64[D]').astype(int)\n",
        "\n",
        "df_test['days_since_recorded'] = pd.datetime(2013, 12, 3) - pd.to_datetime(df_test.date_recorded)\n",
        "df_test['days_since_recorded'] = df_test['days_since_recorded'].astype('timedelta64[D]').astype(int)"
      ],
      "execution_count": null,
      "outputs": [
        {
          "output_type": "stream",
          "text": [
            "/usr/local/lib/python3.7/dist-packages/ipykernel_launcher.py:4: FutureWarning: The pandas.datetime class is deprecated and will be removed from pandas in a future version. Import from datetime module instead.\n",
            "  after removing the cwd from sys.path.\n",
            "/usr/local/lib/python3.7/dist-packages/ipykernel_launcher.py:7: FutureWarning: The pandas.datetime class is deprecated and will be removed from pandas in a future version. Import from datetime module instead.\n",
            "  import sys\n"
          ],
          "name": "stderr"
        }
      ]
    },
    {
      "cell_type": "code",
      "metadata": {
        "colab": {
          "base_uri": "https://localhost:8080/"
        },
        "id": "aWQzoF9-lVXM",
        "outputId": "37bb543e-b404-4f24-9022-5e2151336610"
      },
      "source": [
        "df_train['days_since_recorded']"
      ],
      "execution_count": null,
      "outputs": [
        {
          "output_type": "execute_result",
          "data": {
            "text/plain": [
              "0         258\n",
              "1        1016\n",
              "2         333\n",
              "3         975\n",
              "4         270\n",
              "         ... \n",
              "44545     314\n",
              "44546     862\n",
              "44547     283\n",
              "44548     252\n",
              "44549     311\n",
              "Name: days_since_recorded, Length: 44550, dtype: int64"
            ]
          },
          "metadata": {
            "tags": []
          },
          "execution_count": 61
        }
      ]
    },
    {
      "cell_type": "code",
      "metadata": {
        "id": "tRlbcvuYlb_h"
      },
      "source": [
        "df_train = df_train.drop(\"date_recorded\",axis=1)\n",
        "df_test = df_test.drop(\"date_recorded\",axis=1)"
      ],
      "execution_count": null,
      "outputs": []
    },
    {
      "cell_type": "markdown",
      "metadata": {
        "id": "0brNvmozoRWl"
      },
      "source": [
        "##latitude , longitude , gps_height using linear discriminant analysis(LDA)\n",
        "\n",
        "---\n",
        "\n"
      ]
    },
    {
      "cell_type": "code",
      "metadata": {
        "id": "6XF9-d3on6ym"
      },
      "source": [
        "LDA_cols = [\"latitude\",\"longitude\",\"gps_height\"]\n",
        "\n",
        "from sklearn.preprocessing import StandardScaler\n",
        "sc = StandardScaler()\n",
        "\n",
        "df_train_sc = sc.fit_transform(df_train[LDA_cols])\n",
        "df_test_sc = sc.transform(df_test[LDA_cols])\n",
        "\n"
      ],
      "execution_count": null,
      "outputs": []
    },
    {
      "cell_type": "code",
      "metadata": {
        "id": "foh8yJuwWJmj"
      },
      "source": [
        "from sklearn.discriminant_analysis import LinearDiscriminantAnalysis as LDA\n",
        "lda = LDA(n_components=None)\n",
        "\n",
        "df_train_lda = lda.fit_transform(df_train_sc, df_train.label.values.ravel())\n",
        "df_test_lda = lda.transform(df_test_sc)\n",
        "\n"
      ],
      "execution_count": null,
      "outputs": []
    },
    {
      "cell_type": "code",
      "metadata": {
        "id": "IbdPm821niW3"
      },
      "source": [
        "df_train = pd.concat((pd.DataFrame(df_train_lda), df_train), axis=1)\n",
        "df_test = pd.concat((pd.DataFrame(df_test_lda), df_test), axis=1)\n",
        "\n",
        "for i in LDA_cols:\n",
        "    del df_train[i]\n",
        "    del df_test[i]"
      ],
      "execution_count": null,
      "outputs": []
    },
    {
      "cell_type": "code",
      "metadata": {
        "id": "H3ufZl6BoKAJ"
      },
      "source": [
        "df_train.rename(columns={0: \"LDA_0\",1:\"LDA_1\"},inplace=True)\n",
        "df_test.rename(columns={0: \"LDA_0\",1:\"LDA_1\"},inplace=True)"
      ],
      "execution_count": null,
      "outputs": []
    },
    {
      "cell_type": "code",
      "metadata": {
        "colab": {
          "base_uri": "https://localhost:8080/",
          "height": 606
        },
        "id": "DW2Rm-fasC4p",
        "outputId": "712b3e38-c22f-4ec6-d45e-c48efd6a2a5f"
      },
      "source": [
        "df_train"
      ],
      "execution_count": null,
      "outputs": [
        {
          "output_type": "execute_result",
          "data": {
            "text/html": [
              "<div>\n",
              "<style scoped>\n",
              "    .dataframe tbody tr th:only-of-type {\n",
              "        vertical-align: middle;\n",
              "    }\n",
              "\n",
              "    .dataframe tbody tr th {\n",
              "        vertical-align: top;\n",
              "    }\n",
              "\n",
              "    .dataframe thead th {\n",
              "        text-align: right;\n",
              "    }\n",
              "</style>\n",
              "<table border=\"1\" class=\"dataframe\">\n",
              "  <thead>\n",
              "    <tr style=\"text-align: right;\">\n",
              "      <th></th>\n",
              "      <th>LDA_0</th>\n",
              "      <th>LDA_1</th>\n",
              "      <th>amount_tsh</th>\n",
              "      <th>funder</th>\n",
              "      <th>installer</th>\n",
              "      <th>basin</th>\n",
              "      <th>region_code</th>\n",
              "      <th>district_code</th>\n",
              "      <th>population</th>\n",
              "      <th>scheme_management</th>\n",
              "      <th>construction_year</th>\n",
              "      <th>extraction_type</th>\n",
              "      <th>management</th>\n",
              "      <th>source</th>\n",
              "      <th>source_class</th>\n",
              "      <th>waterpoint_type</th>\n",
              "      <th>label</th>\n",
              "      <th>quality_group_code</th>\n",
              "      <th>quantity_group_code</th>\n",
              "      <th>payment_code</th>\n",
              "      <th>public_meeting_code</th>\n",
              "      <th>permit_code</th>\n",
              "      <th>days_since_recorded</th>\n",
              "    </tr>\n",
              "  </thead>\n",
              "  <tbody>\n",
              "    <tr>\n",
              "      <th>0</th>\n",
              "      <td>0.384948</td>\n",
              "      <td>0.854298</td>\n",
              "      <td>0.0</td>\n",
              "      <td>other</td>\n",
              "      <td>other</td>\n",
              "      <td>Pangani</td>\n",
              "      <td>3</td>\n",
              "      <td>5</td>\n",
              "      <td>90</td>\n",
              "      <td>wtr_brd</td>\n",
              "      <td>00s</td>\n",
              "      <td>gravity</td>\n",
              "      <td>water board</td>\n",
              "      <td>spring</td>\n",
              "      <td>groundwater</td>\n",
              "      <td>communal standpipe</td>\n",
              "      <td>2</td>\n",
              "      <td>3</td>\n",
              "      <td>3</td>\n",
              "      <td>3</td>\n",
              "      <td>2</td>\n",
              "      <td>2</td>\n",
              "      <td>258</td>\n",
              "    </tr>\n",
              "    <tr>\n",
              "      <th>1</th>\n",
              "      <td>0.676260</td>\n",
              "      <td>0.647431</td>\n",
              "      <td>0.0</td>\n",
              "      <td>other</td>\n",
              "      <td>other</td>\n",
              "      <td>Lake Nyasa</td>\n",
              "      <td>11</td>\n",
              "      <td>5</td>\n",
              "      <td>70</td>\n",
              "      <td>pri_optr</td>\n",
              "      <td>80s</td>\n",
              "      <td>gravity</td>\n",
              "      <td>private operator</td>\n",
              "      <td>spring</td>\n",
              "      <td>groundwater</td>\n",
              "      <td>communal standpipe</td>\n",
              "      <td>2</td>\n",
              "      <td>3</td>\n",
              "      <td>3</td>\n",
              "      <td>2</td>\n",
              "      <td>1</td>\n",
              "      <td>1</td>\n",
              "      <td>1016</td>\n",
              "    </tr>\n",
              "    <tr>\n",
              "      <th>2</th>\n",
              "      <td>0.873908</td>\n",
              "      <td>1.109918</td>\n",
              "      <td>0.0</td>\n",
              "      <td>gov</td>\n",
              "      <td>dwe</td>\n",
              "      <td>Pangani</td>\n",
              "      <td>2</td>\n",
              "      <td>2</td>\n",
              "      <td>150</td>\n",
              "      <td>vwc</td>\n",
              "      <td>00s</td>\n",
              "      <td>gravity</td>\n",
              "      <td>vwc</td>\n",
              "      <td>spring</td>\n",
              "      <td>groundwater</td>\n",
              "      <td>communal standpipe</td>\n",
              "      <td>0</td>\n",
              "      <td>3</td>\n",
              "      <td>2</td>\n",
              "      <td>2</td>\n",
              "      <td>2</td>\n",
              "      <td>2</td>\n",
              "      <td>333</td>\n",
              "    </tr>\n",
              "    <tr>\n",
              "      <th>3</th>\n",
              "      <td>-0.835115</td>\n",
              "      <td>-0.672458</td>\n",
              "      <td>0.0</td>\n",
              "      <td>other</td>\n",
              "      <td>other</td>\n",
              "      <td>Rufiji</td>\n",
              "      <td>12</td>\n",
              "      <td>2</td>\n",
              "      <td>0</td>\n",
              "      <td>vwc</td>\n",
              "      <td>unknown</td>\n",
              "      <td>gravity</td>\n",
              "      <td>wug</td>\n",
              "      <td>river</td>\n",
              "      <td>surface</td>\n",
              "      <td>communal standpipe</td>\n",
              "      <td>2</td>\n",
              "      <td>3</td>\n",
              "      <td>2</td>\n",
              "      <td>4</td>\n",
              "      <td>2</td>\n",
              "      <td>2</td>\n",
              "      <td>975</td>\n",
              "    </tr>\n",
              "    <tr>\n",
              "      <th>4</th>\n",
              "      <td>0.420906</td>\n",
              "      <td>0.966124</td>\n",
              "      <td>0.0</td>\n",
              "      <td>other</td>\n",
              "      <td>other</td>\n",
              "      <td>Pangani</td>\n",
              "      <td>3</td>\n",
              "      <td>2</td>\n",
              "      <td>34</td>\n",
              "      <td>vwc</td>\n",
              "      <td>00s</td>\n",
              "      <td>gravity</td>\n",
              "      <td>vwc</td>\n",
              "      <td>spring</td>\n",
              "      <td>groundwater</td>\n",
              "      <td>communal standpipe</td>\n",
              "      <td>2</td>\n",
              "      <td>3</td>\n",
              "      <td>2</td>\n",
              "      <td>4</td>\n",
              "      <td>2</td>\n",
              "      <td>1</td>\n",
              "      <td>270</td>\n",
              "    </tr>\n",
              "    <tr>\n",
              "      <th>...</th>\n",
              "      <td>...</td>\n",
              "      <td>...</td>\n",
              "      <td>...</td>\n",
              "      <td>...</td>\n",
              "      <td>...</td>\n",
              "      <td>...</td>\n",
              "      <td>...</td>\n",
              "      <td>...</td>\n",
              "      <td>...</td>\n",
              "      <td>...</td>\n",
              "      <td>...</td>\n",
              "      <td>...</td>\n",
              "      <td>...</td>\n",
              "      <td>...</td>\n",
              "      <td>...</td>\n",
              "      <td>...</td>\n",
              "      <td>...</td>\n",
              "      <td>...</td>\n",
              "      <td>...</td>\n",
              "      <td>...</td>\n",
              "      <td>...</td>\n",
              "      <td>...</td>\n",
              "      <td>...</td>\n",
              "    </tr>\n",
              "    <tr>\n",
              "      <th>44545</th>\n",
              "      <td>-0.529095</td>\n",
              "      <td>-0.738295</td>\n",
              "      <td>0.0</td>\n",
              "      <td>world_vision</td>\n",
              "      <td>other</td>\n",
              "      <td>Lake Tanganyika</td>\n",
              "      <td>17</td>\n",
              "      <td>3</td>\n",
              "      <td>0</td>\n",
              "      <td>other</td>\n",
              "      <td>unknown</td>\n",
              "      <td>nira/tanira</td>\n",
              "      <td>wug</td>\n",
              "      <td>shallow well</td>\n",
              "      <td>groundwater</td>\n",
              "      <td>hand pump</td>\n",
              "      <td>2</td>\n",
              "      <td>2</td>\n",
              "      <td>3</td>\n",
              "      <td>1</td>\n",
              "      <td>2</td>\n",
              "      <td>2</td>\n",
              "      <td>314</td>\n",
              "    </tr>\n",
              "    <tr>\n",
              "      <th>44546</th>\n",
              "      <td>-0.426017</td>\n",
              "      <td>-0.814807</td>\n",
              "      <td>0.0</td>\n",
              "      <td>other</td>\n",
              "      <td>other</td>\n",
              "      <td>Lake Victoria</td>\n",
              "      <td>18</td>\n",
              "      <td>8</td>\n",
              "      <td>0</td>\n",
              "      <td>wua</td>\n",
              "      <td>unknown</td>\n",
              "      <td>afridev</td>\n",
              "      <td>wua</td>\n",
              "      <td>hand dtw</td>\n",
              "      <td>groundwater</td>\n",
              "      <td>hand pump</td>\n",
              "      <td>0</td>\n",
              "      <td>3</td>\n",
              "      <td>3</td>\n",
              "      <td>4</td>\n",
              "      <td>2</td>\n",
              "      <td>2</td>\n",
              "      <td>862</td>\n",
              "    </tr>\n",
              "    <tr>\n",
              "      <th>44547</th>\n",
              "      <td>0.084215</td>\n",
              "      <td>0.313867</td>\n",
              "      <td>0.0</td>\n",
              "      <td>gov</td>\n",
              "      <td>govt</td>\n",
              "      <td>Ruvuma / Southern Coast</td>\n",
              "      <td>10</td>\n",
              "      <td>3</td>\n",
              "      <td>60</td>\n",
              "      <td>vwc</td>\n",
              "      <td>70s</td>\n",
              "      <td>gravity</td>\n",
              "      <td>vwc</td>\n",
              "      <td>spring</td>\n",
              "      <td>groundwater</td>\n",
              "      <td>communal standpipe</td>\n",
              "      <td>2</td>\n",
              "      <td>3</td>\n",
              "      <td>2</td>\n",
              "      <td>1</td>\n",
              "      <td>0</td>\n",
              "      <td>0</td>\n",
              "      <td>283</td>\n",
              "    </tr>\n",
              "    <tr>\n",
              "      <th>44548</th>\n",
              "      <td>0.356973</td>\n",
              "      <td>0.970023</td>\n",
              "      <td>0.0</td>\n",
              "      <td>other</td>\n",
              "      <td>other</td>\n",
              "      <td>Pangani</td>\n",
              "      <td>3</td>\n",
              "      <td>3</td>\n",
              "      <td>80</td>\n",
              "      <td>wtr_auth</td>\n",
              "      <td>10s</td>\n",
              "      <td>gravity</td>\n",
              "      <td>vwc</td>\n",
              "      <td>spring</td>\n",
              "      <td>groundwater</td>\n",
              "      <td>communal standpipe</td>\n",
              "      <td>2</td>\n",
              "      <td>3</td>\n",
              "      <td>2</td>\n",
              "      <td>4</td>\n",
              "      <td>2</td>\n",
              "      <td>2</td>\n",
              "      <td>252</td>\n",
              "    </tr>\n",
              "    <tr>\n",
              "      <th>44549</th>\n",
              "      <td>-0.616836</td>\n",
              "      <td>-0.682671</td>\n",
              "      <td>0.0</td>\n",
              "      <td>world_vision</td>\n",
              "      <td>other</td>\n",
              "      <td>Lake Tanganyika</td>\n",
              "      <td>14</td>\n",
              "      <td>1</td>\n",
              "      <td>0</td>\n",
              "      <td>vwc</td>\n",
              "      <td>unknown</td>\n",
              "      <td>nira/tanira</td>\n",
              "      <td>vwc</td>\n",
              "      <td>shallow well</td>\n",
              "      <td>groundwater</td>\n",
              "      <td>hand pump</td>\n",
              "      <td>2</td>\n",
              "      <td>3</td>\n",
              "      <td>3</td>\n",
              "      <td>3</td>\n",
              "      <td>2</td>\n",
              "      <td>1</td>\n",
              "      <td>311</td>\n",
              "    </tr>\n",
              "  </tbody>\n",
              "</table>\n",
              "<p>44550 rows × 23 columns</p>\n",
              "</div>"
            ],
            "text/plain": [
              "          LDA_0     LDA_1  ...  permit_code days_since_recorded\n",
              "0      0.384948  0.854298  ...            2                 258\n",
              "1      0.676260  0.647431  ...            1                1016\n",
              "2      0.873908  1.109918  ...            2                 333\n",
              "3     -0.835115 -0.672458  ...            2                 975\n",
              "4      0.420906  0.966124  ...            1                 270\n",
              "...         ...       ...  ...          ...                 ...\n",
              "44545 -0.529095 -0.738295  ...            2                 314\n",
              "44546 -0.426017 -0.814807  ...            2                 862\n",
              "44547  0.084215  0.313867  ...            0                 283\n",
              "44548  0.356973  0.970023  ...            2                 252\n",
              "44549 -0.616836 -0.682671  ...            1                 311\n",
              "\n",
              "[44550 rows x 23 columns]"
            ]
          },
          "metadata": {
            "tags": []
          },
          "execution_count": 67
        }
      ]
    },
    {
      "cell_type": "markdown",
      "metadata": {
        "id": "8QTxc-lhsueA"
      },
      "source": [
        "##One Hot encoding of categorical features"
      ]
    },
    {
      "cell_type": "code",
      "metadata": {
        "colab": {
          "base_uri": "https://localhost:8080/"
        },
        "id": "C4py4URNsQs0",
        "outputId": "cc48d130-82d0-45cc-db26-d6c8cb71af06"
      },
      "source": [
        "categorical_vars2 = [col for col in df_train.columns if                      ##Columns with strings\n",
        "                df_train[col].dtype in ['object']]\n",
        "\n",
        "print(categorical_vars2)\n",
        "len(categorical_vars2)"
      ],
      "execution_count": null,
      "outputs": [
        {
          "output_type": "stream",
          "text": [
            "['funder', 'installer', 'basin', 'scheme_management', 'construction_year', 'extraction_type', 'management', 'source', 'source_class', 'waterpoint_type']\n"
          ],
          "name": "stdout"
        },
        {
          "output_type": "execute_result",
          "data": {
            "text/plain": [
              "10"
            ]
          },
          "metadata": {
            "tags": []
          },
          "execution_count": 68
        }
      ]
    },
    {
      "cell_type": "code",
      "metadata": {
        "id": "B79DlHFWt6rj"
      },
      "source": [
        "from sklearn.preprocessing import OneHotEncoder\n",
        "\n",
        "# Apply one-hot encoder to each column with categorical data\n",
        "OH_encoder = OneHotEncoder(handle_unknown='ignore', sparse=False)\n",
        "OH_cols_train = pd.DataFrame(OH_encoder.fit_transform(df_train[categorical_vars2])).astype(np.int64)\n",
        "OH_cols_test = pd.DataFrame(OH_encoder.transform(df_test[categorical_vars2])).astype(np.int64)\n",
        "\n",
        "# One-hot encoding removed index; put it back\n",
        "OH_cols_train.index = df_train.index\n",
        "OH_cols_test.index = df_test.index\n",
        "\n",
        "OH_cols_train.columns = OH_encoder.get_feature_names(categorical_vars2)\n",
        "OH_cols_test.columns = OH_encoder.get_feature_names(categorical_vars2)\n",
        "\n",
        "# Remove categorical columns (will replace with one-hot encoding)\n",
        "num_X_train = df_train.drop(categorical_vars2, axis=1)\n",
        "num_X_test = df_test.drop(categorical_vars2, axis=1)\n",
        "\n",
        "# Add one-hot encoded columns to numerical features\n",
        "df_train_new = pd.concat([num_X_train, OH_cols_train], axis=1)\n",
        "df_test_new = pd.concat([num_X_test, OH_cols_test], axis=1)\n"
      ],
      "execution_count": null,
      "outputs": []
    },
    {
      "cell_type": "code",
      "metadata": {
        "id": "2HBonNRZ4KWB"
      },
      "source": [
        "population_mean =  df_train_new.population.mean()       ## mean of population"
      ],
      "execution_count": null,
      "outputs": []
    },
    {
      "cell_type": "code",
      "metadata": {
        "id": "zSiC7ekj1UJP"
      },
      "source": [
        "df_train_new['population'] = df_train_new['population'].replace(0, population_mean)                   ##replaceing 0 population with mean population\n",
        "df_test_new['population'] = df_test_new['population'].replace(0, population_mean)"
      ],
      "execution_count": null,
      "outputs": []
    },
    {
      "cell_type": "markdown",
      "metadata": {
        "id": "swtS8X-N3SB2"
      },
      "source": [
        "#Feature selection"
      ]
    },
    {
      "cell_type": "markdown",
      "metadata": {
        "id": "_ZTJWFJl73e5"
      },
      "source": [
        "##L1 regularization with logistic regression"
      ]
    },
    {
      "cell_type": "code",
      "metadata": {
        "colab": {
          "base_uri": "https://localhost:8080/"
        },
        "id": "rXw3PP5M3DT8",
        "outputId": "90e50052-ad49-4fd9-ebf9-4d792d4f9503"
      },
      "source": [
        "from sklearn.linear_model import LogisticRegression\n",
        "from sklearn.feature_selection import SelectFromModel\n",
        "\n",
        "X, y = df_train_new[df_train_new.columns.drop(\"label\")], df_train_new['label']\n",
        "\n",
        "# Set the regularization parameter C=1\n",
        "logistic = LogisticRegression(solver=\"saga\",C=1, penalty=\"l1\", random_state=7).fit(X, y)\n",
        "model = SelectFromModel(logistic, prefit=True)\n",
        "\n",
        "X_new = model.transform(X)\n",
        "X_new"
      ],
      "execution_count": null,
      "outputs": [
        {
          "output_type": "stream",
          "text": [
            "/usr/local/lib/python3.7/dist-packages/sklearn/linear_model/_sag.py:330: ConvergenceWarning: The max_iter was reached which means the coef_ did not converge\n",
            "  \"the coef_ did not converge\", ConvergenceWarning)\n"
          ],
          "name": "stderr"
        },
        {
          "output_type": "execute_result",
          "data": {
            "text/plain": [
              "array([[ 0.3849476 ,  0.85429819,  3.        , ...,  0.        ,\n",
              "         0.        ,  0.        ],\n",
              "       [ 0.67625965,  0.64743113, 11.        , ...,  0.        ,\n",
              "         0.        ,  0.        ],\n",
              "       [ 0.87390766,  1.10991784,  2.        , ...,  0.        ,\n",
              "         0.        ,  0.        ],\n",
              "       ...,\n",
              "       [ 0.08421526,  0.31386663, 10.        , ...,  0.        ,\n",
              "         0.        ,  0.        ],\n",
              "       [ 0.3569731 ,  0.97002338,  3.        , ...,  0.        ,\n",
              "         0.        ,  0.        ],\n",
              "       [-0.61683564, -0.68267108, 14.        , ...,  1.        ,\n",
              "         0.        ,  0.        ]])"
            ]
          },
          "metadata": {
            "tags": []
          },
          "execution_count": 72
        }
      ]
    },
    {
      "cell_type": "code",
      "metadata": {
        "id": "jSGFMZlz8wJ_"
      },
      "source": [
        "# Get back the kept features as a DataFrame with dropped columns as all 0s\n",
        "selected_features = pd.DataFrame(model.inverse_transform(X_new), \n",
        "                                 index=X.index,\n",
        "                                 columns=X.columns)\n",
        "\n",
        "# Dropped columns have values of all 0s, keep other columns \n",
        "selected_columns = selected_features.columns[selected_features.var() != 0]"
      ],
      "execution_count": null,
      "outputs": []
    },
    {
      "cell_type": "code",
      "metadata": {
        "colab": {
          "base_uri": "https://localhost:8080/"
        },
        "id": "gMT_zQxR9DH4",
        "outputId": "10efc676-410c-4b5a-c80d-60de0483a8db"
      },
      "source": [
        "selected_columns"
      ],
      "execution_count": null,
      "outputs": [
        {
          "output_type": "execute_result",
          "data": {
            "text/plain": [
              "Index(['LDA_0', 'LDA_1', 'region_code', 'district_code', 'population',\n",
              "       'quality_group_code', 'quantity_group_code', 'payment_code',\n",
              "       'public_meeting_code', 'permit_code', 'days_since_recorded',\n",
              "       'funder_danida', 'funder_gov', 'funder_hesawa', 'funder_other',\n",
              "       'funder_rwssp', 'funder_unicef', 'funder_world_bank',\n",
              "       'funder_world_vision', 'installer_commu', 'installer_danida',\n",
              "       'installer_dwe', 'installer_govt', 'installer_hesawa', 'installer_kkkt',\n",
              "       'installer_other', 'installer_rwe', 'installer_tcrs', 'basin_Internal',\n",
              "       'basin_Lake Nyasa', 'basin_Lake Rukwa', 'basin_Lake Tanganyika',\n",
              "       'basin_Lake Victoria', 'basin_Pangani', 'basin_Rufiji',\n",
              "       'basin_Ruvuma / Southern Coast', 'basin_Wami / Ruvu',\n",
              "       'scheme_management_company', 'scheme_management_other',\n",
              "       'scheme_management_parastatal', 'scheme_management_pri_optr',\n",
              "       'scheme_management_swc', 'scheme_management_vwc',\n",
              "       'scheme_management_wtr_auth', 'scheme_management_wtr_brd',\n",
              "       'scheme_management_wua', 'scheme_management_wug',\n",
              "       'construction_year_00s', 'construction_year_10s',\n",
              "       'construction_year_60s', 'construction_year_70s',\n",
              "       'construction_year_80s', 'construction_year_90s',\n",
              "       'construction_year_unknown', 'extraction_type_afridev',\n",
              "       'extraction_type_gravity', 'extraction_type_india_mark_ii',\n",
              "       'extraction_type_ksb', 'extraction_type_mono',\n",
              "       'extraction_type_nira/tanira', 'extraction_type_other',\n",
              "       'extraction_type_submersible', 'extraction_type_swn_80',\n",
              "       'management_company', 'management_other', 'management_parastatal',\n",
              "       'management_private operator', 'management_vwc',\n",
              "       'management_water authority', 'management_water board',\n",
              "       'management_wua', 'management_wug', 'source_dam', 'source_hand dtw',\n",
              "       'source_lake', 'source_machine dbh', 'source_rainwater harvesting',\n",
              "       'source_river', 'source_shallow well', 'source_spring',\n",
              "       'source_class_groundwater', 'source_class_surface',\n",
              "       'waterpoint_type_communal standpipe',\n",
              "       'waterpoint_type_communal standpipe multiple',\n",
              "       'waterpoint_type_hand pump', 'waterpoint_type_improved spring',\n",
              "       'waterpoint_type_other'],\n",
              "      dtype='object')"
            ]
          },
          "metadata": {
            "tags": []
          },
          "execution_count": 74
        }
      ]
    },
    {
      "cell_type": "code",
      "metadata": {
        "id": "vcf818Ms9Htr"
      },
      "source": [
        "df_train_selected_features = df_train_new[selected_columns].join(y)"
      ],
      "execution_count": null,
      "outputs": []
    },
    {
      "cell_type": "code",
      "metadata": {
        "id": "2v461NbF9SXP"
      },
      "source": [
        "df_test_selected_features = df_test_new[selected_columns]"
      ],
      "execution_count": null,
      "outputs": []
    },
    {
      "cell_type": "markdown",
      "metadata": {
        "id": "4KiJeXOm9gwN"
      },
      "source": [
        "#Exporting the new feaures into a csv file"
      ]
    },
    {
      "cell_type": "code",
      "metadata": {
        "id": "5VPUUdTM9nrY"
      },
      "source": [
        "df_train_new.to_csv(\"train_new.csv\", index=False)               ## cleaned csv files\n",
        "df_test_new.to_csv(\"test_new.csv\", index=False)\n",
        "df_train_selected_features.to_csv(\"train_final.csv\", index=False)                   ##exporting dataframe after feature selection into csv file\n",
        "df_test_selected_features.to_csv(\"test_final.csv\", index=False)"
      ],
      "execution_count": null,
      "outputs": []
    },
    {
      "cell_type": "markdown",
      "metadata": {
        "id": "GW56ZTsP_aIe"
      },
      "source": [
        "## I have exported my data to another csv files name train_final and test_final .\n",
        "##i have completed the cleaning part.\n",
        "\n",
        "##Continuing the assignment in Part2 "
      ]
    },
    {
      "cell_type": "markdown",
      "metadata": {
        "id": "q282VPQq_6so"
      },
      "source": [
        "#Credits:\n",
        "\n",
        "1. EE769 1 2 2 ML for Smart Monkeys, Youtube, Prof Amit Sethi, EE IITB\n",
        "2. Training: https://drive.google.com/file/d/1-E-EfSZcREnhyMe23tluDmzNnS2pWSE_/view?usp=sharing\n",
        "\n",
        "3. Testing: https://drive.google.com/file/d/1-498FRSmoGj1AqpuPIHU5P8tIwuHEzN1/view?usp=sharing\n",
        "\n",
        "4. taken help from this site:\n",
        "    https://zlatankr.github.io/posts/2017/01/23/pump-it-up\n",
        "\n",
        "5. Linear discriminant analysis : https://machinelearningmastery.com/linear-discriminant-analysis-with-python/\n",
        "\n",
        "6. Converting date to no of days: https://www.tutorialspoint.com/python_data_science/python_date_and_time.htm"
      ]
    }
  ]
}