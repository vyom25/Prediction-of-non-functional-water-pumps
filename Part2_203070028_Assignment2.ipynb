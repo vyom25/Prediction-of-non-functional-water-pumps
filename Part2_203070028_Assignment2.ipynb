{
  "nbformat": 4,
  "nbformat_minor": 0,
  "metadata": {
    "colab": {
      "name": "Part2_203070028_Assignment2.ipynb",
      "provenance": [],
      "collapsed_sections": []
    },
    "kernelspec": {
      "name": "python3",
      "display_name": "Python 3"
    },
    "language_info": {
      "name": "python"
    }
  },
  "cells": [
    {
      "cell_type": "markdown",
      "metadata": {
        "id": "Mk-NtNsu0Luu"
      },
      "source": [
        "#EE769 Assignment 2(Part2)\n",
        "\n",
        "##Vyomkesh Chaudhary\n",
        "##203070028"
      ]
    },
    {
      "cell_type": "code",
      "metadata": {
        "id": "U4bR7Ah6zSxE"
      },
      "source": [
        "import pandas as pd\n",
        "import numpy as np\n",
        "import seaborn as sns\n",
        "import matplotlib.pyplot as plt\n",
        "import matplotlib.pylab as pylab\n",
        "\n",
        "from sklearn.metrics import accuracy_score, confusion_matrix"
      ],
      "execution_count": null,
      "outputs": []
    },
    {
      "cell_type": "code",
      "metadata": {
        "id": "suO5RZLNcrUx"
      },
      "source": [
        "df_train_final = pd.read_csv('train_final.csv')                       ## Reading csv files into data frames\n",
        "df_test_final = pd.read_csv('test_final.csv')"
      ],
      "execution_count": null,
      "outputs": []
    },
    {
      "cell_type": "markdown",
      "metadata": {
        "id": "JbriZ0nMdXqh"
      },
      "source": [
        "#Train/test splitting"
      ]
    },
    {
      "cell_type": "code",
      "metadata": {
        "id": "zvqFbdGSdVEL"
      },
      "source": [
        "X = df_train_final.drop(\"label\",axis=1)\n",
        "y = df_train_final[\"label\"]"
      ],
      "execution_count": null,
      "outputs": []
    },
    {
      "cell_type": "code",
      "metadata": {
        "id": "CN6c7girdpaz"
      },
      "source": [
        "from sklearn.model_selection import train_test_split\n",
        "X_train, X_valid, y_train, y_valid = train_test_split(X, y, test_size = 0.2, stratify=y, random_state=42)"
      ],
      "execution_count": null,
      "outputs": []
    },
    {
      "cell_type": "markdown",
      "metadata": {
        "id": "8t5JL19lesK_"
      },
      "source": [
        "stratify makes a split so that proportion of values in the sample produced will be the same as the proportion of values provided to parameter stratify."
      ]
    },
    {
      "cell_type": "markdown",
      "metadata": {
        "id": "YvZ2RwqJfFgY"
      },
      "source": [
        "#Standard Scaling"
      ]
    },
    {
      "cell_type": "code",
      "metadata": {
        "id": "5BR1cw8jfABI"
      },
      "source": [
        "from sklearn.preprocessing import StandardScaler as ss\n",
        "scalar = ss()\n",
        "X_train = scalar.fit_transform(X_train)\n",
        "X_valid = scalar.transform(X_valid)\n",
        "X_test = scalar.transform(df_test_final)"
      ],
      "execution_count": null,
      "outputs": []
    },
    {
      "cell_type": "markdown",
      "metadata": {
        "id": "48Jd43ACgtFE"
      },
      "source": [
        "#Part 3: Declaration of ML frameworks"
      ]
    },
    {
      "cell_type": "markdown",
      "metadata": {
        "id": "1lgsIeUm4Wmu"
      },
      "source": [
        "https://www.datasciencecentral.com/profiles/blogs/how-to-choose-a-machine-learning-model-some-guidelines"
      ]
    },
    {
      "cell_type": "markdown",
      "metadata": {
        "id": "-8nXZeSCidB-"
      },
      "source": [
        "#Support Vector Classifier(SVC)"
      ]
    },
    {
      "cell_type": "code",
      "metadata": {
        "colab": {
          "base_uri": "https://localhost:8080/"
        },
        "id": "xwGdhOrJgQjP",
        "outputId": "3036783b-0204-4d9d-e291-4c847d0d27b6"
      },
      "source": [
        "from sklearn.svm import SVC\n",
        "\n",
        "svc = SVC(probability=True)\n",
        "svc.fit(X_train, y_train)\n",
        "y_pred = svc.predict(X_valid)\n",
        "\n",
        "acc_SVC = round(accuracy_score(y_valid,y_pred) * 100, 2)\n",
        "acc_SVC"
      ],
      "execution_count": null,
      "outputs": [
        {
          "output_type": "execute_result",
          "data": {
            "text/plain": [
              "74.98"
            ]
          },
          "metadata": {
            "tags": []
          },
          "execution_count": 6
        }
      ]
    },
    {
      "cell_type": "code",
      "metadata": {
        "colab": {
          "base_uri": "https://localhost:8080/"
        },
        "id": "tHskW5R8rjxY",
        "outputId": "5f55fe42-08dd-4dc5-eb43-a42e91960560"
      },
      "source": [
        "from sklearn.externals import joblib\n",
        "joblib.dump(svc, 'save_model_svc.pkl')"
      ],
      "execution_count": null,
      "outputs": [
        {
          "output_type": "stream",
          "text": [
            "/usr/local/lib/python3.7/dist-packages/sklearn/externals/joblib/__init__.py:15: FutureWarning: sklearn.externals.joblib is deprecated in 0.21 and will be removed in 0.23. Please import this functionality directly from joblib, which can be installed with: pip install joblib. If this warning is raised when loading pickled models, you may need to re-serialize those models with scikit-learn 0.21+.\n",
            "  warnings.warn(msg, category=FutureWarning)\n"
          ],
          "name": "stderr"
        },
        {
          "output_type": "execute_result",
          "data": {
            "text/plain": [
              "['save_model_svc.pkl']"
            ]
          },
          "metadata": {
            "tags": []
          },
          "execution_count": 11
        }
      ]
    },
    {
      "cell_type": "markdown",
      "metadata": {
        "id": "r4rNFGLBtYTa"
      },
      "source": [
        "#Random Forest"
      ]
    },
    {
      "cell_type": "code",
      "metadata": {
        "colab": {
          "base_uri": "https://localhost:8080/"
        },
        "id": "YSLRmJv9si-h",
        "outputId": "0da7da67-1a8e-4054-9536-d7cfde27df10"
      },
      "source": [
        "from sklearn.ensemble import RandomForestClassifier\n",
        "\n",
        "rfc = RandomForestClassifier(criterion='entropy', n_estimators = 1000,min_samples_split=8,random_state=42,verbose=5)\n",
        "rfc.fit(X_train, y_train)\n",
        "\n",
        "y_pred = rfc.predict(X_valid)\n",
        "\n",
        "acc_rfc = round(accuracy_score(y_valid,y_pred) * 100, 2)\n",
        "acc_rfc"
      ],
      "execution_count": null,
      "outputs": [
        {
          "output_type": "stream",
          "text": [
            "[Parallel(n_jobs=1)]: Using backend SequentialBackend with 1 concurrent workers.\n",
            "[Parallel(n_jobs=1)]: Done   1 out of   1 | elapsed:    0.1s remaining:    0.0s\n",
            "[Parallel(n_jobs=1)]: Done   2 out of   2 | elapsed:    0.2s remaining:    0.0s\n"
          ],
          "name": "stderr"
        },
        {
          "output_type": "stream",
          "text": [
            "building tree 1 of 1000\n",
            "building tree 2 of 1000\n",
            "building tree 3 of 1000\n"
          ],
          "name": "stdout"
        },
        {
          "output_type": "stream",
          "text": [
            "[Parallel(n_jobs=1)]: Done   3 out of   3 | elapsed:    0.2s remaining:    0.0s\n",
            "[Parallel(n_jobs=1)]: Done   4 out of   4 | elapsed:    0.3s remaining:    0.0s\n"
          ],
          "name": "stderr"
        },
        {
          "output_type": "stream",
          "text": [
            "building tree 4 of 1000\n",
            "building tree 5 of 1000\n",
            "building tree 6 of 1000\n",
            "building tree 7 of 1000\n",
            "building tree 8 of 1000\n",
            "building tree 9 of 1000\n",
            "building tree 10 of 1000\n",
            "building tree 11 of 1000\n",
            "building tree 12 of 1000\n",
            "building tree 13 of 1000\n",
            "building tree 14 of 1000\n",
            "building tree 15 of 1000\n",
            "building tree 16 of 1000\n",
            "building tree 17 of 1000\n",
            "building tree 18 of 1000\n",
            "building tree 19 of 1000\n",
            "building tree 20 of 1000\n",
            "building tree 21 of 1000\n",
            "building tree 22 of 1000\n",
            "building tree 23 of 1000\n",
            "building tree 24 of 1000\n",
            "building tree 25 of 1000\n",
            "building tree 26 of 1000\n",
            "building tree 27 of 1000\n",
            "building tree 28 of 1000\n",
            "building tree 29 of 1000\n",
            "building tree 30 of 1000\n",
            "building tree 31 of 1000\n",
            "building tree 32 of 1000\n",
            "building tree 33 of 1000\n",
            "building tree 34 of 1000\n",
            "building tree 35 of 1000\n",
            "building tree 36 of 1000\n",
            "building tree 37 of 1000\n",
            "building tree 38 of 1000\n",
            "building tree 39 of 1000\n",
            "building tree 40 of 1000\n",
            "building tree 41 of 1000\n",
            "building tree 42 of 1000\n",
            "building tree 43 of 1000\n",
            "building tree 44 of 1000\n",
            "building tree 45 of 1000\n",
            "building tree 46 of 1000\n",
            "building tree 47 of 1000\n",
            "building tree 48 of 1000\n",
            "building tree 49 of 1000\n",
            "building tree 50 of 1000\n",
            "building tree 51 of 1000\n",
            "building tree 52 of 1000\n",
            "building tree 53 of 1000\n",
            "building tree 54 of 1000\n",
            "building tree 55 of 1000\n",
            "building tree 56 of 1000\n",
            "building tree 57 of 1000\n",
            "building tree 58 of 1000\n",
            "building tree 59 of 1000\n",
            "building tree 60 of 1000\n",
            "building tree 61 of 1000\n",
            "building tree 62 of 1000\n",
            "building tree 63 of 1000\n",
            "building tree 64 of 1000\n",
            "building tree 65 of 1000\n",
            "building tree 66 of 1000\n",
            "building tree 67 of 1000\n",
            "building tree 68 of 1000\n",
            "building tree 69 of 1000\n",
            "building tree 70 of 1000\n",
            "building tree 71 of 1000\n",
            "building tree 72 of 1000\n",
            "building tree 73 of 1000\n",
            "building tree 74 of 1000\n",
            "building tree 75 of 1000\n",
            "building tree 76 of 1000\n",
            "building tree 77 of 1000\n",
            "building tree 78 of 1000\n",
            "building tree 79 of 1000\n",
            "building tree 80 of 1000\n",
            "building tree 81 of 1000\n",
            "building tree 82 of 1000\n",
            "building tree 83 of 1000\n",
            "building tree 84 of 1000\n",
            "building tree 85 of 1000\n",
            "building tree 86 of 1000\n",
            "building tree 87 of 1000\n",
            "building tree 88 of 1000\n",
            "building tree 89 of 1000\n",
            "building tree 90 of 1000\n",
            "building tree 91 of 1000\n",
            "building tree 92 of 1000\n",
            "building tree 93 of 1000\n",
            "building tree 94 of 1000\n",
            "building tree 95 of 1000\n",
            "building tree 96 of 1000\n",
            "building tree 97 of 1000\n",
            "building tree 98 of 1000\n",
            "building tree 99 of 1000\n",
            "building tree 100 of 1000\n",
            "building tree 101 of 1000\n",
            "building tree 102 of 1000\n",
            "building tree 103 of 1000\n",
            "building tree 104 of 1000\n",
            "building tree 105 of 1000\n",
            "building tree 106 of 1000\n",
            "building tree 107 of 1000\n",
            "building tree 108 of 1000\n",
            "building tree 109 of 1000\n",
            "building tree 110 of 1000\n",
            "building tree 111 of 1000\n",
            "building tree 112 of 1000\n",
            "building tree 113 of 1000\n",
            "building tree 114 of 1000\n",
            "building tree 115 of 1000\n",
            "building tree 116 of 1000\n",
            "building tree 117 of 1000\n",
            "building tree 118 of 1000\n",
            "building tree 119 of 1000\n",
            "building tree 120 of 1000\n",
            "building tree 121 of 1000\n",
            "building tree 122 of 1000\n",
            "building tree 123 of 1000\n",
            "building tree 124 of 1000\n",
            "building tree 125 of 1000\n",
            "building tree 126 of 1000\n",
            "building tree 127 of 1000\n",
            "building tree 128 of 1000\n",
            "building tree 129 of 1000\n",
            "building tree 130 of 1000\n",
            "building tree 131 of 1000\n",
            "building tree 132 of 1000\n",
            "building tree 133 of 1000\n",
            "building tree 134 of 1000\n",
            "building tree 135 of 1000\n",
            "building tree 136 of 1000\n",
            "building tree 137 of 1000\n",
            "building tree 138 of 1000\n",
            "building tree 139 of 1000\n",
            "building tree 140 of 1000\n",
            "building tree 141 of 1000\n",
            "building tree 142 of 1000\n",
            "building tree 143 of 1000\n",
            "building tree 144 of 1000\n",
            "building tree 145 of 1000\n",
            "building tree 146 of 1000\n",
            "building tree 147 of 1000\n",
            "building tree 148 of 1000\n",
            "building tree 149 of 1000\n",
            "building tree 150 of 1000\n",
            "building tree 151 of 1000\n",
            "building tree 152 of 1000\n",
            "building tree 153 of 1000\n",
            "building tree 154 of 1000\n",
            "building tree 155 of 1000\n",
            "building tree 156 of 1000\n",
            "building tree 157 of 1000\n",
            "building tree 158 of 1000\n",
            "building tree 159 of 1000\n",
            "building tree 160 of 1000\n",
            "building tree 161 of 1000\n",
            "building tree 162 of 1000\n",
            "building tree 163 of 1000\n",
            "building tree 164 of 1000\n",
            "building tree 165 of 1000\n",
            "building tree 166 of 1000\n",
            "building tree 167 of 1000\n",
            "building tree 168 of 1000\n",
            "building tree 169 of 1000\n",
            "building tree 170 of 1000\n",
            "building tree 171 of 1000\n",
            "building tree 172 of 1000\n",
            "building tree 173 of 1000\n",
            "building tree 174 of 1000\n",
            "building tree 175 of 1000\n",
            "building tree 176 of 1000\n",
            "building tree 177 of 1000\n",
            "building tree 178 of 1000\n",
            "building tree 179 of 1000\n",
            "building tree 180 of 1000\n",
            "building tree 181 of 1000\n",
            "building tree 182 of 1000\n",
            "building tree 183 of 1000\n",
            "building tree 184 of 1000\n",
            "building tree 185 of 1000\n",
            "building tree 186 of 1000\n",
            "building tree 187 of 1000\n",
            "building tree 188 of 1000\n",
            "building tree 189 of 1000\n",
            "building tree 190 of 1000\n",
            "building tree 191 of 1000\n",
            "building tree 192 of 1000\n",
            "building tree 193 of 1000\n",
            "building tree 194 of 1000\n",
            "building tree 195 of 1000\n",
            "building tree 196 of 1000\n",
            "building tree 197 of 1000\n",
            "building tree 198 of 1000\n",
            "building tree 199 of 1000\n",
            "building tree 200 of 1000\n",
            "building tree 201 of 1000\n",
            "building tree 202 of 1000\n",
            "building tree 203 of 1000\n",
            "building tree 204 of 1000\n",
            "building tree 205 of 1000\n",
            "building tree 206 of 1000\n",
            "building tree 207 of 1000\n",
            "building tree 208 of 1000\n",
            "building tree 209 of 1000\n",
            "building tree 210 of 1000\n",
            "building tree 211 of 1000\n",
            "building tree 212 of 1000\n",
            "building tree 213 of 1000\n",
            "building tree 214 of 1000\n",
            "building tree 215 of 1000\n",
            "building tree 216 of 1000\n",
            "building tree 217 of 1000\n",
            "building tree 218 of 1000\n",
            "building tree 219 of 1000\n",
            "building tree 220 of 1000\n",
            "building tree 221 of 1000\n",
            "building tree 222 of 1000\n",
            "building tree 223 of 1000\n",
            "building tree 224 of 1000\n",
            "building tree 225 of 1000\n",
            "building tree 226 of 1000\n",
            "building tree 227 of 1000\n",
            "building tree 228 of 1000\n",
            "building tree 229 of 1000\n",
            "building tree 230 of 1000\n",
            "building tree 231 of 1000\n",
            "building tree 232 of 1000\n",
            "building tree 233 of 1000\n",
            "building tree 234 of 1000\n",
            "building tree 235 of 1000\n",
            "building tree 236 of 1000\n",
            "building tree 237 of 1000\n",
            "building tree 238 of 1000\n",
            "building tree 239 of 1000\n",
            "building tree 240 of 1000\n",
            "building tree 241 of 1000\n",
            "building tree 242 of 1000\n",
            "building tree 243 of 1000\n",
            "building tree 244 of 1000\n",
            "building tree 245 of 1000\n",
            "building tree 246 of 1000\n",
            "building tree 247 of 1000\n",
            "building tree 248 of 1000\n",
            "building tree 249 of 1000\n",
            "building tree 250 of 1000\n",
            "building tree 251 of 1000\n",
            "building tree 252 of 1000\n",
            "building tree 253 of 1000\n",
            "building tree 254 of 1000\n",
            "building tree 255 of 1000\n",
            "building tree 256 of 1000\n",
            "building tree 257 of 1000\n",
            "building tree 258 of 1000\n",
            "building tree 259 of 1000\n",
            "building tree 260 of 1000\n",
            "building tree 261 of 1000\n",
            "building tree 262 of 1000\n",
            "building tree 263 of 1000\n",
            "building tree 264 of 1000\n",
            "building tree 265 of 1000\n",
            "building tree 266 of 1000\n",
            "building tree 267 of 1000\n",
            "building tree 268 of 1000\n",
            "building tree 269 of 1000\n",
            "building tree 270 of 1000\n",
            "building tree 271 of 1000\n",
            "building tree 272 of 1000\n",
            "building tree 273 of 1000\n",
            "building tree 274 of 1000\n",
            "building tree 275 of 1000\n",
            "building tree 276 of 1000\n",
            "building tree 277 of 1000\n",
            "building tree 278 of 1000\n",
            "building tree 279 of 1000\n",
            "building tree 280 of 1000\n",
            "building tree 281 of 1000\n",
            "building tree 282 of 1000\n",
            "building tree 283 of 1000\n",
            "building tree 284 of 1000\n",
            "building tree 285 of 1000\n",
            "building tree 286 of 1000\n",
            "building tree 287 of 1000\n",
            "building tree 288 of 1000\n",
            "building tree 289 of 1000\n",
            "building tree 290 of 1000\n",
            "building tree 291 of 1000\n",
            "building tree 292 of 1000\n",
            "building tree 293 of 1000\n",
            "building tree 294 of 1000\n",
            "building tree 295 of 1000\n",
            "building tree 296 of 1000\n",
            "building tree 297 of 1000\n",
            "building tree 298 of 1000\n",
            "building tree 299 of 1000\n",
            "building tree 300 of 1000\n",
            "building tree 301 of 1000\n",
            "building tree 302 of 1000\n",
            "building tree 303 of 1000\n",
            "building tree 304 of 1000\n",
            "building tree 305 of 1000\n",
            "building tree 306 of 1000\n",
            "building tree 307 of 1000\n",
            "building tree 308 of 1000\n",
            "building tree 309 of 1000\n",
            "building tree 310 of 1000\n",
            "building tree 311 of 1000\n",
            "building tree 312 of 1000\n",
            "building tree 313 of 1000\n",
            "building tree 314 of 1000\n",
            "building tree 315 of 1000\n",
            "building tree 316 of 1000\n",
            "building tree 317 of 1000\n",
            "building tree 318 of 1000\n",
            "building tree 319 of 1000\n",
            "building tree 320 of 1000\n",
            "building tree 321 of 1000\n",
            "building tree 322 of 1000\n",
            "building tree 323 of 1000\n",
            "building tree 324 of 1000\n",
            "building tree 325 of 1000\n",
            "building tree 326 of 1000\n",
            "building tree 327 of 1000\n",
            "building tree 328 of 1000\n",
            "building tree 329 of 1000\n",
            "building tree 330 of 1000\n",
            "building tree 331 of 1000\n",
            "building tree 332 of 1000\n",
            "building tree 333 of 1000\n",
            "building tree 334 of 1000\n",
            "building tree 335 of 1000\n",
            "building tree 336 of 1000\n",
            "building tree 337 of 1000\n",
            "building tree 338 of 1000\n",
            "building tree 339 of 1000\n",
            "building tree 340 of 1000\n",
            "building tree 341 of 1000\n",
            "building tree 342 of 1000\n",
            "building tree 343 of 1000\n",
            "building tree 344 of 1000\n",
            "building tree 345 of 1000\n",
            "building tree 346 of 1000\n",
            "building tree 347 of 1000\n",
            "building tree 348 of 1000\n",
            "building tree 349 of 1000\n",
            "building tree 350 of 1000\n",
            "building tree 351 of 1000\n",
            "building tree 352 of 1000\n",
            "building tree 353 of 1000\n",
            "building tree 354 of 1000\n",
            "building tree 355 of 1000\n",
            "building tree 356 of 1000\n",
            "building tree 357 of 1000\n",
            "building tree 358 of 1000\n",
            "building tree 359 of 1000\n",
            "building tree 360 of 1000\n",
            "building tree 361 of 1000\n",
            "building tree 362 of 1000\n",
            "building tree 363 of 1000\n",
            "building tree 364 of 1000\n",
            "building tree 365 of 1000\n",
            "building tree 366 of 1000\n",
            "building tree 367 of 1000\n",
            "building tree 368 of 1000\n",
            "building tree 369 of 1000\n",
            "building tree 370 of 1000\n",
            "building tree 371 of 1000\n",
            "building tree 372 of 1000\n",
            "building tree 373 of 1000\n",
            "building tree 374 of 1000\n",
            "building tree 375 of 1000\n",
            "building tree 376 of 1000\n",
            "building tree 377 of 1000\n",
            "building tree 378 of 1000\n",
            "building tree 379 of 1000\n",
            "building tree 380 of 1000\n",
            "building tree 381 of 1000\n",
            "building tree 382 of 1000\n",
            "building tree 383 of 1000\n",
            "building tree 384 of 1000\n",
            "building tree 385 of 1000\n",
            "building tree 386 of 1000\n",
            "building tree 387 of 1000\n",
            "building tree 388 of 1000\n",
            "building tree 389 of 1000\n",
            "building tree 390 of 1000\n",
            "building tree 391 of 1000\n",
            "building tree 392 of 1000\n",
            "building tree 393 of 1000\n",
            "building tree 394 of 1000\n",
            "building tree 395 of 1000\n",
            "building tree 396 of 1000\n",
            "building tree 397 of 1000\n",
            "building tree 398 of 1000\n",
            "building tree 399 of 1000\n",
            "building tree 400 of 1000\n",
            "building tree 401 of 1000\n",
            "building tree 402 of 1000\n",
            "building tree 403 of 1000\n",
            "building tree 404 of 1000\n",
            "building tree 405 of 1000\n",
            "building tree 406 of 1000\n",
            "building tree 407 of 1000\n",
            "building tree 408 of 1000\n",
            "building tree 409 of 1000\n",
            "building tree 410 of 1000\n",
            "building tree 411 of 1000\n",
            "building tree 412 of 1000\n",
            "building tree 413 of 1000\n",
            "building tree 414 of 1000\n",
            "building tree 415 of 1000\n",
            "building tree 416 of 1000\n",
            "building tree 417 of 1000\n",
            "building tree 418 of 1000\n",
            "building tree 419 of 1000\n",
            "building tree 420 of 1000\n",
            "building tree 421 of 1000\n",
            "building tree 422 of 1000\n",
            "building tree 423 of 1000\n",
            "building tree 424 of 1000\n",
            "building tree 425 of 1000\n",
            "building tree 426 of 1000\n",
            "building tree 427 of 1000\n",
            "building tree 428 of 1000\n",
            "building tree 429 of 1000\n",
            "building tree 430 of 1000\n",
            "building tree 431 of 1000\n",
            "building tree 432 of 1000\n",
            "building tree 433 of 1000\n",
            "building tree 434 of 1000\n",
            "building tree 435 of 1000\n",
            "building tree 436 of 1000\n",
            "building tree 437 of 1000\n",
            "building tree 438 of 1000\n",
            "building tree 439 of 1000\n",
            "building tree 440 of 1000\n",
            "building tree 441 of 1000\n",
            "building tree 442 of 1000\n",
            "building tree 443 of 1000\n",
            "building tree 444 of 1000\n",
            "building tree 445 of 1000\n",
            "building tree 446 of 1000\n",
            "building tree 447 of 1000\n",
            "building tree 448 of 1000\n",
            "building tree 449 of 1000\n",
            "building tree 450 of 1000\n",
            "building tree 451 of 1000\n",
            "building tree 452 of 1000\n",
            "building tree 453 of 1000\n",
            "building tree 454 of 1000\n",
            "building tree 455 of 1000\n",
            "building tree 456 of 1000\n",
            "building tree 457 of 1000\n",
            "building tree 458 of 1000\n",
            "building tree 459 of 1000\n",
            "building tree 460 of 1000\n",
            "building tree 461 of 1000\n",
            "building tree 462 of 1000\n",
            "building tree 463 of 1000\n",
            "building tree 464 of 1000\n",
            "building tree 465 of 1000\n",
            "building tree 466 of 1000\n",
            "building tree 467 of 1000\n",
            "building tree 468 of 1000\n",
            "building tree 469 of 1000\n",
            "building tree 470 of 1000\n",
            "building tree 471 of 1000\n",
            "building tree 472 of 1000\n",
            "building tree 473 of 1000\n",
            "building tree 474 of 1000\n",
            "building tree 475 of 1000\n",
            "building tree 476 of 1000\n",
            "building tree 477 of 1000\n",
            "building tree 478 of 1000\n",
            "building tree 479 of 1000\n",
            "building tree 480 of 1000\n",
            "building tree 481 of 1000\n",
            "building tree 482 of 1000\n",
            "building tree 483 of 1000\n",
            "building tree 484 of 1000\n",
            "building tree 485 of 1000\n",
            "building tree 486 of 1000\n",
            "building tree 487 of 1000\n",
            "building tree 488 of 1000\n",
            "building tree 489 of 1000\n",
            "building tree 490 of 1000\n",
            "building tree 491 of 1000\n",
            "building tree 492 of 1000\n",
            "building tree 493 of 1000\n",
            "building tree 494 of 1000\n",
            "building tree 495 of 1000\n",
            "building tree 496 of 1000\n",
            "building tree 497 of 1000\n",
            "building tree 498 of 1000\n",
            "building tree 499 of 1000\n",
            "building tree 500 of 1000\n",
            "building tree 501 of 1000\n",
            "building tree 502 of 1000\n",
            "building tree 503 of 1000\n",
            "building tree 504 of 1000\n",
            "building tree 505 of 1000\n",
            "building tree 506 of 1000\n",
            "building tree 507 of 1000\n",
            "building tree 508 of 1000\n",
            "building tree 509 of 1000\n",
            "building tree 510 of 1000\n",
            "building tree 511 of 1000\n",
            "building tree 512 of 1000\n",
            "building tree 513 of 1000\n",
            "building tree 514 of 1000\n",
            "building tree 515 of 1000\n",
            "building tree 516 of 1000\n",
            "building tree 517 of 1000\n",
            "building tree 518 of 1000\n",
            "building tree 519 of 1000\n",
            "building tree 520 of 1000\n",
            "building tree 521 of 1000\n",
            "building tree 522 of 1000\n",
            "building tree 523 of 1000\n",
            "building tree 524 of 1000\n",
            "building tree 525 of 1000\n",
            "building tree 526 of 1000\n",
            "building tree 527 of 1000\n",
            "building tree 528 of 1000\n",
            "building tree 529 of 1000\n",
            "building tree 530 of 1000\n",
            "building tree 531 of 1000\n",
            "building tree 532 of 1000\n",
            "building tree 533 of 1000\n",
            "building tree 534 of 1000\n",
            "building tree 535 of 1000\n",
            "building tree 536 of 1000\n",
            "building tree 537 of 1000\n",
            "building tree 538 of 1000\n",
            "building tree 539 of 1000\n",
            "building tree 540 of 1000\n",
            "building tree 541 of 1000\n",
            "building tree 542 of 1000\n",
            "building tree 543 of 1000\n",
            "building tree 544 of 1000\n",
            "building tree 545 of 1000\n",
            "building tree 546 of 1000\n",
            "building tree 547 of 1000\n",
            "building tree 548 of 1000\n",
            "building tree 549 of 1000\n",
            "building tree 550 of 1000\n",
            "building tree 551 of 1000\n",
            "building tree 552 of 1000\n",
            "building tree 553 of 1000\n",
            "building tree 554 of 1000\n",
            "building tree 555 of 1000\n",
            "building tree 556 of 1000\n",
            "building tree 557 of 1000\n",
            "building tree 558 of 1000\n",
            "building tree 559 of 1000\n",
            "building tree 560 of 1000\n",
            "building tree 561 of 1000\n",
            "building tree 562 of 1000\n",
            "building tree 563 of 1000\n",
            "building tree 564 of 1000\n",
            "building tree 565 of 1000\n",
            "building tree 566 of 1000\n",
            "building tree 567 of 1000\n",
            "building tree 568 of 1000\n",
            "building tree 569 of 1000\n",
            "building tree 570 of 1000\n",
            "building tree 571 of 1000\n",
            "building tree 572 of 1000\n",
            "building tree 573 of 1000\n",
            "building tree 574 of 1000\n",
            "building tree 575 of 1000\n",
            "building tree 576 of 1000\n",
            "building tree 577 of 1000\n",
            "building tree 578 of 1000\n",
            "building tree 579 of 1000\n",
            "building tree 580 of 1000\n",
            "building tree 581 of 1000\n",
            "building tree 582 of 1000\n",
            "building tree 583 of 1000\n",
            "building tree 584 of 1000\n",
            "building tree 585 of 1000\n",
            "building tree 586 of 1000\n",
            "building tree 587 of 1000\n",
            "building tree 588 of 1000\n",
            "building tree 589 of 1000\n",
            "building tree 590 of 1000\n",
            "building tree 591 of 1000\n",
            "building tree 592 of 1000\n",
            "building tree 593 of 1000\n",
            "building tree 594 of 1000\n",
            "building tree 595 of 1000\n",
            "building tree 596 of 1000\n",
            "building tree 597 of 1000\n",
            "building tree 598 of 1000\n",
            "building tree 599 of 1000\n",
            "building tree 600 of 1000\n",
            "building tree 601 of 1000\n",
            "building tree 602 of 1000\n",
            "building tree 603 of 1000\n",
            "building tree 604 of 1000\n",
            "building tree 605 of 1000\n",
            "building tree 606 of 1000\n",
            "building tree 607 of 1000\n",
            "building tree 608 of 1000\n",
            "building tree 609 of 1000\n",
            "building tree 610 of 1000\n",
            "building tree 611 of 1000\n",
            "building tree 612 of 1000\n",
            "building tree 613 of 1000\n",
            "building tree 614 of 1000\n",
            "building tree 615 of 1000\n",
            "building tree 616 of 1000\n",
            "building tree 617 of 1000\n",
            "building tree 618 of 1000\n",
            "building tree 619 of 1000\n",
            "building tree 620 of 1000\n",
            "building tree 621 of 1000\n",
            "building tree 622 of 1000\n",
            "building tree 623 of 1000\n",
            "building tree 624 of 1000\n",
            "building tree 625 of 1000\n",
            "building tree 626 of 1000\n",
            "building tree 627 of 1000\n",
            "building tree 628 of 1000\n",
            "building tree 629 of 1000\n",
            "building tree 630 of 1000\n",
            "building tree 631 of 1000\n",
            "building tree 632 of 1000\n",
            "building tree 633 of 1000\n",
            "building tree 634 of 1000\n",
            "building tree 635 of 1000\n",
            "building tree 636 of 1000\n",
            "building tree 637 of 1000\n",
            "building tree 638 of 1000\n",
            "building tree 639 of 1000\n",
            "building tree 640 of 1000\n",
            "building tree 641 of 1000\n",
            "building tree 642 of 1000\n",
            "building tree 643 of 1000\n",
            "building tree 644 of 1000\n",
            "building tree 645 of 1000\n",
            "building tree 646 of 1000\n",
            "building tree 647 of 1000\n",
            "building tree 648 of 1000\n",
            "building tree 649 of 1000\n",
            "building tree 650 of 1000\n",
            "building tree 651 of 1000\n",
            "building tree 652 of 1000\n",
            "building tree 653 of 1000\n",
            "building tree 654 of 1000\n",
            "building tree 655 of 1000\n",
            "building tree 656 of 1000\n",
            "building tree 657 of 1000\n",
            "building tree 658 of 1000\n",
            "building tree 659 of 1000\n",
            "building tree 660 of 1000\n",
            "building tree 661 of 1000\n",
            "building tree 662 of 1000\n",
            "building tree 663 of 1000\n",
            "building tree 664 of 1000\n",
            "building tree 665 of 1000\n",
            "building tree 666 of 1000\n",
            "building tree 667 of 1000\n",
            "building tree 668 of 1000\n",
            "building tree 669 of 1000\n",
            "building tree 670 of 1000\n",
            "building tree 671 of 1000\n",
            "building tree 672 of 1000\n",
            "building tree 673 of 1000\n",
            "building tree 674 of 1000\n",
            "building tree 675 of 1000\n",
            "building tree 676 of 1000\n",
            "building tree 677 of 1000\n",
            "building tree 678 of 1000\n",
            "building tree 679 of 1000\n",
            "building tree 680 of 1000\n",
            "building tree 681 of 1000\n",
            "building tree 682 of 1000\n",
            "building tree 683 of 1000\n",
            "building tree 684 of 1000\n",
            "building tree 685 of 1000\n",
            "building tree 686 of 1000\n",
            "building tree 687 of 1000\n",
            "building tree 688 of 1000\n",
            "building tree 689 of 1000\n",
            "building tree 690 of 1000\n",
            "building tree 691 of 1000\n",
            "building tree 692 of 1000\n",
            "building tree 693 of 1000\n",
            "building tree 694 of 1000\n",
            "building tree 695 of 1000\n",
            "building tree 696 of 1000\n",
            "building tree 697 of 1000\n",
            "building tree 698 of 1000\n",
            "building tree 699 of 1000\n",
            "building tree 700 of 1000\n",
            "building tree 701 of 1000\n",
            "building tree 702 of 1000\n",
            "building tree 703 of 1000\n",
            "building tree 704 of 1000\n",
            "building tree 705 of 1000\n",
            "building tree 706 of 1000\n",
            "building tree 707 of 1000\n",
            "building tree 708 of 1000\n",
            "building tree 709 of 1000\n",
            "building tree 710 of 1000\n",
            "building tree 711 of 1000\n",
            "building tree 712 of 1000\n",
            "building tree 713 of 1000\n",
            "building tree 714 of 1000\n",
            "building tree 715 of 1000\n",
            "building tree 716 of 1000\n",
            "building tree 717 of 1000\n",
            "building tree 718 of 1000\n",
            "building tree 719 of 1000\n",
            "building tree 720 of 1000\n",
            "building tree 721 of 1000\n",
            "building tree 722 of 1000\n",
            "building tree 723 of 1000\n",
            "building tree 724 of 1000\n",
            "building tree 725 of 1000\n",
            "building tree 726 of 1000\n",
            "building tree 727 of 1000\n",
            "building tree 728 of 1000\n",
            "building tree 729 of 1000\n",
            "building tree 730 of 1000\n",
            "building tree 731 of 1000\n",
            "building tree 732 of 1000\n",
            "building tree 733 of 1000\n",
            "building tree 734 of 1000\n",
            "building tree 735 of 1000\n",
            "building tree 736 of 1000\n",
            "building tree 737 of 1000\n",
            "building tree 738 of 1000\n",
            "building tree 739 of 1000\n",
            "building tree 740 of 1000\n",
            "building tree 741 of 1000\n",
            "building tree 742 of 1000\n",
            "building tree 743 of 1000\n",
            "building tree 744 of 1000\n",
            "building tree 745 of 1000\n",
            "building tree 746 of 1000\n",
            "building tree 747 of 1000\n",
            "building tree 748 of 1000\n",
            "building tree 749 of 1000\n",
            "building tree 750 of 1000\n",
            "building tree 751 of 1000\n",
            "building tree 752 of 1000\n",
            "building tree 753 of 1000\n",
            "building tree 754 of 1000\n",
            "building tree 755 of 1000\n",
            "building tree 756 of 1000\n",
            "building tree 757 of 1000\n",
            "building tree 758 of 1000\n",
            "building tree 759 of 1000\n",
            "building tree 760 of 1000\n",
            "building tree 761 of 1000\n",
            "building tree 762 of 1000\n",
            "building tree 763 of 1000\n",
            "building tree 764 of 1000\n",
            "building tree 765 of 1000\n",
            "building tree 766 of 1000\n",
            "building tree 767 of 1000\n",
            "building tree 768 of 1000\n",
            "building tree 769 of 1000\n",
            "building tree 770 of 1000\n",
            "building tree 771 of 1000\n",
            "building tree 772 of 1000\n",
            "building tree 773 of 1000\n",
            "building tree 774 of 1000\n",
            "building tree 775 of 1000\n",
            "building tree 776 of 1000\n",
            "building tree 777 of 1000\n",
            "building tree 778 of 1000\n",
            "building tree 779 of 1000\n",
            "building tree 780 of 1000\n",
            "building tree 781 of 1000\n",
            "building tree 782 of 1000\n",
            "building tree 783 of 1000\n",
            "building tree 784 of 1000\n",
            "building tree 785 of 1000\n",
            "building tree 786 of 1000\n",
            "building tree 787 of 1000\n",
            "building tree 788 of 1000\n",
            "building tree 789 of 1000\n",
            "building tree 790 of 1000\n",
            "building tree 791 of 1000\n",
            "building tree 792 of 1000\n",
            "building tree 793 of 1000\n",
            "building tree 794 of 1000\n",
            "building tree 795 of 1000\n",
            "building tree 796 of 1000\n",
            "building tree 797 of 1000\n",
            "building tree 798 of 1000\n",
            "building tree 799 of 1000\n",
            "building tree 800 of 1000\n",
            "building tree 801 of 1000\n",
            "building tree 802 of 1000\n",
            "building tree 803 of 1000\n",
            "building tree 804 of 1000\n",
            "building tree 805 of 1000\n",
            "building tree 806 of 1000\n",
            "building tree 807 of 1000\n",
            "building tree 808 of 1000\n",
            "building tree 809 of 1000\n",
            "building tree 810 of 1000\n",
            "building tree 811 of 1000\n",
            "building tree 812 of 1000\n",
            "building tree 813 of 1000\n",
            "building tree 814 of 1000\n",
            "building tree 815 of 1000\n",
            "building tree 816 of 1000\n",
            "building tree 817 of 1000\n",
            "building tree 818 of 1000\n",
            "building tree 819 of 1000\n",
            "building tree 820 of 1000\n",
            "building tree 821 of 1000\n",
            "building tree 822 of 1000\n",
            "building tree 823 of 1000\n",
            "building tree 824 of 1000\n",
            "building tree 825 of 1000\n",
            "building tree 826 of 1000\n",
            "building tree 827 of 1000\n",
            "building tree 828 of 1000\n",
            "building tree 829 of 1000\n",
            "building tree 830 of 1000\n",
            "building tree 831 of 1000\n",
            "building tree 832 of 1000\n",
            "building tree 833 of 1000\n",
            "building tree 834 of 1000\n",
            "building tree 835 of 1000\n",
            "building tree 836 of 1000\n",
            "building tree 837 of 1000\n",
            "building tree 838 of 1000\n",
            "building tree 839 of 1000\n",
            "building tree 840 of 1000\n",
            "building tree 841 of 1000\n",
            "building tree 842 of 1000\n",
            "building tree 843 of 1000\n",
            "building tree 844 of 1000\n",
            "building tree 845 of 1000\n",
            "building tree 846 of 1000\n",
            "building tree 847 of 1000\n",
            "building tree 848 of 1000\n",
            "building tree 849 of 1000\n",
            "building tree 850 of 1000\n",
            "building tree 851 of 1000\n",
            "building tree 852 of 1000\n",
            "building tree 853 of 1000\n",
            "building tree 854 of 1000\n",
            "building tree 855 of 1000\n",
            "building tree 856 of 1000\n",
            "building tree 857 of 1000\n",
            "building tree 858 of 1000\n",
            "building tree 859 of 1000\n",
            "building tree 860 of 1000\n",
            "building tree 861 of 1000\n",
            "building tree 862 of 1000\n",
            "building tree 863 of 1000\n",
            "building tree 864 of 1000\n",
            "building tree 865 of 1000\n",
            "building tree 866 of 1000\n",
            "building tree 867 of 1000\n",
            "building tree 868 of 1000\n",
            "building tree 869 of 1000\n",
            "building tree 870 of 1000\n",
            "building tree 871 of 1000\n",
            "building tree 872 of 1000\n",
            "building tree 873 of 1000\n",
            "building tree 874 of 1000\n",
            "building tree 875 of 1000\n",
            "building tree 876 of 1000\n",
            "building tree 877 of 1000\n",
            "building tree 878 of 1000\n",
            "building tree 879 of 1000\n",
            "building tree 880 of 1000\n",
            "building tree 881 of 1000\n",
            "building tree 882 of 1000\n",
            "building tree 883 of 1000\n",
            "building tree 884 of 1000\n",
            "building tree 885 of 1000\n",
            "building tree 886 of 1000\n",
            "building tree 887 of 1000\n",
            "building tree 888 of 1000\n",
            "building tree 889 of 1000\n",
            "building tree 890 of 1000\n",
            "building tree 891 of 1000\n",
            "building tree 892 of 1000\n",
            "building tree 893 of 1000\n",
            "building tree 894 of 1000\n",
            "building tree 895 of 1000\n",
            "building tree 896 of 1000\n",
            "building tree 897 of 1000\n",
            "building tree 898 of 1000\n",
            "building tree 899 of 1000\n",
            "building tree 900 of 1000\n",
            "building tree 901 of 1000\n",
            "building tree 902 of 1000\n",
            "building tree 903 of 1000\n",
            "building tree 904 of 1000\n",
            "building tree 905 of 1000\n",
            "building tree 906 of 1000\n",
            "building tree 907 of 1000\n",
            "building tree 908 of 1000\n",
            "building tree 909 of 1000\n",
            "building tree 910 of 1000\n",
            "building tree 911 of 1000\n",
            "building tree 912 of 1000\n",
            "building tree 913 of 1000\n",
            "building tree 914 of 1000\n",
            "building tree 915 of 1000\n",
            "building tree 916 of 1000\n",
            "building tree 917 of 1000\n",
            "building tree 918 of 1000\n",
            "building tree 919 of 1000\n",
            "building tree 920 of 1000\n",
            "building tree 921 of 1000\n",
            "building tree 922 of 1000\n",
            "building tree 923 of 1000\n",
            "building tree 924 of 1000\n",
            "building tree 925 of 1000\n",
            "building tree 926 of 1000\n",
            "building tree 927 of 1000\n",
            "building tree 928 of 1000\n",
            "building tree 929 of 1000\n",
            "building tree 930 of 1000\n",
            "building tree 931 of 1000\n",
            "building tree 932 of 1000\n",
            "building tree 933 of 1000\n",
            "building tree 934 of 1000\n",
            "building tree 935 of 1000\n",
            "building tree 936 of 1000\n",
            "building tree 937 of 1000\n",
            "building tree 938 of 1000\n",
            "building tree 939 of 1000\n",
            "building tree 940 of 1000\n",
            "building tree 941 of 1000\n",
            "building tree 942 of 1000\n",
            "building tree 943 of 1000\n",
            "building tree 944 of 1000\n",
            "building tree 945 of 1000\n",
            "building tree 946 of 1000\n",
            "building tree 947 of 1000\n",
            "building tree 948 of 1000\n",
            "building tree 949 of 1000\n",
            "building tree 950 of 1000\n",
            "building tree 951 of 1000\n",
            "building tree 952 of 1000\n",
            "building tree 953 of 1000\n",
            "building tree 954 of 1000\n",
            "building tree 955 of 1000\n",
            "building tree 956 of 1000\n",
            "building tree 957 of 1000\n",
            "building tree 958 of 1000\n",
            "building tree 959 of 1000\n",
            "building tree 960 of 1000\n",
            "building tree 961 of 1000\n",
            "building tree 962 of 1000\n",
            "building tree 963 of 1000\n",
            "building tree 964 of 1000\n",
            "building tree 965 of 1000\n",
            "building tree 966 of 1000\n",
            "building tree 967 of 1000\n",
            "building tree 968 of 1000\n",
            "building tree 969 of 1000\n",
            "building tree 970 of 1000\n",
            "building tree 971 of 1000\n",
            "building tree 972 of 1000\n",
            "building tree 973 of 1000\n",
            "building tree 974 of 1000\n",
            "building tree 975 of 1000\n",
            "building tree 976 of 1000\n",
            "building tree 977 of 1000\n",
            "building tree 978 of 1000\n",
            "building tree 979 of 1000\n",
            "building tree 980 of 1000\n",
            "building tree 981 of 1000\n",
            "building tree 982 of 1000\n",
            "building tree 983 of 1000\n",
            "building tree 984 of 1000\n",
            "building tree 985 of 1000\n",
            "building tree 986 of 1000\n",
            "building tree 987 of 1000\n",
            "building tree 988 of 1000\n",
            "building tree 989 of 1000\n",
            "building tree 990 of 1000\n",
            "building tree 991 of 1000\n",
            "building tree 992 of 1000\n",
            "building tree 993 of 1000\n",
            "building tree 994 of 1000\n",
            "building tree 995 of 1000\n",
            "building tree 996 of 1000\n",
            "building tree 997 of 1000\n",
            "building tree 998 of 1000\n",
            "building tree 999 of 1000\n",
            "building tree 1000 of 1000\n"
          ],
          "name": "stdout"
        },
        {
          "output_type": "stream",
          "text": [
            "[Parallel(n_jobs=1)]: Done 1000 out of 1000 | elapsed:  1.3min finished\n",
            "[Parallel(n_jobs=1)]: Using backend SequentialBackend with 1 concurrent workers.\n",
            "[Parallel(n_jobs=1)]: Done   1 out of   1 | elapsed:    0.0s remaining:    0.0s\n",
            "[Parallel(n_jobs=1)]: Done   2 out of   2 | elapsed:    0.0s remaining:    0.0s\n",
            "[Parallel(n_jobs=1)]: Done   3 out of   3 | elapsed:    0.0s remaining:    0.0s\n",
            "[Parallel(n_jobs=1)]: Done   4 out of   4 | elapsed:    0.0s remaining:    0.0s\n",
            "[Parallel(n_jobs=1)]: Done 1000 out of 1000 | elapsed:    2.8s finished\n"
          ],
          "name": "stderr"
        },
        {
          "output_type": "execute_result",
          "data": {
            "text/plain": [
              "78.9"
            ]
          },
          "metadata": {
            "tags": []
          },
          "execution_count": 16
        }
      ]
    },
    {
      "cell_type": "code",
      "metadata": {
        "colab": {
          "base_uri": "https://localhost:8080/"
        },
        "id": "YlwhMeLovSKT",
        "outputId": "672b780e-d719-4fcd-b510-91ae9e291320"
      },
      "source": [
        "joblib.dump(rfc, 'save_model_rfc.pkl')"
      ],
      "execution_count": null,
      "outputs": [
        {
          "output_type": "execute_result",
          "data": {
            "text/plain": [
              "['save_model_rfc.pkl']"
            ]
          },
          "metadata": {
            "tags": []
          },
          "execution_count": 18
        }
      ]
    },
    {
      "cell_type": "markdown",
      "metadata": {
        "id": "vV9xf-5nx-iu"
      },
      "source": [
        "#Bagging Classifier"
      ]
    },
    {
      "cell_type": "code",
      "metadata": {
        "colab": {
          "base_uri": "https://localhost:8080/"
        },
        "id": "SP6pg5mVvSJR",
        "outputId": "00213a43-9bcc-445c-e5bd-f862bc05bd65"
      },
      "source": [
        "from sklearn.ensemble import BaggingClassifier\n",
        "\n",
        "BC = BaggingClassifier(n_estimators=100)\n",
        "BC.fit(X_train, y_train)     \n",
        "y_pred = BC.predict(X_valid)\n",
        "\n",
        "acc_BC = round(accuracy_score(y_valid,y_pred) * 100, 2)\n",
        "acc_BC"
      ],
      "execution_count": null,
      "outputs": [
        {
          "output_type": "execute_result",
          "data": {
            "text/plain": [
              "76.87"
            ]
          },
          "metadata": {
            "tags": []
          },
          "execution_count": 20
        }
      ]
    },
    {
      "cell_type": "markdown",
      "metadata": {
        "id": "jMgNjnDGyz4u"
      },
      "source": [
        "#XGboost\n",
        "\n",
        "Compared to random forests and XGBoost, AdaBoost performs worse when irrelevant features are included in the model as shown by my time series analysis of bike sharing demand. Moreover, AdaBoost is not optimized for speed, therefore being significantly slower than XGBoost."
      ]
    },
    {
      "cell_type": "code",
      "metadata": {
        "colab": {
          "base_uri": "https://localhost:8080/"
        },
        "id": "glQQALyPyZf5",
        "outputId": "2e05446c-4fda-44b7-fcf1-910f6912c3ca"
      },
      "source": [
        "from xgboost import XGBClassifier\n",
        "\n",
        "xgb = XGBClassifier(n_estimators=1000, learning_rate=0.05, n_jobs=5)\n",
        "xgb.fit(X_train, y_train, \n",
        "             early_stopping_rounds=5, \n",
        "             eval_set=[(X_valid, y_valid)], \n",
        "             verbose=False)\n",
        "\n",
        "y_pred = xgb.predict(X_valid)\n",
        "acc_xgb = round(accuracy_score(y_valid,y_pred) * 100, 2)\n",
        "acc_xgb"
      ],
      "execution_count": null,
      "outputs": [
        {
          "output_type": "execute_result",
          "data": {
            "text/plain": [
              "67.13"
            ]
          },
          "metadata": {
            "tags": []
          },
          "execution_count": 22
        }
      ]
    },
    {
      "cell_type": "markdown",
      "metadata": {
        "id": "i2zX-TS60W7M"
      },
      "source": [
        "#Gradient Boosting Classifier"
      ]
    },
    {
      "cell_type": "code",
      "metadata": {
        "colab": {
          "base_uri": "https://localhost:8080/"
        },
        "id": "2bsszqHM0b5C",
        "outputId": "5cd4bfe4-a2d2-4fec-a582-3be86c64830e"
      },
      "source": [
        "from sklearn.ensemble import GradientBoostingClassifier\n",
        "\n",
        "GB = GradientBoostingClassifier(n_estimators=100, learning_rate=0.075, \n",
        "                                max_depth=13,max_features=0.5,\n",
        "                                min_samples_leaf=14, verbose=5)\n",
        "\n",
        "GB.fit(X_train, y_train)     \n",
        "y_pred = GB.predict(X_valid)\n",
        "\n",
        "acc_GB = round(accuracy_score(y_valid,y_pred) * 100, 2)\n",
        "acc_GB"
      ],
      "execution_count": null,
      "outputs": [
        {
          "output_type": "stream",
          "text": [
            "      Iter       Train Loss   Remaining Time \n",
            "         1       29787.1289            1.24m\n",
            "         2       28214.9574            1.25m\n",
            "         3       26894.0562            1.23m\n",
            "         4       25704.5154            1.22m\n",
            "         5       24647.0501            1.21m\n",
            "         6       23684.6774            1.19m\n",
            "         7       22892.9555            1.18m\n",
            "         8       22168.1865            1.17m\n",
            "         9       21522.0933            1.15m\n",
            "        10       20927.7067            1.14m\n",
            "        11       20400.8596            1.12m\n",
            "        12       19887.2237            1.11m\n",
            "        13       19442.7438            1.10m\n",
            "        14       19039.1567            1.09m\n",
            "        15       18650.7922            1.08m\n",
            "        16       18285.1090            1.06m\n",
            "        17       17933.5691            1.05m\n",
            "        18       17634.8198            1.04m\n",
            "        19       17346.7659            1.03m\n",
            "        20       17063.5419            1.01m\n",
            "        21       16757.5193            1.00m\n",
            "        22       16517.4586           59.36s\n",
            "        23       16299.2814           58.53s\n",
            "        24       16087.9619           57.73s\n",
            "        25       15891.2336           57.02s\n",
            "        26       15699.5218           56.21s\n",
            "        27       15502.0765           55.42s\n",
            "        28       15300.2866           54.70s\n",
            "        29       15104.7587           53.93s\n",
            "        30       14944.4662           53.08s\n",
            "        31       14798.7710           52.25s\n",
            "        32       14640.9629           51.43s\n",
            "        33       14477.9867           50.57s\n",
            "        34       14323.3487           49.76s\n",
            "        35       14173.0929           48.92s\n",
            "        36       14066.2023           48.08s\n",
            "        37       13942.4375           47.27s\n",
            "        38       13827.1625           46.46s\n",
            "        39       13694.7362           45.69s\n",
            "        40       13581.4618           44.92s\n",
            "        41       13482.4905           44.12s\n",
            "        42       13389.4142           43.31s\n",
            "        43       13274.6430           42.50s\n",
            "        44       13194.4641           41.73s\n",
            "        45       13089.7644           40.93s\n",
            "        46       12994.5648           40.15s\n",
            "        47       12921.8629           39.39s\n",
            "        48       12834.6040           38.64s\n",
            "        49       12743.3767           37.91s\n",
            "        50       12675.1042           37.16s\n",
            "        51       12599.9198           36.38s\n",
            "        52       12519.7480           35.64s\n",
            "        53       12436.3114           34.92s\n",
            "        54       12381.6095           34.15s\n",
            "        55       12288.4874           33.40s\n",
            "        56       12217.9791           32.64s\n",
            "        57       12144.1647           31.87s\n",
            "        58       12073.3370           31.12s\n",
            "        59       12008.1559           30.35s\n",
            "        60       11966.1324           29.61s\n",
            "        61       11873.8594           28.86s\n",
            "        62       11820.6816           28.11s\n",
            "        63       11763.9273           27.34s\n",
            "        64       11702.6196           26.59s\n",
            "        65       11652.0075           25.86s\n",
            "        66       11597.1751           25.12s\n",
            "        67       11550.5842           24.36s\n",
            "        68       11511.0665           23.61s\n",
            "        69       11450.3656           22.85s\n",
            "        70       11383.9909           22.10s\n",
            "        71       11334.0384           21.35s\n",
            "        72       11271.7811           20.61s\n",
            "        73       11219.5592           19.85s\n",
            "        74       11169.1504           19.11s\n",
            "        75       11118.1054           18.37s\n",
            "        76       11066.9567           17.64s\n",
            "        77       11016.2492           16.90s\n",
            "        78       10978.6650           16.16s\n",
            "        79       10919.7403           15.42s\n",
            "        80       10877.9397           14.68s\n",
            "        81       10827.5405           13.94s\n",
            "        82       10782.5308           13.20s\n",
            "        83       10715.5812           12.46s\n",
            "        84       10670.0940           11.72s\n",
            "        85       10622.8928           10.98s\n",
            "        86       10565.1085           10.24s\n",
            "        87       10529.6317            9.51s\n",
            "        88       10486.3677            8.77s\n",
            "        89       10455.5334            8.04s\n",
            "        90       10423.6779            7.30s\n",
            "        91       10383.0789            6.56s\n",
            "        92       10321.5319            5.83s\n",
            "        93       10287.6308            5.10s\n",
            "        94       10258.0055            4.37s\n",
            "        95       10219.3042            3.64s\n",
            "        96       10171.3923            2.91s\n",
            "        97       10133.5690            2.18s\n",
            "        98       10079.9319            1.45s\n",
            "        99       10047.5330            0.73s\n",
            "       100       10008.5662            0.00s\n"
          ],
          "name": "stdout"
        },
        {
          "output_type": "execute_result",
          "data": {
            "text/plain": [
              "78.9"
            ]
          },
          "metadata": {
            "tags": []
          },
          "execution_count": 23
        }
      ]
    },
    {
      "cell_type": "code",
      "metadata": {
        "colab": {
          "base_uri": "https://localhost:8080/"
        },
        "id": "Kr0ZqCy_0oAA",
        "outputId": "eb31ffc5-1702-439e-99b5-5f5cc1abae8f"
      },
      "source": [
        "joblib.dump(GB, 'save_model_GB.pkl')"
      ],
      "execution_count": null,
      "outputs": [
        {
          "output_type": "execute_result",
          "data": {
            "text/plain": [
              "['save_model_GB.pkl']"
            ]
          },
          "metadata": {
            "tags": []
          },
          "execution_count": 24
        }
      ]
    },
    {
      "cell_type": "markdown",
      "metadata": {
        "id": "kH8i4G801_kn"
      },
      "source": [
        "Comparing model results"
      ]
    },
    {
      "cell_type": "code",
      "metadata": {
        "id": "DC3Bz7b72CvJ"
      },
      "source": [
        "models = pd.DataFrame({\n",
        "    'Model': ['Random Forest','Support Vector',\"XGBoost\",  \n",
        "              \"Bagging Classifier\",\n",
        "              'Gradient Boosting Classifier',],\n",
        "    'Score': [acc_rfc, acc_SVC, acc_xgb, \n",
        "              acc_BC,acc_GB]})\n",
        "\n",
        "sorted_by_score = models.sort_values(by='Score', ascending=False)"
      ],
      "execution_count": null,
      "outputs": []
    },
    {
      "cell_type": "code",
      "metadata": {
        "colab": {
          "base_uri": "https://localhost:8080/",
          "height": 327
        },
        "id": "ahI91zzO3x1l",
        "outputId": "131c7192-29ba-4211-e4be-51b823ec8f08"
      },
      "source": [
        "sns.barplot(x='Score', y = 'Model', data = sorted_by_score, color = 'r')\n",
        "\n",
        "plt.title('Machine Learning Algorithm Accuracy Score \\n')\n",
        "plt.xlabel('Accuracy Score on validation data (%)')\n",
        "plt.ylabel('Model')"
      ],
      "execution_count": null,
      "outputs": [
        {
          "output_type": "execute_result",
          "data": {
            "text/plain": [
              "Text(0, 0.5, 'Model')"
            ]
          },
          "metadata": {
            "tags": []
          },
          "execution_count": 28
        },
        {
          "output_type": "display_data",
          "data": {
            "image/png": "[encoded data removed]",
            "text/plain": [
              "<Figure size 432x288 with 1 Axes>"
            ]
          },
          "metadata": {
            "tags": [],
            "needs_background": "light"
          }
        }
      ]
    },
    {
      "cell_type": "markdown",
      "metadata": {
        "id": "mxUE10il4kd0"
      },
      "source": [
        "#Observations:\n",
        "\n",
        "##Top 3 models are\n",
        "\n",
        "*   Random Forest\n",
        "*   Gradient Boosting classifier\n",
        "*   Bagging Classifier\n",
        "\n",
        "\n",
        "\n"
      ]
    },
    {
      "cell_type": "markdown",
      "metadata": {
        "id": "rPo5wiI15GF6"
      },
      "source": [
        "#Part 4: Hyperparameter tuning\n",
        "\n",
        "#using Grid Search method"
      ]
    },
    {
      "cell_type": "markdown",
      "metadata": {
        "id": "X1JKtHYC6905"
      },
      "source": [
        "#1.Tuning for random forest "
      ]
    },
    {
      "cell_type": "code",
      "metadata": {
        "id": "SdAaX3Z68g8v"
      },
      "source": [
        "X = scalar.fit_transform(X)"
      ],
      "execution_count": null,
      "outputs": []
    },
    {
      "cell_type": "code",
      "metadata": {
        "colab": {
          "base_uri": "https://localhost:8080/",
          "height": 1000
        },
        "id": "MV8iYyF069WI",
        "outputId": "dd49dc66-59b2-4994-f4fe-c141b872ffae"
      },
      "source": [
        "from sklearn.model_selection import GridSearchCV\n",
        "\n",
        "rfc = RandomForestClassifier(criterion='entropy', n_estimators = 50,random_state=42)\n",
        "\n",
        "params = {\"min_samples_split\" : [4, 6, 8], \"n_estimators\" : [500, 700, 1000]}\n",
        "\n",
        "grid_search = GridSearchCV(estimator=rfc, cv=4, param_grid=params, verbose=5) \n",
        "\n",
        "grid_search.fit(X, y.values.ravel())\n",
        "\n"
      ],
      "execution_count": null,
      "outputs": [
        {
          "output_type": "stream",
          "text": [
            "Fitting 4 folds for each of 9 candidates, totalling 36 fits\n",
            "[CV] min_samples_split=4, n_estimators=500 ...........................\n"
          ],
          "name": "stdout"
        },
        {
          "output_type": "stream",
          "text": [
            "[Parallel(n_jobs=1)]: Using backend SequentialBackend with 1 concurrent workers.\n"
          ],
          "name": "stderr"
        },
        {
          "output_type": "stream",
          "text": [
            "[CV]  min_samples_split=4, n_estimators=500, score=0.788, total=  38.3s\n",
            "[CV] min_samples_split=4, n_estimators=500 ...........................\n"
          ],
          "name": "stdout"
        },
        {
          "output_type": "stream",
          "text": [
            "[Parallel(n_jobs=1)]: Done   1 out of   1 | elapsed:   38.3s remaining:    0.0s\n"
          ],
          "name": "stderr"
        },
        {
          "output_type": "stream",
          "text": [
            "[CV]  min_samples_split=4, n_estimators=500, score=0.774, total=  37.9s\n",
            "[CV] min_samples_split=4, n_estimators=500 ...........................\n"
          ],
          "name": "stdout"
        },
        {
          "output_type": "stream",
          "text": [
            "[Parallel(n_jobs=1)]: Done   2 out of   2 | elapsed:  1.3min remaining:    0.0s\n"
          ],
          "name": "stderr"
        },
        {
          "output_type": "stream",
          "text": [
            "[CV]  min_samples_split=4, n_estimators=500, score=0.790, total=  36.2s\n",
            "[CV] min_samples_split=4, n_estimators=500 ...........................\n"
          ],
          "name": "stdout"
        },
        {
          "output_type": "stream",
          "text": [
            "[Parallel(n_jobs=1)]: Done   3 out of   3 | elapsed:  1.9min remaining:    0.0s\n"
          ],
          "name": "stderr"
        },
        {
          "output_type": "stream",
          "text": [
            "[CV]  min_samples_split=4, n_estimators=500, score=0.788, total=  35.9s\n",
            "[CV] min_samples_split=4, n_estimators=700 ...........................\n"
          ],
          "name": "stdout"
        },
        {
          "output_type": "stream",
          "text": [
            "[Parallel(n_jobs=1)]: Done   4 out of   4 | elapsed:  2.5min remaining:    0.0s\n"
          ],
          "name": "stderr"
        },
        {
          "output_type": "stream",
          "text": [
            "[CV]  min_samples_split=4, n_estimators=700, score=0.787, total=  50.0s\n",
            "[CV] min_samples_split=4, n_estimators=700 ...........................\n",
            "[CV]  min_samples_split=4, n_estimators=700, score=0.773, total=  50.1s\n",
            "[CV] min_samples_split=4, n_estimators=700 ...........................\n",
            "[CV]  min_samples_split=4, n_estimators=700, score=0.790, total=  49.8s\n",
            "[CV] min_samples_split=4, n_estimators=700 ...........................\n",
            "[CV]  min_samples_split=4, n_estimators=700, score=0.788, total=  49.7s\n",
            "[CV] min_samples_split=4, n_estimators=1000 ..........................\n",
            "[CV]  min_samples_split=4, n_estimators=1000, score=0.788, total= 1.2min\n",
            "[CV] min_samples_split=4, n_estimators=1000 ..........................\n",
            "[CV]  min_samples_split=4, n_estimators=1000, score=0.774, total= 1.2min\n",
            "[CV] min_samples_split=4, n_estimators=1000 ..........................\n",
            "[CV]  min_samples_split=4, n_estimators=1000, score=0.789, total= 1.2min\n",
            "[CV] min_samples_split=4, n_estimators=1000 ..........................\n",
            "[CV]  min_samples_split=4, n_estimators=1000, score=0.788, total= 1.2min\n",
            "[CV] min_samples_split=6, n_estimators=500 ...........................\n",
            "[CV]  min_samples_split=6, n_estimators=500, score=0.790, total=  34.2s\n",
            "[CV] min_samples_split=6, n_estimators=500 ...........................\n",
            "[CV]  min_samples_split=6, n_estimators=500, score=0.778, total=  34.2s\n",
            "[CV] min_samples_split=6, n_estimators=500 ...........................\n",
            "[CV]  min_samples_split=6, n_estimators=500, score=0.788, total=  34.4s\n",
            "[CV] min_samples_split=6, n_estimators=500 ...........................\n",
            "[CV]  min_samples_split=6, n_estimators=500, score=0.792, total=  34.5s\n",
            "[CV] min_samples_split=6, n_estimators=700 ...........................\n",
            "[CV]  min_samples_split=6, n_estimators=700, score=0.789, total=  48.0s\n",
            "[CV] min_samples_split=6, n_estimators=700 ...........................\n",
            "[CV]  min_samples_split=6, n_estimators=700, score=0.779, total=  48.0s\n",
            "[CV] min_samples_split=6, n_estimators=700 ...........................\n",
            "[CV]  min_samples_split=6, n_estimators=700, score=0.788, total=  48.3s\n",
            "[CV] min_samples_split=6, n_estimators=700 ...........................\n",
            "[CV]  min_samples_split=6, n_estimators=700, score=0.791, total=  47.8s\n",
            "[CV] min_samples_split=6, n_estimators=1000 ..........................\n",
            "[CV]  min_samples_split=6, n_estimators=1000, score=0.789, total= 1.1min\n",
            "[CV] min_samples_split=6, n_estimators=1000 ..........................\n",
            "[CV]  min_samples_split=6, n_estimators=1000, score=0.778, total= 1.1min\n",
            "[CV] min_samples_split=6, n_estimators=1000 ..........................\n",
            "[CV]  min_samples_split=6, n_estimators=1000, score=0.789, total= 1.2min\n",
            "[CV] min_samples_split=6, n_estimators=1000 ..........................\n",
            "[CV]  min_samples_split=6, n_estimators=1000, score=0.791, total= 1.2min\n",
            "[CV] min_samples_split=8, n_estimators=500 ...........................\n",
            "[CV]  min_samples_split=8, n_estimators=500, score=0.790, total=  33.6s\n",
            "[CV] min_samples_split=8, n_estimators=500 ...........................\n",
            "[CV]  min_samples_split=8, n_estimators=500, score=0.779, total=  33.4s\n",
            "[CV] min_samples_split=8, n_estimators=500 ...........................\n",
            "[CV]  min_samples_split=8, n_estimators=500, score=0.791, total=  33.5s\n",
            "[CV] min_samples_split=8, n_estimators=500 ...........................\n",
            "[CV]  min_samples_split=8, n_estimators=500, score=0.792, total=  33.7s\n",
            "[CV] min_samples_split=8, n_estimators=700 ...........................\n",
            "[CV]  min_samples_split=8, n_estimators=700, score=0.791, total=  46.3s\n",
            "[CV] min_samples_split=8, n_estimators=700 ...........................\n",
            "[CV]  min_samples_split=8, n_estimators=700, score=0.779, total=  46.4s\n",
            "[CV] min_samples_split=8, n_estimators=700 ...........................\n",
            "[CV]  min_samples_split=8, n_estimators=700, score=0.791, total=  46.7s\n",
            "[CV] min_samples_split=8, n_estimators=700 ...........................\n",
            "[CV]  min_samples_split=8, n_estimators=700, score=0.793, total=  46.1s\n",
            "[CV] min_samples_split=8, n_estimators=1000 ..........................\n",
            "[CV]  min_samples_split=8, n_estimators=1000, score=0.791, total= 1.1min\n",
            "[CV] min_samples_split=8, n_estimators=1000 ..........................\n",
            "[CV]  min_samples_split=8, n_estimators=1000, score=0.779, total= 1.1min\n",
            "[CV] min_samples_split=8, n_estimators=1000 ..........................\n",
            "[CV]  min_samples_split=8, n_estimators=1000, score=0.792, total= 1.2min\n",
            "[CV] min_samples_split=8, n_estimators=1000 ..........................\n",
            "[CV]  min_samples_split=8, n_estimators=1000, score=0.792, total= 1.2min\n"
          ],
          "name": "stdout"
        },
        {
          "output_type": "stream",
          "text": [
            "[Parallel(n_jobs=1)]: Done  36 out of  36 | elapsed: 30.6min finished\n"
          ],
          "name": "stderr"
        },
        {
          "output_type": "error",
          "ename": "AttributeError",
          "evalue": "ignored",
          "traceback": [
            "\u001b[0;31m---------------------------------------------------------------------------\u001b[0m",
            "\u001b[0;31mAttributeError\u001b[0m                            Traceback (most recent call last)",
            "\u001b[0;32m<ipython-input-32-8b74299123bc>\u001b[0m in \u001b[0;36m<module>\u001b[0;34m()\u001b[0m\n\u001b[1;32m      9\u001b[0m \u001b[0mgrid_search\u001b[0m\u001b[0;34m.\u001b[0m\u001b[0mfit\u001b[0m\u001b[0;34m(\u001b[0m\u001b[0mX\u001b[0m\u001b[0;34m,\u001b[0m \u001b[0my\u001b[0m\u001b[0;34m.\u001b[0m\u001b[0mvalues\u001b[0m\u001b[0;34m.\u001b[0m\u001b[0mravel\u001b[0m\u001b[0;34m(\u001b[0m\u001b[0;34m)\u001b[0m\u001b[0;34m)\u001b[0m\u001b[0;34m\u001b[0m\u001b[0;34m\u001b[0m\u001b[0m\n\u001b[1;32m     10\u001b[0m \u001b[0;34m\u001b[0m\u001b[0m\n\u001b[0;32m---> 11\u001b[0;31m \u001b[0mprint\u001b[0m\u001b[0;34m(\u001b[0m\u001b[0mgrid_search\u001b[0m\u001b[0;34m.\u001b[0m\u001b[0mbestscore\u001b[0m\u001b[0;34m)\u001b[0m\u001b[0;34m\u001b[0m\u001b[0;34m\u001b[0m\u001b[0m\n\u001b[0m\u001b[1;32m     12\u001b[0m \u001b[0mprint\u001b[0m\u001b[0;34m(\u001b[0m\u001b[0mgrid_search\u001b[0m\u001b[0;34m.\u001b[0m\u001b[0mbestparams\u001b[0m\u001b[0;34m)\u001b[0m\u001b[0;34m\u001b[0m\u001b[0;34m\u001b[0m\u001b[0m\n",
            "\u001b[0;31mAttributeError\u001b[0m: 'GridSearchCV' object has no attribute 'bestscore'"
          ]
        }
      ]
    },
    {
      "cell_type": "code",
      "metadata": {
        "colab": {
          "base_uri": "https://localhost:8080/"
        },
        "id": "-YTjKVkdEueX",
        "outputId": "528ff32e-2aa2-4159-e736-6be850646478"
      },
      "source": [
        "print(grid_search.best_score_)"
      ],
      "execution_count": null,
      "outputs": [
        {
          "output_type": "stream",
          "text": [
            "0.7885299117394772\n"
          ],
          "name": "stdout"
        }
      ]
    },
    {
      "cell_type": "code",
      "metadata": {
        "colab": {
          "base_uri": "https://localhost:8080/"
        },
        "id": "Fv7LY12lFF86",
        "outputId": "3db0cae6-db7a-45b0-b7a2-b8abd453bf4c"
      },
      "source": [
        "print(grid_search.best_params_)"
      ],
      "execution_count": null,
      "outputs": [
        {
          "output_type": "stream",
          "text": [
            "{'min_samples_split': 8, 'n_estimators': 1000}\n"
          ],
          "name": "stdout"
        }
      ]
    },
    {
      "cell_type": "markdown",
      "metadata": {
        "id": "ZhHYeuggFUpL"
      },
      "source": [
        "#Observations for random Forest:\n",
        "\n",
        "##Best score: 0.7885299117394772\n",
        "##Best parameters : {'min_samples_split': 8, 'n_estimators': 1000}"
      ]
    },
    {
      "cell_type": "markdown",
      "metadata": {
        "id": "mEJDll9TCVj0"
      },
      "source": [
        "#2.Tuning for gradient Boosting Classifier"
      ]
    },
    {
      "cell_type": "code",
      "metadata": {
        "colab": {
          "base_uri": "https://localhost:8080/"
        },
        "id": "ARuNlP4zeBRU",
        "outputId": "a4017680-b67a-4c34-e3a1-cbeb175f8523"
      },
      "source": [
        "from sklearn.ensemble import GradientBoostingClassifier\n",
        "from sklearn.model_selection import RandomizedSearchCV\n",
        "\n",
        "GB = GradientBoostingClassifier(n_estimators=100, learning_rate=0.075, max_depth=14, max_features=1.0, min_samples_leaf=16)\n",
        "\n",
        "param_dist = {\"n_estimators\" : [50,100, 150], \"learning_rate\":[0.05, 0.025, 0.075, 0.01], \"max_depth\" : [12,13,14], \"min_samples_leaf\":[14,15,16,17], \"max_features\" : [0.5,0.3,0.7,1.0]}\n",
        "\n",
        "rs = RandomizedSearchCV(estimator=GB, param_distributions=param_dist, scoring='accuracy', cv=10, n_iter=10, n_jobs=-1)\n",
        "\n",
        "rs.fit(X, y)"
      ],
      "execution_count": null,
      "outputs": [
        {
          "output_type": "execute_result",
          "data": {
            "text/plain": [
              "RandomizedSearchCV(cv=10, error_score=nan,\n",
              "                   estimator=GradientBoostingClassifier(ccp_alpha=0.0,\n",
              "                                                        criterion='friedman_mse',\n",
              "                                                        init=None,\n",
              "                                                        learning_rate=0.075,\n",
              "                                                        loss='deviance',\n",
              "                                                        max_depth=14,\n",
              "                                                        max_features=1.0,\n",
              "                                                        max_leaf_nodes=None,\n",
              "                                                        min_impurity_decrease=0.0,\n",
              "                                                        min_impurity_split=None,\n",
              "                                                        min_samples_leaf=16,\n",
              "                                                        min_samples_split=2,\n",
              "                                                        min_weight_fraction_leaf=0.0,\n",
              "                                                        n_estimators=100,\n",
              "                                                        n...\n",
              "                                                        verbose=0,\n",
              "                                                        warm_start=False),\n",
              "                   iid='deprecated', n_iter=10, n_jobs=-1,\n",
              "                   param_distributions={'learning_rate': [0.05, 0.025, 0.075,\n",
              "                                                          0.01],\n",
              "                                        'max_depth': [12, 13, 14],\n",
              "                                        'max_features': [0.5, 0.3, 0.7, 1.0],\n",
              "                                        'min_samples_leaf': [14, 15, 16, 17],\n",
              "                                        'n_estimators': [50, 100, 150]},\n",
              "                   pre_dispatch='2*n_jobs', random_state=None, refit=True,\n",
              "                   return_train_score=False, scoring='accuracy', verbose=0)"
            ]
          },
          "metadata": {
            "tags": []
          },
          "execution_count": 9
        }
      ]
    },
    {
      "cell_type": "code",
      "metadata": {
        "colab": {
          "base_uri": "https://localhost:8080/"
        },
        "id": "QTWN4cuSN_hy",
        "outputId": "82ba9f61-e723-4f79-d667-9ee98b8e745a"
      },
      "source": [
        "print(rs.best_score_)"
      ],
      "execution_count": null,
      "outputs": [
        {
          "output_type": "stream",
          "text": [
            "0.7904377104377105\n"
          ],
          "name": "stdout"
        }
      ]
    },
    {
      "cell_type": "code",
      "metadata": {
        "colab": {
          "base_uri": "https://localhost:8080/"
        },
        "id": "HStTHNUNOBMh",
        "outputId": "17461668-7897-461e-e979-5872d4d125c9"
      },
      "source": [
        "print(rs.best_params_)"
      ],
      "execution_count": null,
      "outputs": [
        {
          "output_type": "stream",
          "text": [
            "{'n_estimators': 150, 'min_samples_leaf': 16, 'max_features': 0.5, 'max_depth': 12, 'learning_rate': 0.075}\n"
          ],
          "name": "stdout"
        }
      ]
    },
    {
      "cell_type": "markdown",
      "metadata": {
        "id": "BiWm1wmeOPHP"
      },
      "source": [
        "#Observations for gradient boosting classifier tuning:\n",
        "\n",
        "#Best Score: 0.7904377104377105\n",
        "\n",
        "#Best Parameters: {'n_estimators': 150, 'min_samples_leaf': 16, 'max_features': 0.5, 'max_depth': 12, 'learning_rate': 0.075}"
      ]
    },
    {
      "cell_type": "markdown",
      "metadata": {
        "id": "FioNnrxURNtQ"
      },
      "source": [
        "#3. Tuning for Bagging Classifier"
      ]
    },
    {
      "cell_type": "code",
      "metadata": {
        "colab": {
          "base_uri": "https://localhost:8080/"
        },
        "id": "mb8inOT6OHha",
        "outputId": "f1ae8fd1-2c5c-4e51-d87c-aee1f2b6383a"
      },
      "source": [
        "from sklearn.ensemble import BaggingClassifier\n",
        "from sklearn.model_selection import GridSearchCV\n",
        "\n",
        "BC = BaggingClassifier(n_estimators=100,random_state=42)\n",
        "\n",
        "params_BC = {\"n_estimators\" : [ 100, 150,200]}\n",
        "grid_search1 = GridSearchCV(estimator=BC, cv=4, param_grid=params_BC, verbose=5) \n",
        "\n",
        "grid_search1.fit(X, y.values.ravel())"
      ],
      "execution_count": null,
      "outputs": [
        {
          "output_type": "stream",
          "text": [
            "Fitting 4 folds for each of 3 candidates, totalling 12 fits\n",
            "[CV] n_estimators=100 ................................................\n"
          ],
          "name": "stdout"
        },
        {
          "output_type": "stream",
          "text": [
            "[Parallel(n_jobs=1)]: Using backend SequentialBackend with 1 concurrent workers.\n"
          ],
          "name": "stderr"
        },
        {
          "output_type": "stream",
          "text": [
            "[CV] .................... n_estimators=100, score=0.776, total=  46.3s\n",
            "[CV] n_estimators=100 ................................................\n"
          ],
          "name": "stdout"
        },
        {
          "output_type": "stream",
          "text": [
            "[Parallel(n_jobs=1)]: Done   1 out of   1 | elapsed:   46.3s remaining:    0.0s\n"
          ],
          "name": "stderr"
        },
        {
          "output_type": "stream",
          "text": [
            "[CV] .................... n_estimators=100, score=0.763, total=  46.5s\n",
            "[CV] n_estimators=100 ................................................\n"
          ],
          "name": "stdout"
        },
        {
          "output_type": "stream",
          "text": [
            "[Parallel(n_jobs=1)]: Done   2 out of   2 | elapsed:  1.5min remaining:    0.0s\n"
          ],
          "name": "stderr"
        },
        {
          "output_type": "stream",
          "text": [
            "[CV] .................... n_estimators=100, score=0.773, total=  45.8s\n",
            "[CV] n_estimators=100 ................................................\n"
          ],
          "name": "stdout"
        },
        {
          "output_type": "stream",
          "text": [
            "[Parallel(n_jobs=1)]: Done   3 out of   3 | elapsed:  2.3min remaining:    0.0s\n"
          ],
          "name": "stderr"
        },
        {
          "output_type": "stream",
          "text": [
            "[CV] .................... n_estimators=100, score=0.772, total=  45.5s\n",
            "[CV] n_estimators=150 ................................................\n"
          ],
          "name": "stdout"
        },
        {
          "output_type": "stream",
          "text": [
            "[Parallel(n_jobs=1)]: Done   4 out of   4 | elapsed:  3.1min remaining:    0.0s\n"
          ],
          "name": "stderr"
        },
        {
          "output_type": "stream",
          "text": [
            "[CV] .................... n_estimators=150, score=0.777, total= 1.1min\n",
            "[CV] n_estimators=150 ................................................\n",
            "[CV] .................... n_estimators=150, score=0.765, total= 1.1min\n",
            "[CV] n_estimators=150 ................................................\n",
            "[CV] .................... n_estimators=150, score=0.775, total= 1.1min\n",
            "[CV] n_estimators=150 ................................................\n",
            "[CV] .................... n_estimators=150, score=0.773, total= 1.1min\n",
            "[CV] n_estimators=200 ................................................\n",
            "[CV] .................... n_estimators=200, score=0.775, total= 1.5min\n",
            "[CV] n_estimators=200 ................................................\n",
            "[CV] .................... n_estimators=200, score=0.764, total= 1.6min\n",
            "[CV] n_estimators=200 ................................................\n",
            "[CV] .................... n_estimators=200, score=0.777, total= 1.6min\n",
            "[CV] n_estimators=200 ................................................\n",
            "[CV] .................... n_estimators=200, score=0.773, total= 1.5min\n"
          ],
          "name": "stdout"
        },
        {
          "output_type": "stream",
          "text": [
            "[Parallel(n_jobs=1)]: Done  12 out of  12 | elapsed: 13.8min finished\n"
          ],
          "name": "stderr"
        },
        {
          "output_type": "execute_result",
          "data": {
            "text/plain": [
              "GridSearchCV(cv=4, error_score=nan,\n",
              "             estimator=BaggingClassifier(base_estimator=None, bootstrap=True,\n",
              "                                         bootstrap_features=False,\n",
              "                                         max_features=1.0, max_samples=1.0,\n",
              "                                         n_estimators=100, n_jobs=None,\n",
              "                                         oob_score=False, random_state=42,\n",
              "                                         verbose=0, warm_start=False),\n",
              "             iid='deprecated', n_jobs=None,\n",
              "             param_grid={'n_estimators': [100, 150, 200]},\n",
              "             pre_dispatch='2*n_jobs', refit=True, return_train_score=False,\n",
              "             scoring=None, verbose=5)"
            ]
          },
          "metadata": {
            "tags": []
          },
          "execution_count": 25
        }
      ]
    },
    {
      "cell_type": "code",
      "metadata": {
        "colab": {
          "base_uri": "https://localhost:8080/"
        },
        "id": "Y1JMizcqUBXn",
        "outputId": "06315b91-9ebe-44dd-c107-4024f36fa712"
      },
      "source": [
        "print(grid_search1.best_score_)"
      ],
      "execution_count": null,
      "outputs": [
        {
          "output_type": "stream",
          "text": [
            "0.7724579835465678\n"
          ],
          "name": "stdout"
        }
      ]
    },
    {
      "cell_type": "code",
      "metadata": {
        "colab": {
          "base_uri": "https://localhost:8080/"
        },
        "id": "GxIu4PQWUEC3",
        "outputId": "19034b0b-c2ec-414a-f3c3-2b733ff19653"
      },
      "source": [
        "print(grid_search1.best_params_)"
      ],
      "execution_count": null,
      "outputs": [
        {
          "output_type": "stream",
          "text": [
            "{'n_estimators': 150}\n"
          ],
          "name": "stdout"
        }
      ]
    },
    {
      "cell_type": "markdown",
      "metadata": {
        "id": "fR9f_y5Nae-b"
      },
      "source": [
        "#Observations for bagging Classifier\n",
        "\n",
        "#Best Score :0.7724579835465678\n",
        "\n",
        "#Best parameters: {'n_estimators': 150}"
      ]
    },
    {
      "cell_type": "markdown",
      "metadata": {
        "id": "9z4HME8J0_J4"
      },
      "source": [
        "#Continuing this assignment in part3"
      ]
    },
    {
      "cell_type": "markdown",
      "metadata": {
        "id": "nQ4wWMkXwpIh"
      },
      "source": [
        "#Credits:\n",
        "1. RandomFOrestClassifier : https://scikit-learn.org/stable/modules/generated/sklearn.ensemble.RandomForestClassifier.html\n",
        "\n",
        "2. XG boost : https://machinelearningmastery.com/develop-first-xgboost-model-python-scikit-learn/#:~:text=XGBoost%20provides%20a%20wrapper%20class,in%20the%20scikit%2Dlearn%20framework.&text=The%20XGBoost%20model%20for%20classification,learn%20API%20and%20the%20model.\n",
        "\n",
        "3. Grid Search CV : https://www.mygreatlearning.com/blog/gridsearchcv/"
      ]
    }
  ]
}